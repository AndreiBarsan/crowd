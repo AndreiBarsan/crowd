{
 "cells": [
  {
   "cell_type": "markdown",
   "metadata": {},
   "source": [
    "# Majority Voting Experiments\n",
    "\n",
    "This is the default voting technique used in simple crowdsourcing systems.\n",
    "\n",
    "\n",
    "## TODO\n",
    " * Finish debugging implementation\n",
    " * Sort out some of the code duplication."
   ]
  },
  {
   "cell_type": "code",
   "execution_count": 1,
   "metadata": {
    "collapsed": true
   },
   "outputs": [],
   "source": [
    "import matplotlib.pyplot as plt\n",
    "import numpy as np\n",
    "\n",
    "import datetime\n",
    "import io\n",
    "import os\n",
    "import random\n",
    "\n",
    "from sklearn.externals.joblib import Parallel, delayed\n",
    "\n",
    "%matplotlib inline"
   ]
  },
  {
   "cell_type": "code",
   "execution_count": 19,
   "metadata": {
    "collapsed": true
   },
   "outputs": [],
   "source": [
    "np.random.seed(0xF00F1E2)\n",
    "random.seed(0xF00F1E2)"
   ]
  },
  {
   "cell_type": "code",
   "execution_count": 3,
   "metadata": {
    "collapsed": true
   },
   "outputs": [],
   "source": [
    "%run ../crowd/data.py\n",
    "%run ../crowd/config.py\n",
    "%run ../crowd/file_util.py\n",
    "%run ../crowd/graph.py\n",
    "%run ../crowd/topic.py"
   ]
  },
  {
   "cell_type": "markdown",
   "metadata": {},
   "source": [
    "## Load data"
   ]
  },
  {
   "cell_type": "code",
   "execution_count": 4,
   "metadata": {
    "collapsed": true
   },
   "outputs": [],
   "source": [
    "id_topic_info = load_topic_metadata()\n",
    "judgements = read_useful_judgement_labels(JUDGEMENT_FILE)\n",
    "test_data = read_all_test_labels()"
   ]
  },
  {
   "cell_type": "code",
   "execution_count": 5,
   "metadata": {
    "collapsed": false,
    "scrolled": true
   },
   "outputs": [
    {
     "name": "stdout",
     "output_type": "stream",
     "text": [
      "46319 total useful votes, a.k.a. judgements.\n"
     ]
    }
   ],
   "source": [
    "print(\"{0} total useful votes, a.k.a. judgements.\".format(len(judgements)))"
   ]
  },
  {
   "cell_type": "code",
   "execution_count": 6,
   "metadata": {
    "collapsed": true
   },
   "outputs": [],
   "source": [
    "DEFAULT_BUDGET = 250\n",
    "COIN_FLIP = \"COIN_FLIP\"\n",
    "\n",
    "# Use all cores for parallel stuff.\n",
    "N_CORES = -1"
   ]
  },
  {
   "cell_type": "code",
   "execution_count": 7,
   "metadata": {
    "collapsed": true
   },
   "outputs": [],
   "source": [
    "def count_votes(votes):\n",
    "    relevant_votes = 0\n",
    "    non_relevant_votes = 0\n",
    "    for vote in votes:\n",
    "        if vote.is_relevant > 0:\n",
    "            relevant_votes += 1\n",
    "        elif vote.is_relevant == 0:\n",
    "            non_relevant_votes += 1\n",
    "        else:\n",
    "            raise ValueError(\"Non 0/1 vote.\")\n",
    "    \n",
    "    return relevant_votes, non_relevant_votes\n",
    "\n",
    "\n",
    "def get_document_with_least_votes(vote_map):\n",
    "    # TODO(andrei) Use heap, or even integrate in graph.\n",
    "    # Sort the map by the values and return the key with the smallest value.\n",
    "    return (sorted(vote_map.items(), key=lambda i: len(i[1])))[0][0]\n",
    "\n",
    "\n",
    "def request_vote(topic_judgements, document_id):\n",
    "    votes = topic_judgements[document_id]\n",
    "    if len(votes) == 0:\n",
    "        print(\"No votes found for document [{}].\".format(document_id))\n",
    "        return None\n",
    "    \n",
    "    vote = random.choice(votes)\n",
    "    return vote"
   ]
  },
  {
   "cell_type": "code",
   "execution_count": 8,
   "metadata": {
    "collapsed": true
   },
   "outputs": [],
   "source": [
    "def full_mv_aggregation(document_id, topic_judgements):\n",
    "    \"\"\"Compute the voter consensus for the specified document.\n",
    "    \n",
    "    Calculation perform directly on all votes, without relying on any\n",
    "    sampling.\n",
    "    \"\"\"\n",
    "    \n",
    "    if document_id not in topic_judgements:\n",
    "        raise ValueError(\"Document ID#{0} doesn't have any votes to aggregate.\".format(document_id))\n",
    "        \n",
    "    votes = topic_judgements[document_id]\n",
    "    rel_votes, non_rel_votes = count_votes(votes)\n",
    "\n",
    "    if rel_votes == 0 and non_rel_votes == 0:\n",
    "        raise ValueError(\"No votes for ground truth document ID#{0}. That's a shame.\".format(document_id))\n",
    "        \n",
    "    return rel_votes >= non_rel_votes"
   ]
  },
  {
   "cell_type": "code",
   "execution_count": 13,
   "metadata": {
    "collapsed": true
   },
   "outputs": [],
   "source": [
    "def evaluate_iteration(topic_graph, topic_judgements, ground_truth, vote_aggregation, **kw):\n",
    "    \"\"\" Performs a single iteration of a learning curve simulation.\n",
    "    \n",
    "    Please see the 'evaluate' function for more information.\n",
    "    \"\"\"\n",
    "    \n",
    "    # The votes we aggregated so far.\n",
    "    # Don't keep track of anything for which we don't have the ground truth,\n",
    "    # since there's no way to evaluate that.\n",
    "    votes = {n.document_id: [] for n in topic_graph.nodes\n",
    "             if n.document_id in ground_truth}\n",
    "\n",
    "    budget = kw['budget'] if 'budget' in kw else DEFAULT_BUDGET\n",
    "    # How often we actually want to compute the accuracy, in terms of votes sampled.\n",
    "    # We likely don't need to recompute everything after every single new vote.\n",
    "    accuracy_every = kw['accuracy_every'] if 'accuracy_every' in kw else 1\n",
    "    \n",
    "    # TODO(andrei) Numpyfy: accuracies = np.zeros(budget // accuracy_every)\n",
    "    accuracies = []\n",
    "    for i in range(budget):\n",
    "        # 1. Pick document (with lowest number of votes)\n",
    "        document_id = get_document_with_least_votes(votes)\n",
    "\n",
    "        # 2. Request a vote for that document (sample with replacement)\n",
    "        vote = request_vote(topic_judgements, document_id)\n",
    "        votes[document_id].append(vote)\n",
    "\n",
    "        if i % accuracy_every == 0:\n",
    "            # 3. Perform the aggregation\n",
    "            evaluated_judgements = vote_aggregation(topic_graph, votes)\n",
    "\n",
    "            # 4. Measure accuracy\n",
    "            accuracy = measure_accuracy(evaluated_judgements, ground_truth, topic_judgements)\n",
    "            accuracies.append(accuracy)\n",
    "            \n",
    "    return accuracies"
   ]
  },
  {
   "cell_type": "code",
   "execution_count": 14,
   "metadata": {
    "collapsed": true
   },
   "outputs": [],
   "source": [
    "def evaluate(topic_graph, topic_judgements, ground_truth, vote_aggregation, **kw):\n",
    "    \"\"\" Evaluates a vote aggregation strategy for the specified topic.\n",
    "    \n",
    "    Args:\n",
    "        topic_graph: The document graph of the topic on which we want to\n",
    "            perform the evaluation.\n",
    "        topic_judgements: The votes from which we sampled, as a map from\n",
    "            document ID to a list of 'JudgementRecord's.\n",
    "        ground_truth: A map of document IDs ground truth 'ExpertJudgement's.\n",
    "        vote_aggregation: Function used to aggregate a document's votes and\n",
    "            produce a final judgement.\n",
    "            \n",
    "    Returns:\n",
    "        TODO(andrei) TBD    \n",
    "        \n",
    "    Notes:\n",
    "        TODO(andrei) Consider using loggers to control output verbosity.\n",
    "        \n",
    "    \"\"\"\n",
    "    iterations = kw['iterations'] if 'iterations' in kw else 10\n",
    "    progress_every = kw['progress_every'] if 'progress_every' in kw else 50\n",
    "    # verbose = kw['verbose'] if 'verbose' in kw else False\n",
    "        \n",
    "#     print(\"Performing evaluation of topic [{}].\".format(topic_graph.topic))\n",
    "#     print(\"Aggregation function: [{}]\".format(vote_aggregation))\n",
    "    \n",
    "    all_accuracies = Parallel(n_jobs=N_CORES)(\n",
    "        delayed(evaluate_iteration)(topic_graph, topic_judgements, ground_truth, vote_aggregation, **kw) \n",
    "        for idx in range(iterations))\n",
    "\n",
    "#    for iteration in range(iterations):\n",
    "#         if progress_every != -1 and (iteration % progress_every == 0):\n",
    "#                 print(\"Iteration {}/{}.\".format(iteration + 1, iterations))\n",
    "\n",
    "#         accuracies = []\n",
    "#         all_accuracies.append(accuracies)\n",
    "        \n",
    "        \n",
    "\n",
    "    return all_accuracies"
   ]
  },
  {
   "cell_type": "code",
   "execution_count": 54,
   "metadata": {
    "collapsed": false
   },
   "outputs": [],
   "source": [
    "def aggregate_MV(topic_graph, votes):\n",
    "    \"\"\"The default way of aggregating crowdsourcing votes.\n",
    "    \n",
    "    Args:\n",
    "        topic_graph: The current topic's document graph. Not used.\n",
    "        votes: A map from document ID to a list of sampled 'JudgementRecord's.\n",
    "        \n",
    "    Returns:\n",
    "        A map which contains a boolean relevance for every document.\n",
    "    \"\"\"\n",
    "       \n",
    "    return {document_id: majority(document_votes)\n",
    "            for (document_id, document_votes) in votes.items()}\n",
    "            \n",
    "    \n",
    "def majority(votes, tie_handling=COIN_FLIP):\n",
    "    \"\"\"Computes the majority of a list of 'JudgementRecord's.\n",
    "    \n",
    "    Args:\n",
    "        votes: A list of 'JudgementRecord' objects.\n",
    "        tie_handling: An enum specifying how ties are to be treated.\n",
    "    \n",
    "    Returns:\n",
    "        A boolean indicating whether the consensus is \"relevant\".\n",
    "        Ties are broken as specified by the 'tie_handling' parameter.\n",
    "        \n",
    "    \"\"\"\n",
    "    # Note: mind the Nones!\n",
    "    relevant = len([vote for vote in votes if vote.is_relevant == True])\n",
    "    non_relevant = len([vote for vote in votes if vote.is_relevant == False])\n",
    "    \n",
    "    if relevant > non_relevant:\n",
    "         return True\n",
    "    elif relevant < non_relevant:\n",
    "         return False\n",
    "    elif tie_handling == COIN_FLIP:\n",
    "        return random.choice([True, False])\n",
    "    else:\n",
    "        raise ValueError(\"Unknown tie handling technique: [{}].\"\n",
    "                         .format(tie_handling))\n",
    "\n",
    "\n",
    "def measure_accuracy(evaluated_judgements, ground_truth, topic_judgements):\n",
    "    # TODO(andrei) Vectorize this computation as much as possible.\n",
    "    match = 0\n",
    "    fail = 0\n",
    "    \n",
    "    for doc_id in ground_truth:\n",
    "        # TODO(andrei) Don't make it this far with shitty data. Filter useless GTs earlier on!\n",
    "        # Unestabilshed relevance in ground truth.\n",
    "        if ground_truth[doc_id].label < 0:\n",
    "            continue\n",
    "            \n",
    "        gt_label = (ground_truth[doc_id].label > 0)        \n",
    "        evaluated_label = evaluated_judgements[doc_id]\n",
    "        if gt_label == evaluated_label:\n",
    "            match += 1\n",
    "        else:\n",
    "            fail += 1\n",
    "            \n",
    "    return match / (match + fail)\n",
    "\n",
    "\n",
    "def build_learning_curve(topic_id, **kw):\n",
    "    topic = id_topic_info[topic_id]\n",
    "    graph = build_document_graph(topic, FULLTEXT_FOLDER)\n",
    "    topic_judgements = get_topic_judgements_by_doc_id(topic_id, judgements)\n",
    "    topic_ground_truth = {truth.document_id: truth for truth in test_data\n",
    "                          if truth.topic_id == topic_id}\n",
    "    \n",
    "\n",
    "    # i.e. up to target_votes votes per doc, on average.\n",
    "    # TODO(andrei) Make this cleaner and more seamless.\n",
    "    max_votes = kw['max_votes'] if 'max_votes' in kw else 3\n",
    "    bud = len(topic_judgements) * max_votes\n",
    "    acc = evaluate(\n",
    "        graph,\n",
    "        topic_judgements,\n",
    "        topic_ground_truth,\n",
    "        aggregate_MV,\n",
    "        budget=bud,\n",
    "        **kw)\n",
    "\n",
    "    acc = np.array(acc)\n",
    "    acc_avg = np.mean(acc, axis=0)        \n",
    "    return acc_avg\n",
    "\n",
    "        \n",
    "def plot_mv_learning_curve(topic_id, **kw):\n",
    "    acc_avg = build_learning_curve(topic_id, **kw)\n",
    "    topic_judgements = get_topic_judgements_by_doc_id(topic_id, judgements)\n",
    "    plt.plot(np.arange(len(acc_avg)) / len(topic_judgements), acc_avg)\n",
    "    plt.xlabel(\"Mean votes per document\")\n",
    "    plt.ylabel(\"Accuracy\")\n",
    "    return acc_avg"
   ]
  },
  {
   "cell_type": "code",
   "execution_count": 58,
   "metadata": {
    "collapsed": false
   },
   "outputs": [
    {
     "name": "stdout",
     "output_type": "stream",
     "text": [
      "115\n",
      "0.792222222222\n"
     ]
    },
    {
     "data": {
      "image/png": "[encoded data removed]",
      "text/plain": [
       "<matplotlib.figure.Figure at 0x110adeef0>"
      ]
     },
     "metadata": {},
     "output_type": "display_data"
    }
   ],
   "source": [
    "# plot_mv_learning_curve('20910')\n",
    "#plot_mv_learning_curve('20996', iterations=50)\n",
    "acc_avg = plot_mv_learning_curve('20686', iterations=1500, max_votes=1)\n",
    "print(len(acc_avg))\n",
    "print(acc_avg[-1])"
   ]
  },
  {
   "cell_type": "code",
   "execution_count": 59,
   "metadata": {
    "collapsed": false
   },
   "outputs": [
    {
     "name": "stdout",
     "output_type": "stream",
     "text": [
      "Topic 1/30\n",
      "Topic 2/30\n",
      "WARNING: Found document not similar to itself while building document graph; document ID: clueweb09-en0007-59-12231.\n",
      "Topic 3/30\n",
      "Topic 4/30\n",
      "Topic 5/30\n",
      "Topic 6/30\n",
      "Topic 7/30\n",
      "Topic 8/30\n",
      "Topic 9/30\n",
      "Topic 10/30\n",
      "Topic 11/30\n",
      "Topic 12/30\n",
      "Topic 13/30\n",
      "Topic 14/30\n",
      "Topic 15/30\n",
      "Topic 16/30\n",
      "Topic 17/30\n",
      "Topic 18/30\n",
      "Topic 19/30\n",
      "Topic 20/30\n",
      "Topic 21/30\n",
      "Topic 22/30\n",
      "Topic 23/30\n",
      "WARNING: Found document not similar to itself while building document graph; document ID: clueweb09-en0001-81-25580.\n",
      "Topic 24/30\n",
      "Topic 25/30\n",
      "Topic 26/30\n",
      "Topic 27/30\n",
      "Topic 28/30\n",
      "Topic 29/30\n",
      "Topic 30/30\n"
     ]
    }
   ],
   "source": [
    "after_one_vote = {}\n",
    "topic_count = len(id_topic_info)\n",
    "\n",
    "for i, (topic_id, topic) in enumerate(id_topic_info.items()):\n",
    "    print(\"Topic %d/%d\" % (i + 1, topic_count))\n",
    "    data = build_learning_curve(\n",
    "        topic_id,\n",
    "        iterations=1000,\n",
    "        max_votes=1,\n",
    "        progress_every=-1)\n",
    "\n",
    "    after_one_vote[topic_id] = data[-1]    "
   ]
  },
  {
   "cell_type": "code",
   "execution_count": 60,
   "metadata": {
    "collapsed": false
   },
   "outputs": [],
   "source": [
    "paper_standard_mv = {\n",
    "    '20424': 0.594,\n",
    "    '20488': 0.667,\n",
    "    '20542': 0.676,\n",
    "    '20584': 0.689,\n",
    "    '20636': 0.716,\n",
    "    '20642': 0.693,\n",
    "    '20686': 0.693,\n",
    "    '20690': 0.703,\n",
    "    '20694': 0.726,\n",
    "    '20696': 0.562,\n",
    "    '20704': 0.670,\n",
    "    '20714': 0.808,\n",
    "    '20764': 0.676,\n",
    "    '20766': 0.796,\n",
    "    '20778': 0.652,\n",
    "    '20780': 0.641,\n",
    "    '20812': 0.688,\n",
    "    '20814': 0.792,\n",
    "    '20832': 0.630,\n",
    "    '20910': 0.661,\n",
    "    '20916': 0.650,\n",
    "    '20932': 0.576,\n",
    "    '20956': 0.616,\n",
    "    '20958': 0.610,\n",
    "    '20962': 0.552,\n",
    "    '20972': 0.668,\n",
    "    '20976': 0.632,\n",
    "    '20996': 0.542\n",
    "    # TODO(andrei) Add the rest.\n",
    "}\n",
    "\n",
    "def rmse_own_results(own_result_map):\n",
    "    rmse = 0.0\n",
    "    for topic_id, mv_score in paper_standard_mv.items():\n",
    "        rmse += abs(own_result_map[topic_id] - mv_score) ** 2\n",
    "    \n",
    "    rmse /= len(paper_standard_mv)\n",
    "    return rmse"
   ]
  },
  {
   "cell_type": "code",
   "execution_count": 61,
   "metadata": {
    "collapsed": false
   },
   "outputs": [
    {
     "name": "stdout",
     "output_type": "stream",
     "text": [
      "0.0098879072574\n"
     ]
    }
   ],
   "source": [
    "print(rmse_own_results(after_one_vote))"
   ]
  },
  {
   "cell_type": "markdown",
   "metadata": {},
   "source": [
    "* rmse = 0.44473 when comparing all votes to 0.0\n",
    "* rmse = 0.03119 when comparing all votes to 0.5\n",
    "* rmse = 0.01002 when running 500 iterations (30 Apr)\n",
    "* rmse = 0.00989 when running 1000 iterations (30 Apr)"
   ]
  },
  {
   "cell_type": "code",
   "execution_count": null,
   "metadata": {
    "collapsed": true
   },
   "outputs": [],
   "source": []
  }
 ],
 "metadata": {
  "kernelspec": {
   "display_name": "Python 3",
   "language": "python",
   "name": "python3"
  },
  "language_info": {
   "codemirror_mode": {
    "name": "ipython",
    "version": 3
   },
   "file_extension": ".py",
   "mimetype": "text/x-python",
   "name": "python",
   "nbconvert_exporter": "python",
   "pygments_lexer": "ipython3",
   "version": "3.5.1"
  }
 },
 "nbformat": 4,
 "nbformat_minor": 0
}
