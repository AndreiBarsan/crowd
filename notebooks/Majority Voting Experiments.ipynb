{
 "cells": [
  {
   "cell_type": "markdown",
   "metadata": {},
   "source": [
    "# Majority Voting Experiments\n",
    "\n",
    "Majority voting is the default voting technique used in simple crowdsourcing systems.\n",
    "In this notebook, we also experiment with a few simple techniques which rely on also looking at similar documents when aggregating votes.\n",
    "\n",
    "Good for looking at one topic at a time. For experiments over all topics, Euler is preferred!\n",
    "\n",
    "\n",
    "## TODO\n",
    " * Aggregate over topics and repeats (50-60ish)\n",
    " * Plot multiple curves on same graph.\n",
    " * RMSE evaluation of MVNN, compared to data in paper.\n",
    " * Sort out some of the code duplication."
   ]
  },
  {
   "cell_type": "code",
   "execution_count": 1,
   "metadata": {
    "collapsed": true
   },
   "outputs": [],
   "source": [
    "%load_ext autoreload"
   ]
  },
  {
   "cell_type": "code",
   "execution_count": 2,
   "metadata": {},
   "outputs": [
    {
     "name": "stdout",
     "output_type": "stream",
     "text": [
      "Current Python: /Users/andrei/anaconda3/envs/crowd/bin/python\n"
     ]
    }
   ],
   "source": [
    "from collections import OrderedDict\n",
    "from datetime import datetime\n",
    "import io\n",
    "import os\n",
    "import random\n",
    "import sys\n",
    "\n",
    "import ipywidgets as widgets\n",
    "from ipywidgets import interact, interactive, fixed\n",
    "import matplotlib.pyplot as plt\n",
    "import numpy as np\n",
    "import pandas as pd\n",
    "\n",
    "%matplotlib inline\n",
    "\n",
    "print(\"Current Python: {0}\".format(sys.executable))\n",
    "\n",
    "# This makes Jupyter pretend to be Pythonic and play well with modules.\n",
    "sys.path.append(os.path.expandvars(os.path.join(os.getcwd(), '..')))"
   ]
  },
  {
   "cell_type": "code",
   "execution_count": 3,
   "metadata": {},
   "outputs": [
    {
     "name": "stdout",
     "output_type": "stream",
     "text": [
      "/Users/andrei/workspace/crowd/notebooks\n",
      "/Users/andrei/workspace/crowd\n"
     ]
    }
   ],
   "source": [
    "if 'notebooks' in os.getcwd():\n",
    "    print(os.getcwd())\n",
    "    os.chdir('..')\n",
    "    print(os.getcwd())"
   ]
  },
  {
   "cell_type": "code",
   "execution_count": 4,
   "metadata": {
    "ExecuteTime": {
     "end_time": "2016-05-02T14:47:24.101326",
     "start_time": "2016-05-02T14:47:24.099095"
    },
    "collapsed": true
   },
   "outputs": [],
   "source": [
    "np.random.seed(0xF00F1E2)\n",
    "random.seed(0xF00F1E2)"
   ]
  },
  {
   "cell_type": "code",
   "execution_count": 5,
   "metadata": {
    "ExecuteTime": {
     "end_time": "2016-05-02T14:47:24.290008",
     "start_time": "2016-05-02T14:47:24.103501"
    }
   },
   "outputs": [
    {
     "name": "stderr",
     "output_type": "stream",
     "text": [
      "/Users/andrei/anaconda3/envs/crowd/lib/python3.6/site-packages/IPython/nbformat.py:13: ShimWarning: The `IPython.nbformat` package has been deprecated since IPython 4.0. You should import from nbformat instead.\n",
      "  \"You should import from nbformat instead.\", ShimWarning)\n"
     ]
    }
   ],
   "source": [
    "from crowd.aggregation import *\n",
    "from crowd.data import *\n",
    "from crowd.config import *\n",
    "from crowd.file_util import *\n",
    "from crowd.graph import *\n",
    "from crowd.graph_sampling import *\n",
    "from crowd.simulation import *\n",
    "from crowd.topic import *\n",
    "from crowd.util import *"
   ]
  },
  {
   "cell_type": "markdown",
   "metadata": {},
   "source": [
    "## Load data"
   ]
  },
  {
   "cell_type": "code",
   "execution_count": 7,
   "metadata": {
    "ExecuteTime": {
     "end_time": "2016-05-02T14:47:25.484265",
     "start_time": "2016-05-02T14:47:24.291169"
    }
   },
   "outputs": [
    {
     "name": "stdout",
     "output_type": "stream",
     "text": [
      "Building nx doc graph\n",
      "6 relevant documents\n",
      "4 non-relevant documents\n",
      "100 documents with votes\n",
      "99 hidden nodes (due to no data)\n",
      "Building nx doc graph\n",
      "6 relevant documents\n",
      "4 non-relevant documents\n",
      "110 documents with votes\n",
      "81 hidden nodes (due to no data)\n",
      "Building nx doc graph\n",
      "10 relevant documents\n",
      "5 non-relevant documents\n",
      "115 documents with votes\n",
      "54 hidden nodes (due to no data)\n",
      "Building nx doc graph\n",
      "26 relevant documents\n",
      "9 non-relevant documents\n",
      "105 documents with votes\n",
      "56 hidden nodes (due to no data)\n",
      "Building nx doc graph\n",
      "7 relevant documents\n",
      "3 non-relevant documents\n",
      "100 documents with votes\n",
      "82 hidden nodes (due to no data)\n",
      "Building nx doc graph\n",
      "13 relevant documents\n",
      "2 non-relevant documents\n",
      "115 documents with votes\n",
      "95 hidden nodes (due to no data)\n",
      "Building nx doc graph\n",
      "8 relevant documents\n",
      "7 non-relevant documents\n",
      "105 documents with votes\n",
      "59 hidden nodes (due to no data)\n",
      "Building nx doc graph\n",
      "11 relevant documents\n",
      "4 non-relevant documents\n",
      "115 documents with votes\n",
      "156 hidden nodes (due to no data)\n",
      "Building nx doc graph\n",
      "18 relevant documents\n",
      "7 non-relevant documents\n",
      "125 documents with votes\n",
      "80 hidden nodes (due to no data)\n",
      "Building nx doc graph\n",
      "12 relevant documents\n",
      "8 non-relevant documents\n",
      "100 documents with votes\n",
      "25 hidden nodes (due to no data)\n",
      "Building nx doc graph\n",
      "8 relevant documents\n",
      "2 non-relevant documents\n",
      "110 documents with votes\n",
      "143 hidden nodes (due to no data)\n",
      "Building nx doc graph\n",
      "5 relevant documents\n",
      "5 non-relevant documents\n",
      "90 documents with votes\n",
      "51 hidden nodes (due to no data)\n",
      "Building nx doc graph\n",
      "5 relevant documents\n",
      "5 non-relevant documents\n",
      "110 documents with votes\n",
      "92 hidden nodes (due to no data)\n",
      "Building nx doc graph\n",
      "7 relevant documents\n",
      "3 non-relevant documents\n",
      "100 documents with votes\n",
      "75 hidden nodes (due to no data)\n",
      "Building nx doc graph\n",
      "5 relevant documents\n",
      "5 non-relevant documents\n",
      "110 documents with votes\n",
      "77 hidden nodes (due to no data)\n",
      "Building nx doc graph\n",
      "5 relevant documents\n",
      "5 non-relevant documents\n",
      "110 documents with votes\n",
      "106 hidden nodes (due to no data)\n",
      "Building nx doc graph\n",
      "8 relevant documents\n",
      "7 non-relevant documents\n",
      "115 documents with votes\n",
      "143 hidden nodes (due to no data)\n",
      "Building nx doc graph\n",
      "10 relevant documents\n",
      "5 non-relevant documents\n",
      "115 documents with votes\n",
      "120 hidden nodes (due to no data)\n",
      "Building nx doc graph\n",
      "7 relevant documents\n",
      "3 non-relevant documents\n",
      "100 documents with votes\n",
      "66 hidden nodes (due to no data)\n",
      "Building nx doc graph\n",
      "8 relevant documents\n",
      "2 non-relevant documents\n",
      "100 documents with votes\n",
      "36 hidden nodes (due to no data)\n",
      "Building nx doc graph\n",
      "10 relevant documents\n",
      "5 non-relevant documents\n",
      "115 documents with votes\n",
      "27 hidden nodes (due to no data)\n",
      "Building nx doc graph\n",
      "8 relevant documents\n",
      "2 non-relevant documents\n",
      "110 documents with votes\n",
      "50 hidden nodes (due to no data)\n",
      "Building nx doc graph\n",
      "6 relevant documents\n",
      "4 non-relevant documents\n",
      "100 documents with votes\n",
      "97 hidden nodes (due to no data)\n",
      "Building nx doc graph\n",
      "12 relevant documents\n",
      "3 non-relevant documents\n",
      "115 documents with votes\n",
      "130 hidden nodes (due to no data)\n",
      "Building nx doc graph\n",
      "8 relevant documents\n",
      "2 non-relevant documents\n",
      "110 documents with votes\n",
      "101 hidden nodes (due to no data)\n",
      "Building nx doc graph\n",
      "7 relevant documents\n",
      "3 non-relevant documents\n",
      "100 documents with votes\n",
      "101 hidden nodes (due to no data)\n",
      "Building nx doc graph\n",
      "7 relevant documents\n",
      "3 non-relevant documents\n",
      "110 documents with votes\n",
      "85 hidden nodes (due to no data)\n",
      "Building nx doc graph\n",
      "9 relevant documents\n",
      "6 non-relevant documents\n",
      "90 documents with votes\n",
      "76 hidden nodes (due to no data)\n",
      "Building nx doc graph\n",
      "6 relevant documents\n",
      "4 non-relevant documents\n",
      "90 documents with votes\n",
      "116 hidden nodes (due to no data)\n",
      "Building nx doc graph\n",
      "9 relevant documents\n",
      "1 non-relevant documents\n",
      "110 documents with votes\n",
      "67 hidden nodes (due to no data)\n",
      "WARNING: Found document not similar to itself while building document graph; document ID: clueweb09-en0001-81-25580.\n",
      "WARNING: Found document not similar to itself while building document graph; document ID: clueweb09-en0007-59-12231.\n"
     ]
    }
   ],
   "source": [
    "SIM_THRESHOLD = 0.5\n",
    "DISCARD_EMPTY_NODES = True\n",
    "\n",
    "id_topic_info = load_topic_metadata()\n",
    "\n",
    "# TODO(andrei): Better names for these!\n",
    "judgements = read_useful_judgement_labels(JUDGEMENT_FILE)\n",
    "test_data = read_ground_truth()\n",
    "\n",
    "# TODO(andrei): Consider parallelizing this somehow.\n",
    "id_topic_nx_graph = {topic_id: build_nx_document_graph(topic,\n",
    "                                                       test_data,\n",
    "                                                       get_topic_judgements_by_doc_id(topic_id, judgements),\n",
    "                                                       FULLTEXT_FOLDER,\n",
    "                                                       sim_threshold=SIM_THRESHOLD,\n",
    "                                                       discard_empty=DISCARD_EMPTY_NODES)\n",
    "                     for topic_id, topic in id_topic_info.items()}\n",
    "id_topic_graph = {topic_id: build_document_graph(topic, FULLTEXT_FOLDER, sim_threshold=SIM_THRESHOLD)\n",
    "                  for topic_id, topic in id_topic_info.items()}"
   ]
  },
  {
   "cell_type": "code",
   "execution_count": 8,
   "metadata": {
    "ExecuteTime": {
     "end_time": "2016-05-02T14:47:25.488086",
     "start_time": "2016-05-02T14:47:25.485650"
    },
    "scrolled": true
   },
   "outputs": [
    {
     "name": "stdout",
     "output_type": "stream",
     "text": [
      "46319 total useful votes, a.k.a. judgements.\n"
     ]
    }
   ],
   "source": [
    "print(\"{0} total useful votes, a.k.a. judgements.\".format(len(judgements)))"
   ]
  },
  {
   "cell_type": "markdown",
   "metadata": {},
   "source": [
    "## Majority Voting Aggregation"
   ]
  },
  {
   "cell_type": "code",
   "execution_count": 11,
   "metadata": {
    "ExecuteTime": {
     "end_time": "2016-05-02T15:15:11.411604",
     "start_time": "2016-05-02T15:15:11.400736"
    },
    "collapsed": true
   },
   "outputs": [],
   "source": [
    "# Code moved to 'aggregation.py'."
   ]
  },
  {
   "cell_type": "markdown",
   "metadata": {},
   "source": [
    "## MV with Nearest Neighbor\n",
    "\n",
    "* for all $i \\in I$ (documents) do\n",
    "    * if $i$ has no votes\n",
    "        * $\\hat{p_i} \\leftarrow 0.5$\n",
    "    * else\n",
    "        * if $\\rho(d_i, d_{o^i(2)}) > \\rho_s$ then\n",
    "            * $\\hat{p_i} \\leftarrow \\overline{V_i \\cup V_{o^i(2)}}$\n",
    "        * else\n",
    "            * $\\hat{p_i} \\leftarrow \\overline{V_i}$\n",
    "        * end if\n",
    "    * end if\n",
    "* end for"
   ]
  },
  {
   "cell_type": "code",
   "execution_count": 12,
   "metadata": {
    "ExecuteTime": {
     "end_time": "2016-05-02T15:17:16.595863",
     "start_time": "2016-05-02T15:17:16.548045"
    },
    "collapsed": true
   },
   "outputs": [],
   "source": [
    "# Code moved to 'aggregation.py'."
   ]
  },
  {
   "cell_type": "code",
   "execution_count": 13,
   "metadata": {
    "ExecuteTime": {
     "end_time": "2016-05-02T15:17:26.815375",
     "start_time": "2016-05-02T15:17:26.812047"
    },
    "collapsed": true
   },
   "outputs": [],
   "source": [
    "from crowd.experiment_config import ExperimentConfig"
   ]
  },
  {
   "cell_type": "code",
   "execution_count": 14,
   "metadata": {
    "ExecuteTime": {
     "end_time": "2016-05-02T15:17:30.570343",
     "start_time": "2016-05-02T15:17:30.562935"
    },
    "collapsed": true
   },
   "outputs": [],
   "source": [
    "# LV = LeastVotesSampler(), the vanilla sampling technique.\n",
    "\n",
    "mv_config = ExperimentConfig(aggregate_MV, \"LV-MV\", {})\n",
    "mv_nn_config = ExperimentConfig(aggregate_MV_NN, \"LV-MVNN(0.5)\", {'rho_s': 0.5})\n",
    "mv_nn_09_config = ExperimentConfig(aggregate_MV_NN, \"LV-MVNN(0.9)\", {'rho_s': 0.9})\n",
    "\n",
    "mvpp_graph_opts={'marker': 'x', 'markevery': 15}\n",
    "mv_nn_plus = ExperimentConfig(aggregate_MV_NN, \"LV-MVNN+(0.9)\", {'rho_s': 0.9, 'seek_good_neighbor': True}, graph_opts=mvpp_graph_opts)\n",
    "mv_nn_plus_hardcore = ExperimentConfig(aggregate_MV_NN, \"LV-MVNN+(0.995)\", {'rho_s': 0.995, 'seek_good_neighbor': True}, graph_opts=mvpp_graph_opts)\n",
    "\n",
    "mev_graph_opts = {'marker': '^', 'markevery': 15}\n",
    "mev_1_config = ExperimentConfig(aggregate_mev, \"LV-MEV(1)\", {'C': 1}, graph_opts=mev_graph_opts)\n",
    "mev_2_config = ExperimentConfig(aggregate_mev, \"LV-MEV(2)\", {'C': 2}, graph_opts=mev_graph_opts)\n",
    "mev_3_config = ExperimentConfig(aggregate_mev, \"LV-MEV(3)\", {'C': 3}, graph_opts=mev_graph_opts)\n",
    "mev_4_config = ExperimentConfig(aggregate_mev, \"LV-MEV(4)\", {'C': 4}, graph_opts=mev_graph_opts)\n",
    "mev_5_config = ExperimentConfig(aggregate_mev, \"LV-MEV(5)\", {'C': 5}, graph_opts=mev_graph_opts)\n",
    "\n",
    "\n",
    "def plot_topic(topic_id, experiments, max_votes, iterations, **kw):\n",
    "    topic_judgements = get_topic_judgements_by_doc_id(topic_id, judgements)\n",
    "    document_count = len(topic_judgements)\n",
    "    cframe = pd.DataFrame()\n",
    "    \n",
    "    ax = None\n",
    "    for cfg in experiments:\n",
    "        if cfg.nx_graph:\n",
    "            print(\"Using NetworkX graph.\")\n",
    "            graph = id_topic_nx_graph[topic_id]\n",
    "        else:\n",
    "            print(\"Using oldschool graph.\")\n",
    "            graph = id_topic_graph[topic_id]\n",
    "            \n",
    "        subframe = learning_curve_frame(\n",
    "            graph,\n",
    "            cfg.vote_aggregator,\n",
    "            cfg.name,\n",
    "            document_count,\n",
    "            judgements,\n",
    "            test_data,     # The ground truth.\n",
    "            cfg.document_sampler,\n",
    "            iterations=iterations,\n",
    "            max_votes=max_votes,\n",
    "            sample_count=kw.get('sample_count'),\n",
    "            **cfg.params)\n",
    "        cframe = pd.concat([cframe, subframe])\n",
    "        ax = subframe.plot(fontsize=12, ax=ax, **cfg.graph_opts)\n",
    "        \n",
    "    ax.set_xlabel(\"Mean votes per document\", fontsize=14)\n",
    "    ax.set_ylabel(\"Accuracy\", fontsize=14)\n",
    "    now = datetime.now()\n",
    "    title = \"Topic: {} (ID#{}); Date: {}; Git: {}; Graph similarity threshold: {}; Iterations: {}\".format(\n",
    "        id_topic_info[topic_id].query,\n",
    "        topic_id,\n",
    "        now.strftime(\"%Y-%m-%d %H:%M\"),\n",
    "        get_git_revision_hash(),\n",
    "        id_topic_graph[topic_id].sim_threshold,\n",
    "        iterations)\n",
    "    ax.set_title(title, fontsize=14)\n",
    "    ax.grid()\n",
    "    ax.legend(loc='lower right', fontsize=14)\n",
    "    \n",
    "    # Auto-save everything we plot, even if it's crap.\n",
    "    # TODO(andrei): Ensure folder exists.\n",
    "    plotname = \"topic-{}-{}-{}-{}-{}\".format(\n",
    "        topic_id,\n",
    "        now.strftime(\"%Y%m%dT%H%M\"),\n",
    "        get_git_revision_hash(),\n",
    "        id_topic_graph[topic_id].sim_threshold,\n",
    "        iterations)\n",
    "    plt.savefig('./plots/{}.svg'.format(plotname))"
   ]
  },
  {
   "cell_type": "code",
   "execution_count": 15,
   "metadata": {
    "collapsed": true
   },
   "outputs": [],
   "source": [
    "experimental_IC_config = ExperimentConfig(aggregate_mev_nx,\n",
    "                                          \"IC5-MEV\",\n",
    "                                          {},\n",
    "                                          nx_graph=True,\n",
    "                                          document_sampler=lgss_graph_factory(5),\n",
    "                                          graph_opts={'marker': 'o', 'markevery': 15})"
   ]
  },
  {
   "cell_type": "code",
   "execution_count": null,
   "metadata": {
    "ExecuteTime": {
     "end_time": "2016-05-02T15:18:12.212031",
     "start_time": "2016-05-02T15:18:05.037907"
    },
    "scrolled": false
   },
   "outputs": [
    {
     "data": {
      "application/vnd.jupyter.widget-view+json": {
       "model_id": "1f4d1226b7c6439cb8f13bcf25f12eb2"
      }
     },
     "metadata": {},
     "output_type": "display_data"
    }
   ],
   "source": [
    "fmt_topic = lambda t: \"[%s] %s (%d)\" % (t.topic_id, t.query, t.document_count)\n",
    "optlist = ((fmt_topic(t), t.topic_id) for t in id_topic_info.values())\n",
    "options=OrderedDict(sorted(optlist))\n",
    "\n",
    "import pylab\n",
    "pylab.rcParams['figure.figsize'] = (18, 9)\n",
    "\n",
    "# MVNN+(0.9)\n",
    "# See: 20584 with VERY FEW votes\n",
    "# See: 20694 with VERY FEW votes\n",
    "# See: 20780 with VERY FEW votes. Starts really sucking after 1.0, especially around 3.0.\n",
    "# See: 20956: beats opponents 1-3\n",
    "# 20972 Highlights poor performance of MVNN(0.5) vs MVNN(0.9)\n",
    "# vice president Richard Nixon seems to yield very poor results across the board.\n",
    "#     Need to manually inspect data. Perhaps it's because results about Nixon \n",
    "#     as a president seem relevant but actually are not?\n",
    "\n",
    "@interact(\n",
    "    topic_id=widgets.Dropdown(options=options, value='20704'),\n",
    "    iterations=widgets.IntSlider(min=10, max=500, step=5, continuous_update=False, value=25),\n",
    "    max_votes_per_doc=widgets.IntSlider(min=1, max=10, step=1, continuous_update=False, value=1)\n",
    ")\n",
    "def plot_proxy(topic_id, iterations, max_votes_per_doc):\n",
    "    print(\"Iterations: %d\" % iterations)\n",
    "    experiments = [experimental_IC_config,\n",
    "                   mev_1_config,\n",
    "                   mev_2_config,\n",
    "                   mev_3_config]\n",
    "#                    mv_config]\n",
    "#                    mv_nn_config,\n",
    "#                    mv_nn_plus,\n",
    "#                    mv_nn_plus_hardcore,\n",
    "#                    mev_1_config,\n",
    "#                    mev_2_config,\n",
    "#                    mev_3_config]\n",
    "    plot_topic(topic_id, experiments, max_votes_per_doc, iterations, sample_count=750)"
   ]
  },
  {
   "cell_type": "code",
   "execution_count": null,
   "metadata": {
    "collapsed": true
   },
   "outputs": [],
   "source": []
  },
  {
   "cell_type": "markdown",
   "metadata": {},
   "source": [
    "## Aggregation over topics\n",
    "\n",
    "Very slow to compute. Should calculate on Euler."
   ]
  },
  {
   "cell_type": "code",
   "execution_count": 67,
   "metadata": {
    "collapsed": true
   },
   "outputs": [],
   "source": []
  },
  {
   "cell_type": "code",
   "execution_count": 70,
   "metadata": {},
   "outputs": [
    {
     "name": "stdout",
     "output_type": "stream",
     "text": [
      "Processing aggregator: IC5-MEV.\n",
      "Processing topic number 0/30.\n",
      "Processing topic number 1/30.\n",
      "Processing topic number 2/30.\n",
      "Processing topic number 3/30.\n",
      "Reached limit. Stopping.\n",
      "(4, 100)\n",
      "Processing aggregator: MV.\n",
      "Processing topic number 0/30.\n",
      "Processing topic number 1/30.\n",
      "Processing topic number 2/30.\n",
      "Processing topic number 3/30.\n",
      "Reached limit. Stopping.\n",
      "(4, 100)\n",
      "Processing aggregator: MEV(1).\n",
      "Processing topic number 0/30.\n",
      "Processing topic number 1/30.\n",
      "Processing topic number 2/30.\n",
      "Processing topic number 3/30.\n",
      "Reached limit. Stopping.\n",
      "(4, 100)\n"
     ]
    }
   ],
   "source": [
    "cross_topic_experiments = [\n",
    "    mv_config, mv_nn_config, mv_nn_plus, mv_nn_plus_hardcore,\n",
    "    mev_1_config, mev_2_config, mev_3_config]\n",
    "\n",
    "cross_topic_experiments = [\n",
    "    experimental_IC_config,\n",
    "    mv_config,\n",
    "    mev_1_config]\n",
    "    \n",
    "upto = 1   # votes per document\n",
    "iterations = 15\n",
    "all_frames = compute_cross_topic_learning(cross_topic_experiments,\n",
    "                                          upto, iterations, topic_limit=3)"
   ]
  },
  {
   "cell_type": "code",
   "execution_count": 69,
   "metadata": {},
   "outputs": [
    {
     "data": {
      "text/plain": [
       "<matplotlib.axes._subplots.AxesSubplot at 0x117344ac8>"
      ]
     },
     "execution_count": 69,
     "metadata": {},
     "output_type": "execute_result"
    },
    {
     "data": {
      "image/png": "[encoded data removed]",
      "text/plain": [
       "<matplotlib.figure.Figure at 0x116e89160>"
      ]
     },
     "metadata": {},
     "output_type": "display_data"
    }
   ],
   "source": [
    "plot_cross_topic_learning(all_frames, upto, iterations)"
   ]
  },
  {
   "cell_type": "markdown",
   "metadata": {},
   "source": [
    "## Comparison with paper gold standard\n",
    "\n",
    "NB: This code is rather old and may no longer work correctly."
   ]
  },
  {
   "cell_type": "code",
   "execution_count": null,
   "metadata": {
    "ExecuteTime": {
     "end_time": "2016-05-02T14:53:35.948470",
     "start_time": "2016-05-02T14:48:53.880020"
    },
    "collapsed": true
   },
   "outputs": [],
   "source": [
    "after_one_vote = {}\n",
    "topic_count = len(id_topic_info)\n",
    "\n",
    "for i, (topic_id, topic) in enumerate(id_topic_info.items()):\n",
    "    print(\"Topic %d/%d\" % (i + 1, topic_count))\n",
    "    data = build_learning_curve(\n",
    "        topic_id,\n",
    "        aggregate_MV,\n",
    "        iterations=1000,\n",
    "        max_votes=1,\n",
    "        progress_every=-1)\n",
    "\n",
    "    after_one_vote[topic_id] = data[-1]    "
   ]
  },
  {
   "cell_type": "code",
   "execution_count": null,
   "metadata": {
    "ExecuteTime": {
     "end_time": "2016-05-02T14:53:35.983742",
     "start_time": "2016-05-02T14:53:35.950629"
    },
    "collapsed": true
   },
   "outputs": [],
   "source": [
    "paper_standard_mv = {\n",
    "    '20424': 0.594,\n",
    "    '20488': 0.667,\n",
    "    '20542': 0.676,\n",
    "    '20584': 0.689,\n",
    "    '20636': 0.716,\n",
    "    '20642': 0.693,\n",
    "    '20686': 0.693,\n",
    "    '20690': 0.703,\n",
    "    '20694': 0.726,\n",
    "    '20696': 0.562,\n",
    "    '20704': 0.670,\n",
    "    '20714': 0.808,\n",
    "    '20764': 0.676,\n",
    "    '20766': 0.796,\n",
    "    '20778': 0.652,\n",
    "    '20780': 0.641,\n",
    "    '20812': 0.688,\n",
    "    '20814': 0.792,\n",
    "    '20832': 0.630,\n",
    "    '20910': 0.661,\n",
    "    '20916': 0.650,\n",
    "    '20932': 0.576,\n",
    "    '20956': 0.616,\n",
    "    '20958': 0.610,\n",
    "    '20962': 0.552,\n",
    "    '20972': 0.668,\n",
    "    '20976': 0.632,\n",
    "    '20996': 0.542\n",
    "}\n",
    "\n",
    "# TODO(andrei) \n",
    "paper_standard_mvnn_05 = {\n",
    "    '20424': 0.608,\n",
    "    '20488': 0.722,\n",
    "    '20542': 0.673,\n",
    "    '20584': 0.761, #*\n",
    "    '20636': 0.774, #*\n",
    "    '20642': 0.756, #*\n",
    "    '20686': 0.639,\n",
    "    \n",
    "    '20690': 0.744, #*\n",
    "    '20694': 0.746,\n",
    "    '20696': 0.622,\n",
    "    '20704': 0.790, #*\n",
    "    '20714': 0.818,\n",
    "    '20764': 0.600,\n",
    "    '20766': 0.794,\n",
    "    '20778': 0.662,\n",
    "    '20780': 0.732, #*\n",
    "    '20812': 0.695,\n",
    "    '20814': 0.770,\n",
    "    '20832': 0.642,\n",
    "    '20910': 0.643,\n",
    "    '20916': 0.638,\n",
    "    '20932': 0.540,\n",
    "    '20956': 0.646,\n",
    "    '20958': 0.556,\n",
    "    '20962': 0.610,\n",
    "    '20972': 0.632,\n",
    "    '20976': 0.620,\n",
    "    '20996': 0.504\n",
    "}\n",
    "\n",
    "def rmse_own_results(own_result_map):\n",
    "    rmse = 0.0\n",
    "    for topic_id, mv_score in paper_standard_mv.items():\n",
    "        rmse += abs(own_result_map[topic_id] - mv_score) ** 2\n",
    "    \n",
    "    rmse /= len(paper_standard_mv)\n",
    "    return rmse"
   ]
  },
  {
   "cell_type": "code",
   "execution_count": null,
   "metadata": {
    "ExecuteTime": {
     "end_time": "2016-05-02T14:53:35.989171",
     "start_time": "2016-05-02T14:53:35.985890"
    },
    "collapsed": true
   },
   "outputs": [],
   "source": [
    "print(rmse_own_results(after_one_vote))"
   ]
  },
  {
   "cell_type": "markdown",
   "metadata": {},
   "source": [
    "### RMSE for MV\n",
    "* rmse = 0.44473 when comparing all votes to 0.0\n",
    "* rmse = 0.03119 when comparing all votes to 0.5\n",
    "* rmse = 0.01002 when running 500 iterations (30 Apr)\n",
    "* rmse = 0.00989 when running 1000 iterations (30 Apr)"
   ]
  },
  {
   "cell_type": "code",
   "execution_count": null,
   "metadata": {
    "collapsed": true
   },
   "outputs": [],
   "source": []
  }
 ],
 "metadata": {
  "kernelspec": {
   "display_name": "Python 3",
   "language": "python",
   "name": "python3"
  },
  "language_info": {
   "codemirror_mode": {
    "name": "ipython",
    "version": 3
   },
   "file_extension": ".py",
   "mimetype": "text/x-python",
   "name": "python",
   "nbconvert_exporter": "python",
   "pygments_lexer": "ipython3",
   "version": "3.6.1"
  },
  "notify_time": "5"
 },
 "nbformat": 4,
 "nbformat_minor": 1
}
