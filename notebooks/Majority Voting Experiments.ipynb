{
 "cells": [
  {
   "cell_type": "markdown",
   "metadata": {},
   "source": [
    "# Majority Voting Experiments\n",
    "\n",
    "Majority voting is the default voting technique used in simple crowdsourcing systems.\n",
    "In this notebook, we also experiment with a few simple techniques which rely on also looking at similar documents when aggregating votes.\n",
    "\n",
    "\n",
    "## TODO\n",
    " * Aggregate over topics and repeats (50-60ish)\n",
    " * Plot multiple curves on same graph.\n",
    " * RMSE evaluation of MVNN, compared to data in paper.\n",
    " * Sort out some of the code duplication."
   ]
  },
  {
   "cell_type": "code",
   "execution_count": 1,
   "metadata": {
    "collapsed": true
   },
   "outputs": [],
   "source": [
    "%load_ext autoreload"
   ]
  },
  {
   "cell_type": "code",
   "execution_count": 2,
   "metadata": {
    "collapsed": false
   },
   "outputs": [
    {
     "name": "stdout",
     "output_type": "stream",
     "text": [
      "Current Python: /Users/andrei/anaconda3/envs/crowd/bin/python\n"
     ]
    }
   ],
   "source": [
    "from collections import OrderedDict\n",
    "import datetime\n",
    "import io\n",
    "import os\n",
    "import random\n",
    "import sys\n",
    "\n",
    "import ipywidgets as widgets\n",
    "from ipywidgets import interact, interactive, fixed\n",
    "import matplotlib.pyplot as plt\n",
    "import numpy as np\n",
    "import pandas as pd\n",
    "\n",
    "%matplotlib inline\n",
    "\n",
    "print(\"Current Python: {0}\".format(sys.executable))\n",
    "\n",
    "# This makes Jupyter pretend to be Pythonic and play well with modules.\n",
    "sys.path.append(os.path.expandvars(os.path.join(os.getcwd(), '..')))"
   ]
  },
  {
   "cell_type": "code",
   "execution_count": 3,
   "metadata": {
    "ExecuteTime": {
     "end_time": "2016-05-02T14:47:24.101326",
     "start_time": "2016-05-02T14:47:24.099095"
    },
    "collapsed": true
   },
   "outputs": [],
   "source": [
    "np.random.seed(0xF00F1E2)\n",
    "random.seed(0xF00F1E2)"
   ]
  },
  {
   "cell_type": "code",
   "execution_count": 4,
   "metadata": {
    "ExecuteTime": {
     "end_time": "2016-05-02T14:47:24.290008",
     "start_time": "2016-05-02T14:47:24.103501"
    },
    "collapsed": false
   },
   "outputs": [],
   "source": [
    "%autoreload 2\n",
    "\n",
    "from crowd.data import *\n",
    "from crowd.config import *\n",
    "from crowd.file_util import *\n",
    "from crowd.graph import *\n",
    "from crowd.topic import *\n",
    "from crowd.simulation import *"
   ]
  },
  {
   "cell_type": "markdown",
   "metadata": {},
   "source": [
    "## Load data"
   ]
  },
  {
   "cell_type": "code",
   "execution_count": 5,
   "metadata": {
    "ExecuteTime": {
     "end_time": "2016-05-02T14:47:25.484265",
     "start_time": "2016-05-02T14:47:24.291169"
    },
    "collapsed": false
   },
   "outputs": [
    {
     "name": "stdout",
     "output_type": "stream",
     "text": [
      "WARNING: Found document not similar to itself while building document graph; document ID: clueweb09-en0007-59-12231.\n",
      "WARNING: Found document not similar to itself while building document graph; document ID: clueweb09-en0001-81-25580.\n"
     ]
    }
   ],
   "source": [
    "SIM_THRESHOLD = 0.5\n",
    "\n",
    "id_topic_info = load_topic_metadata()\n",
    "judgements = read_useful_judgement_labels(JUDGEMENT_FILE)\n",
    "test_data = read_all_test_labels()\n",
    "id_topic_graph = {topic_id: build_document_graph(topic, FULLTEXT_FOLDER, sim_threshold=SIM_THRESHOLD)\n",
    "                  for topic_id, topic in id_topic_info.items()}"
   ]
  },
  {
   "cell_type": "code",
   "execution_count": 6,
   "metadata": {
    "ExecuteTime": {
     "end_time": "2016-05-02T14:47:25.488086",
     "start_time": "2016-05-02T14:47:25.485650"
    },
    "collapsed": false,
    "scrolled": true
   },
   "outputs": [
    {
     "name": "stdout",
     "output_type": "stream",
     "text": [
      "46319 total useful votes, a.k.a. judgements.\n"
     ]
    }
   ],
   "source": [
    "print(\"{0} total useful votes, a.k.a. judgements.\".format(len(judgements)))"
   ]
  },
  {
   "cell_type": "code",
   "execution_count": 7,
   "metadata": {
    "ExecuteTime": {
     "end_time": "2016-05-02T14:47:25.491788",
     "start_time": "2016-05-02T14:47:25.489412"
    },
    "collapsed": true
   },
   "outputs": [],
   "source": [
    "COIN_FLIP = \"COIN_FLIP\""
   ]
  },
  {
   "cell_type": "code",
   "execution_count": 8,
   "metadata": {
    "ExecuteTime": {
     "end_time": "2016-05-02T14:47:25.505869",
     "start_time": "2016-05-02T14:47:25.492863"
    },
    "collapsed": true
   },
   "outputs": [],
   "source": [
    "def count_votes(votes):\n",
    "    relevant_votes = 0\n",
    "    non_relevant_votes = 0\n",
    "    for vote in votes:\n",
    "        if vote.is_relevant > 0:\n",
    "            relevant_votes += 1\n",
    "        elif vote.is_relevant == 0:\n",
    "            non_relevant_votes += 1\n",
    "        else:\n",
    "            raise ValueError(\"Non 0/1 vote.\")\n",
    "    \n",
    "    return relevant_votes, non_relevant_votes"
   ]
  },
  {
   "cell_type": "code",
   "execution_count": 9,
   "metadata": {
    "ExecuteTime": {
     "end_time": "2016-05-02T15:13:51.697958",
     "start_time": "2016-05-02T15:13:51.691974"
    },
    "collapsed": true
   },
   "outputs": [],
   "source": [
    "def full_mv_aggregation(document_id, topic_judgements):\n",
    "    \"\"\"Computes the voter consensus for the specified document.\n",
    "    \n",
    "    Calculation perform directly on all votes, without relying on any\n",
    "    sampling.\n",
    "    \"\"\"\n",
    "    \n",
    "    if document_id not in topic_judgements:\n",
    "        raise ValueError(\"Document ID#{0} doesn't have any votes to \"\n",
    "                         \"aggregate.\".format(document_id))\n",
    "        \n",
    "    votes = topic_judgements[document_id]\n",
    "    rel_votes, non_rel_votes = count_votes(votes)\n",
    "\n",
    "    if rel_votes == 0 and non_rel_votes == 0:\n",
    "        raise ValueError(\"No votes for ground truth document ID#{0}. That's a \"\n",
    "                         \"shame.\".format(document_id))\n",
    "        \n",
    "    return rel_votes >= non_rel_votes"
   ]
  },
  {
   "cell_type": "markdown",
   "metadata": {},
   "source": [
    "## Majority Voting Aggregation"
   ]
  },
  {
   "cell_type": "code",
   "execution_count": 10,
   "metadata": {
    "ExecuteTime": {
     "end_time": "2016-05-02T15:15:11.411604",
     "start_time": "2016-05-02T15:15:11.400736"
    },
    "collapsed": false
   },
   "outputs": [],
   "source": [
    "def aggregate_MV(topic_graph, all_sampled_votes, **kw):\n",
    "    \"\"\"The default way of aggregating crowdsourcing votes.\n",
    "    \n",
    "    Args:\n",
    "        topic_graph: The current topic's document graph. Not used.\n",
    "        all_sampled_votes: A map from document ID to a list of\n",
    "            'JudgementRecord's which have been sampled so far in our\n",
    "            simulation.\n",
    "        \n",
    "    Returns:\n",
    "        A map which contains a boolean relevance for every document.\n",
    "    \"\"\"\n",
    "       \n",
    "    return {document_id: majority(document_votes)\n",
    "            for (document_id, document_votes) in all_sampled_votes.items()}\n",
    "            \n",
    "    \n",
    "def majority(votes, tie_handling=COIN_FLIP):\n",
    "    \"\"\"Computes the majority of a list of 'JudgementRecord's.\n",
    "    \n",
    "    Args:\n",
    "        votes: A list of 'JudgementRecord' objects.\n",
    "        tie_handling: An enum specifying how ties are to be treated.\n",
    "    \n",
    "    Returns:\n",
    "        A boolean indicating whether the consensus is \"relevant\".\n",
    "        Ties are broken as specified by the 'tie_handling' parameter.\n",
    "        \n",
    "    \"\"\"\n",
    "    # Note: mind the Nones!\n",
    "    relevant = len([vote for vote in votes if vote.is_relevant == True])\n",
    "    non_relevant = len([vote for vote in votes if vote.is_relevant == False])\n",
    "    \n",
    "    if relevant > non_relevant:\n",
    "         return True\n",
    "    elif relevant < non_relevant:\n",
    "         return False\n",
    "    elif tie_handling == COIN_FLIP:\n",
    "        return random.choice([True, False])\n",
    "    else:\n",
    "        raise ValueError(\"Unknown tie handling technique: [{}].\"\n",
    "                         .format(tie_handling))"
   ]
  },
  {
   "cell_type": "markdown",
   "metadata": {},
   "source": [
    "## MV with Nearest Neighbor\n",
    "\n",
    "* for all $i \\in I$ (documents) do\n",
    "    * if $i$ has no votes\n",
    "        * $\\hat{p_i} \\leftarrow 0.5$\n",
    "    * else\n",
    "        * if $\\rho(d_i, d_{o^i(2)}) > \\rho_s$ then\n",
    "            * $\\hat{p_i} \\leftarrow \\overline{V_i \\cup V_{o^i(2)}}$\n",
    "        * else\n",
    "            * $\\hat{p_i} \\leftarrow \\overline{V_i}$\n",
    "        * end if\n",
    "    * end if\n",
    "* end for"
   ]
  },
  {
   "cell_type": "code",
   "execution_count": 16,
   "metadata": {
    "ExecuteTime": {
     "end_time": "2016-05-02T15:17:16.595863",
     "start_time": "2016-05-02T15:17:16.548045"
    },
    "collapsed": true
   },
   "outputs": [],
   "source": [
    "def aggregate_MV_NN(topic_graph, all_sampled_votes, **kw):\n",
    "    \"\"\"Majority voting which tries to steal votes from the closest neighbor.\n",
    "    \n",
    "    This method is similar to 'aggregate_MV', but also tries to take some\n",
    "    document similarity information into account.\n",
    "    \n",
    "    Args:\n",
    "        topic_graph: The current topic's document graph. Not used.\n",
    "        all_sampled_votes: A map from document ID to a list of sampled\n",
    "            'JudgementRecord's.\n",
    "        rho_s: The similarity threshold below which we ignore the nearest\n",
    "            neighbor.\n",
    "        seek_good_neighbor: Enables a more thorough nearest neighbor search,\n",
    "            not stopping at the very first neighbor, but at the nearest\n",
    "            neighbor which also has at least 'min_votes' votes.\n",
    "        \n",
    "    Returns:\n",
    "        A map which contains a boolean relevance for every document.\n",
    "    \"\"\"\n",
    "    \n",
    "    rho_s = kw.get('rho_s', 0.9)\n",
    "    del kw['rho_s'] # TODO(andrei) Do this in a nicer way.\n",
    "    seek_good_neighbor = kw.get('seek_good_neighbor', False)\n",
    "    \n",
    "    if seek_good_neighbor:\n",
    "        aggregator = majority_with_nn_seek\n",
    "    else:\n",
    "        aggregator = majority_with_nn\n",
    "        \n",
    "    return {document_id: aggregator(topic_graph, document_id,\n",
    "                                    document_votes, all_sampled_votes,\n",
    "                                    rho_s, **kw)\n",
    "            for (document_id, document_votes) in all_sampled_votes.items()}\n",
    "\n",
    "\n",
    "def majority_with_nn(topic_graph, doc_id, votes, all_sampled_votes, rho_s, **kw):\n",
    "    node = topic_graph.get_node(doc_id)\n",
    "    \n",
    "    if len(node.neighbors) == 0:\n",
    "        # No neighbors in graph.\n",
    "        return majority(votes)\n",
    "    \n",
    "    nn = node.sim_sorted_neighbors[0]\n",
    "    if nn.similarity < rho_s:\n",
    "        # Nearest neighbor is not near enough.\n",
    "        return majority(votes)\n",
    "    \n",
    "    if nn.to_document_id not in all_sampled_votes:\n",
    "        # Neighbor has no votes.\n",
    "        # Note: The original MVNN code simply looks at the most similar\n",
    "        # neighbor, and adds its votes. If it has no votes, then tough luck.\n",
    "        return majority(votes)\n",
    "    \n",
    "    neighbor_votes = all_sampled_votes[nn.to_document_id]\n",
    "    return majority(votes + neighbor_votes)\n",
    "\n",
    "\n",
    "def majority_with_nn_seek(topic_graph, doc_id, votes, all_sampled_votes, rho_s,\n",
    "                          **kw):\n",
    "    \"\"\"Seeks the nearest neighbor which also has some votes.\"\"\"\n",
    "    node = topic_graph.get_node(doc_id)\n",
    "    min_votes = kw.get('min_votes', 1)\n",
    "    \n",
    "    if len(node.neighbors) == 0:\n",
    "        # No neighbors in graph.\n",
    "        return majority(votes)\n",
    "    \n",
    "    index = 0\n",
    "    while index < len(node.neighbors):\n",
    "        nn = node.sim_sorted_neighbors[index]\n",
    "        index += 1\n",
    "\n",
    "        if nn.similarity < rho_s:\n",
    "            # Nearest neighbor is not near enough.\n",
    "            continue\n",
    "            \n",
    "        if nn.to_document_id not in all_sampled_votes:\n",
    "            # Neighbor has no vote data.\n",
    "            continue\n",
    "\n",
    "        neighbor_votes = all_sampled_votes[nn.to_document_id]\n",
    "        if len(neighbor_votes) < min_votes:\n",
    "            # Neighbor doesn't have enough votes for us to care.\n",
    "            continue\n",
    "        \n",
    "        # Found a good neighbor. Stop the search.\n",
    "        return majority(votes + neighbor_votes)\n",
    "            \n",
    "    # No good neighbor found.\n",
    "    return majority(votes)"
   ]
  },
  {
   "cell_type": "markdown",
   "metadata": {},
   "source": [
    "## Merge Enough Votes (MEV)"
   ]
  },
  {
   "cell_type": "code",
   "execution_count": 26,
   "metadata": {
    "collapsed": true
   },
   "outputs": [],
   "source": [
    "def mev_aggregator(topic_graph, doc_id, votes, all_sampled_votes, **kw):\n",
    "    \"\"\"Performs vote aggregation using the 'MergeEnoughVotes' technique.\n",
    "    \n",
    "    Kwargs:\n",
    "        C: The desired vote count.\n",
    "    \"\"\"\n",
    "    C = kw.get('C', 1)\n",
    "    node = topic_graph.get_node(doc_id)\n",
    "    \n",
    "    if len(node.neighbors) == 0 or len(votes) >= C:\n",
    "        return majority(votes)\n",
    "    \n",
    "    # $U_i$ = augmented_votes\n",
    "    # Make sure we don't modify the original vote list.\n",
    "    augmented_votes = list(votes)\n",
    "    \n",
    "    # Merge the most similar neighbor's votes first.\n",
    "    for nn in node.sim_sorted_neighbors:\n",
    "        votes_left = C - len(augmented_votes)\n",
    "        if votes_left <= 0:\n",
    "            break\n",
    "            \n",
    "        if nn.to_document_id not in all_sampled_votes:\n",
    "            # Neighbor has no vote data.\n",
    "            continue\n",
    "            \n",
    "        # TODO(andrei): Experiment with similarity thresholding here.\n",
    "            \n",
    "        nn_votes = all_sampled_votes[nn.to_document_id]\n",
    "        # We ensure we don't merge too many votes.\n",
    "        augmented_votes += nn_votes[:votes_left]\n",
    "        \n",
    "    return majority(augmented_votes)"
   ]
  },
  {
   "cell_type": "code",
   "execution_count": 27,
   "metadata": {
    "collapsed": true
   },
   "outputs": [],
   "source": [
    "def aggregate_MEV(topic_graph, all_sampled_votes, **kw):\n",
    "    \"\"\"\n",
    "        \n",
    "    Returns:\n",
    "        A map which contains a boolean relevance for every document.\n",
    "    \"\"\"\n",
    "    return {document_id: mev_aggregator(topic_graph, document_id,\n",
    "                                        document_votes, all_sampled_votes,\n",
    "                                        **kw)\n",
    "            for (document_id, document_votes) in all_sampled_votes.items()}"
   ]
  },
  {
   "cell_type": "markdown",
   "metadata": {},
   "source": [
    "## Measurement Utilities"
   ]
  },
  {
   "cell_type": "code",
   "execution_count": 28,
   "metadata": {
    "ExecuteTime": {
     "end_time": "2016-05-02T15:17:26.246483",
     "start_time": "2016-05-02T15:17:26.220260"
    },
    "collapsed": false
   },
   "outputs": [],
   "source": [
    "def build_learning_curve(topic_id, aggregation_function, **kw):\n",
    "    \"\"\"Returns a numpy array with growing accuracy, up to 'max_votes'.\"\"\"\n",
    "    \n",
    "    topic = id_topic_info[topic_id]\n",
    "    graph = id_topic_graph[topic_id]\n",
    "    topic_judgements = get_topic_judgements_by_doc_id(topic_id, judgements)\n",
    "    topic_ground_truth = {truth.document_id: truth for truth in test_data\n",
    "                          if truth.topic_id == topic_id}\n",
    "    \n",
    "\n",
    "    # i.e. up to target_votes votes per doc, on average.\n",
    "    # TODO(andrei) Make this cleaner and more seamless.\n",
    "    max_votes = kw['max_votes'] if 'max_votes' in kw else 3\n",
    "    bud = len(topic_judgements) * max_votes\n",
    "    acc = evaluate(\n",
    "        graph,\n",
    "        topic_judgements,\n",
    "        topic_ground_truth,\n",
    "        LeastVotesSampler(),\n",
    "        aggregation_function,\n",
    "        budget=bud,\n",
    "        **kw)\n",
    "\n",
    "    # Note: this result is still indexed by-vote.\n",
    "    acc = np.array(acc)\n",
    "    acc_avg = np.mean(acc, axis=0)        \n",
    "    return acc_avg\n",
    "\n",
    "\n",
    "def learning_curve_frame(topic_id, aggregation, label, document_count, **kw):\n",
    "    \"\"\"Helper proxy for 'build_learning_curve'.\n",
    "    \n",
    "    Wraps its result in a pandas dataframe, and normalizes the index so that\n",
    "    it represents average votes per document. This makes it much, much easier\n",
    "    to perform e.g. cross-topic aggregations, when different topics have\n",
    "    different document counts (which means we need different numbers of votes\n",
    "    in order to reach the same mean nr. votes per document).\n",
    "    \"\"\"\n",
    "    \n",
    "    # In votes_per_doc space.\n",
    "    # TODO(andrei): Document this stuff.\n",
    "    acc_avg = build_learning_curve(topic_id, aggregation, **kw)\n",
    "    sample_count = kw.get('sample_count', 100)\n",
    "    frame = pd.DataFrame({label: acc_avg})\n",
    "    new_index = np.linspace(0, len(acc_avg) / document_count, sample_count)\n",
    "    acc_avg_resampled = np.interp(\n",
    "        new_index,\n",
    "        # Sampling x coords\n",
    "        np.linspace(0, len(acc_avg) / document_count, len(acc_avg)),\n",
    "        # Values to sample\n",
    "        acc_avg)\n",
    "    classic = frame\n",
    "    frame = pd.DataFrame({label: acc_avg_resampled}, index=new_index)\n",
    "    \n",
    "#     return frame, classic\n",
    "    return frame\n",
    "\n",
    "\n",
    "# This code showcases the (very small) discrepancy between the original dataset\n",
    "# and the resampled one.\n",
    "# f, classic = learning_curve_frame(\n",
    "#     '20424', \n",
    "#     mv_config.vote_aggregator,\n",
    "#     \"lbl\",\n",
    "#     len(get_topic_judgements_by_doc_id('20424', judgements)))\n",
    "# plt.plot(f.index, f['lbl'])\n",
    "# plt.plot(classic.index / 100.0, classic['lbl'])"
   ]
  },
  {
   "cell_type": "code",
   "execution_count": 29,
   "metadata": {
    "ExecuteTime": {
     "end_time": "2016-05-02T15:17:26.815375",
     "start_time": "2016-05-02T15:17:26.812047"
    },
    "collapsed": true
   },
   "outputs": [],
   "source": [
    "class ExperimentConfig(object):    \n",
    "    def __init__(self, vote_aggregator, name, params):\n",
    "        self.vote_aggregator = vote_aggregator\n",
    "        self.name = name\n",
    "        self.params = params"
   ]
  },
  {
   "cell_type": "code",
   "execution_count": 33,
   "metadata": {
    "ExecuteTime": {
     "end_time": "2016-05-02T15:17:30.570343",
     "start_time": "2016-05-02T15:17:30.562935"
    },
    "collapsed": false
   },
   "outputs": [],
   "source": [
    "mv_config = ExperimentConfig(aggregate_MV, \"MV\", {})\n",
    "mv_nn_config = ExperimentConfig(aggregate_MV_NN, \"MVNN(0.5)\", {'rho_s': 0.5})\n",
    "mv_nn_09_config = ExperimentConfig(aggregate_MV_NN, \"MVNN(0.9)\", {'rho_s': 0.9})\n",
    "mv_nn_plus = ExperimentConfig(aggregate_MV_NN, \"MVNN+(0.9)\", {'rho_s': 0.9, 'seek_good_neighbor': True})\n",
    "mv_nn_plus_hardcore = ExperimentConfig(aggregate_MV_NN, \"MVNN+(0.995)\", {'rho_s': 0.995, 'seek_good_neighbor': True})\n",
    "mev_1_config = ExperimentConfig(aggregate_MEV, \"MEV(1)\", {'C': 1})\n",
    "mev_2_config = ExperimentConfig(aggregate_MEV, \"MEV(2)\", {'C': 2})\n",
    "mev_3_config = ExperimentConfig(aggregate_MEV, \"MEV(3)\", {'C': 3})\n",
    "mev_4_config = ExperimentConfig(aggregate_MEV, \"MEV(4)\", {'C': 4})\n",
    "mev_5_config = ExperimentConfig(aggregate_MEV, \"MEV(5)\", {'C': 5})\n",
    "\n",
    "def plot_topic(topic_id, experiments, max_votes, iterations, **kw):\n",
    "    topic_judgements = get_topic_judgements_by_doc_id(topic_id, judgements)\n",
    "    document_count = len(topic_judgements)\n",
    "    cframe = pd.DataFrame()\n",
    "    \n",
    "    for cfg in experiments:\n",
    "        subframe = learning_curve_frame(\n",
    "            topic_id,\n",
    "            cfg.vote_aggregator,\n",
    "            cfg.name,\n",
    "            document_count,\n",
    "            iterations=iterations,\n",
    "            max_votes=max_votes,\n",
    "            sample_count=kw.get('sample_count'),\n",
    "            **cfg.params)\n",
    "        cframe = pd.concat([cframe, subframe])\n",
    "        \n",
    "    ax = cframe.plot(marker=kw.get('marker'), fontsize=12)    \n",
    "    ax.set_xlabel(\"Mean votes per document\")\n",
    "    ax.set_ylabel(\"Accuracy\")\n",
    "    ax.legend(loc='lower right')"
   ]
  },
  {
   "cell_type": "code",
   "execution_count": null,
   "metadata": {
    "ExecuteTime": {
     "end_time": "2016-05-02T15:18:12.212031",
     "start_time": "2016-05-02T15:18:05.037907"
    },
    "collapsed": false,
    "scrolled": false
   },
   "outputs": [
    {
     "name": "stdout",
     "output_type": "stream",
     "text": [
      "Iterations: 25\n"
     ]
    }
   ],
   "source": [
    "fmt_topic = lambda t: \"[%s] %s (%d)\" % (t.topic_id, t.query, t.document_count)\n",
    "optlist = ((fmt_topic(t), t.topic_id) for t in id_topic_info.values())\n",
    "options=OrderedDict(sorted(optlist))\n",
    "\n",
    "import pylab\n",
    "pylab.rcParams['figure.figsize'] = (18, 9)\n",
    "\n",
    "# MVNN+(0.9)\n",
    "# See: 20584 with VERY FEW votes\n",
    "# See: 20694 with VERY FEW votes\n",
    "# See: 20780 with VERY FEW votes. Starts really sucking after 1.0, especially around 3.0.\n",
    "# See: 20956: beats opponents 1-3\n",
    "# 20972 Highlights poor performance of MVNN(0.5) vs MVNN(0.9)\n",
    "# vice president Richard Nixon seems to yield very poor results across the board.\n",
    "#     Need to manually inspect data. Perhaps it's because results about Nixon \n",
    "#     as a president seem relevant but actually are not?\n",
    "\n",
    "@interact(\n",
    "    topic_id=widgets.Dropdown(options=options, value='20704'),\n",
    "    iterations=widgets.IntSlider(min=10, max=500, step=5, continuous_update=False, value=25),\n",
    "    max_votes_per_doc=widgets.IntSlider(min=1, max=10, step=1, continuous_update=False, value=1)\n",
    ")\n",
    "def plot_proxy(topic_id, iterations, max_votes_per_doc):\n",
    "    print(\"Iterations: %d\" % iterations)\n",
    "    experiments = [#mv_config, \n",
    "                   mv_nn_config,\n",
    "                   #mv_nn_09_config,\n",
    "                   mv_nn_plus,\n",
    "                   mev_1_config,\n",
    "                   mev_2_config,\n",
    "                   mev_3_config]\n",
    "    plot_topic(topic_id, experiments, max_votes_per_doc, iterations, sample_count=750)"
   ]
  },
  {
   "cell_type": "markdown",
   "metadata": {},
   "source": [
    "## Aggregation over topics\n",
    "\n",
    "Very slow to compute. Should calculate on Euler."
   ]
  },
  {
   "cell_type": "code",
   "execution_count": 22,
   "metadata": {
    "collapsed": true
   },
   "outputs": [],
   "source": [
    "def plot_all(experiments, max_votes, iterations):\n",
    "    cframe = pd.DataFrame()\n",
    "    for cfg in experiments:\n",
    "        frame = cross_topic_learning_curve_frame(\n",
    "            cfg.vote_aggregator,\n",
    "            cfg.name,\n",
    "            iterations=iterations,\n",
    "            max_votes=max_votes,\n",
    "            **cfg.params)\n",
    "#         plt.plot(np.arange(0, res.shape[0]), res)\n",
    "        cframe = pd.concat([cframe, frame])\n",
    "    \n",
    "    ax = cframe.plot()\n",
    "    plt.legend(loc='lower right')\n",
    "    \n",
    "\n",
    "# TODO(andrei) Rename this to reflect frameness.\n",
    "def cross_topic_learning_curve_frame(aggregation_function, label, **kw):\n",
    "    curves = []\n",
    "    index = None\n",
    "\n",
    "    print(\"Processing aggregator: {0}.\".format(label))\n",
    "    topic_count = len(id_topic_info)\n",
    "    for idx, (topic_id, topic) in enumerate(id_topic_info.items()):\n",
    "        topic_judgements = get_topic_judgements_by_doc_id(topic_id, judgements)\n",
    "        document_count = len(topic_judgements)\n",
    "        curve = learning_curve_frame(topic_id, aggregation_function, label, document_count, **kw)\n",
    "        curves.append(curve[label])\n",
    "        index = curve.index\n",
    "        \n",
    "        if idx % 5 == 0:\n",
    "            print(\"Processing topic number {0}/{1}.\".format(idx, topic_count))\n",
    "    \n",
    "    curves = np.array(curves)\n",
    "    print(curves.shape)\n",
    "    means = np.mean(curves, axis=0)\n",
    "    return pd.DataFrame({label: means}, index=index)"
   ]
  },
  {
   "cell_type": "code",
   "execution_count": 23,
   "metadata": {
    "collapsed": false
   },
   "outputs": [
    {
     "name": "stdout",
     "output_type": "stream",
     "text": [
      "Processing aggregator: MV.\n",
      "Processing topic number 0/30.\n",
      "Processing topic number 5/30.\n",
      "Processing topic number 10/30.\n",
      "Processing topic number 15/30.\n",
      "Processing topic number 20/30.\n",
      "Processing topic number 25/30.\n",
      "(30, 100)\n",
      "Processing aggregator: MVNN(0.5).\n",
      "Processing topic number 0/30.\n",
      "Processing topic number 5/30.\n",
      "Processing topic number 10/30.\n",
      "Processing topic number 15/30.\n",
      "Processing topic number 20/30.\n",
      "Processing topic number 25/30.\n",
      "(30, 100)\n",
      "Processing aggregator: MVNN+(0.9).\n",
      "Processing topic number 0/30.\n",
      "Processing topic number 5/30.\n",
      "Processing topic number 10/30.\n",
      "Processing topic number 15/30.\n",
      "Processing topic number 20/30.\n",
      "Processing topic number 25/30.\n",
      "(30, 100)\n"
     ]
    },
    {
     "data": {
      "image/png": "[encoded data removed]",
      "text/plain": [
       "<matplotlib.figure.Figure at 0x115a35dd8>"
      ]
     },
     "metadata": {},
     "output_type": "display_data"
    }
   ],
   "source": [
    "plot_all([mv_config, mv_nn_config, mv_nn_plus], 3, 25)"
   ]
  },
  {
   "cell_type": "markdown",
   "metadata": {},
   "source": [
    "## Comparison with paper gold standard"
   ]
  },
  {
   "cell_type": "code",
   "execution_count": 24,
   "metadata": {
    "ExecuteTime": {
     "end_time": "2016-05-02T14:53:35.948470",
     "start_time": "2016-05-02T14:48:53.880020"
    },
    "collapsed": false
   },
   "outputs": [
    {
     "name": "stdout",
     "output_type": "stream",
     "text": [
      "Topic 1/30\n",
      "Topic 2/30\n",
      "Topic 3/30\n",
      "Topic 4/30\n",
      "Topic 5/30\n",
      "Topic 6/30\n",
      "Topic 7/30\n",
      "Topic 8/30\n",
      "Topic 9/30\n",
      "Topic 10/30\n",
      "Topic 11/30\n",
      "Topic 12/30\n",
      "Topic 13/30\n",
      "Topic 14/30\n",
      "Topic 15/30\n",
      "Topic 16/30\n",
      "Topic 17/30\n",
      "Topic 18/30\n",
      "Topic 19/30\n",
      "Topic 20/30\n",
      "Topic 21/30\n",
      "Topic 22/30\n",
      "Topic 23/30\n",
      "Topic 24/30\n",
      "Topic 25/30\n",
      "Topic 26/30\n",
      "Topic 27/30\n",
      "Topic 28/30\n",
      "Topic 29/30\n",
      "Topic 30/30\n"
     ]
    }
   ],
   "source": [
    "after_one_vote = {}\n",
    "topic_count = len(id_topic_info)\n",
    "\n",
    "for i, (topic_id, topic) in enumerate(id_topic_info.items()):\n",
    "    print(\"Topic %d/%d\" % (i + 1, topic_count))\n",
    "    data = build_learning_curve(\n",
    "        topic_id,\n",
    "        aggregate_MV,\n",
    "        iterations=1000,\n",
    "        max_votes=1,\n",
    "        progress_every=-1)\n",
    "\n",
    "    after_one_vote[topic_id] = data[-1]    "
   ]
  },
  {
   "cell_type": "code",
   "execution_count": 25,
   "metadata": {
    "ExecuteTime": {
     "end_time": "2016-05-02T14:53:35.983742",
     "start_time": "2016-05-02T14:53:35.950629"
    },
    "collapsed": false
   },
   "outputs": [],
   "source": [
    "paper_standard_mv = {\n",
    "    '20424': 0.594,\n",
    "    '20488': 0.667,\n",
    "    '20542': 0.676,\n",
    "    '20584': 0.689,\n",
    "    '20636': 0.716,\n",
    "    '20642': 0.693,\n",
    "    '20686': 0.693,\n",
    "    '20690': 0.703,\n",
    "    '20694': 0.726,\n",
    "    '20696': 0.562,\n",
    "    '20704': 0.670,\n",
    "    '20714': 0.808,\n",
    "    '20764': 0.676,\n",
    "    '20766': 0.796,\n",
    "    '20778': 0.652,\n",
    "    '20780': 0.641,\n",
    "    '20812': 0.688,\n",
    "    '20814': 0.792,\n",
    "    '20832': 0.630,\n",
    "    '20910': 0.661,\n",
    "    '20916': 0.650,\n",
    "    '20932': 0.576,\n",
    "    '20956': 0.616,\n",
    "    '20958': 0.610,\n",
    "    '20962': 0.552,\n",
    "    '20972': 0.668,\n",
    "    '20976': 0.632,\n",
    "    '20996': 0.542\n",
    "}\n",
    "\n",
    "# TODO(andrei) \n",
    "paper_standard_mvnn_05 = {\n",
    "    '20424': 0.608,\n",
    "    '20488': 0.722,\n",
    "    '20542': 0.673,\n",
    "    '20584': 0.761, #*\n",
    "    '20636': 0.774, #*\n",
    "    '20642': 0.756, #*\n",
    "    '20686': 0.639,\n",
    "    \n",
    "    '20690': 0.744, #*\n",
    "    '20694': 0.746,\n",
    "    '20696': 0.622,\n",
    "    '20704': 0.790, #*\n",
    "    '20714': 0.818,\n",
    "    '20764': 0.600,\n",
    "    '20766': 0.794,\n",
    "    '20778': 0.662,\n",
    "    '20780': 0.732, #*\n",
    "    '20812': 0.695,\n",
    "    '20814': 0.770,\n",
    "    '20832': 0.642,\n",
    "    '20910': 0.643,\n",
    "    '20916': 0.638,\n",
    "    '20932': 0.540,\n",
    "    '20956': 0.646,\n",
    "    '20958': 0.556,\n",
    "    '20962': 0.610,\n",
    "    '20972': 0.632,\n",
    "    '20976': 0.620,\n",
    "    '20996': 0.504\n",
    "}\n",
    "\n",
    "def rmse_own_results(own_result_map):\n",
    "    rmse = 0.0\n",
    "    for topic_id, mv_score in paper_standard_mv.items():\n",
    "        rmse += abs(own_result_map[topic_id] - mv_score) ** 2\n",
    "    \n",
    "    rmse /= len(paper_standard_mv)\n",
    "    return rmse"
   ]
  },
  {
   "cell_type": "code",
   "execution_count": 26,
   "metadata": {
    "ExecuteTime": {
     "end_time": "2016-05-02T14:53:35.989171",
     "start_time": "2016-05-02T14:53:35.985890"
    },
    "collapsed": false
   },
   "outputs": [
    {
     "name": "stdout",
     "output_type": "stream",
     "text": [
      "0.00990155772575\n"
     ]
    }
   ],
   "source": [
    "print(rmse_own_results(after_one_vote))"
   ]
  },
  {
   "cell_type": "markdown",
   "metadata": {},
   "source": [
    "### RMSE for MV\n",
    "* rmse = 0.44473 when comparing all votes to 0.0\n",
    "* rmse = 0.03119 when comparing all votes to 0.5\n",
    "* rmse = 0.01002 when running 500 iterations (30 Apr)\n",
    "* rmse = 0.00989 when running 1000 iterations (30 Apr)"
   ]
  },
  {
   "cell_type": "code",
   "execution_count": null,
   "metadata": {
    "collapsed": true
   },
   "outputs": [],
   "source": []
  }
 ],
 "metadata": {
  "kernelspec": {
   "display_name": "Python 3",
   "language": "python",
   "name": "python3"
  },
  "language_info": {
   "codemirror_mode": {
    "name": "ipython",
    "version": 3
   },
   "file_extension": ".py",
   "mimetype": "text/x-python",
   "name": "python",
   "nbconvert_exporter": "python",
   "pygments_lexer": "ipython3",
   "version": "3.5.1"
  },
  "notify_time": "5"
 },
 "nbformat": 4,
 "nbformat_minor": 0
}
