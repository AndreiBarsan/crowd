{
 "cells": [
  {
   "cell_type": "markdown",
   "metadata": {},
   "source": [
    "# Majority Voting Experiments\n",
    "\n",
    "This is the default voting technique used in simple crowdsourcing systems.\n",
    "\n",
    "Note: bear in mind Martin's methodology. See Algorithm 1 in the paper and\n",
    "implement that yourself.\n",
    "\n",
    "**Work in progress**\n",
    "\n",
    "Workflow:\n",
    " * Subsample x% of real votes (baseline should be 100%)\n",
    " * Aggregate votes and pick the majority as the final results\n",
    " * No neighbor lookup is performed\n",
    " * Compute the % of results which agree with the ground truth.\n",
    " * How to get per-corpus results?\n",
    "     - For every % of real votes measured, average results over all topics."
   ]
  },
  {
   "cell_type": "code",
   "execution_count": null,
   "metadata": {
    "collapsed": true
   },
   "outputs": [],
   "source": [
    "import numpy as np\n",
    "\n",
    "import datetime\n",
    "import io\n",
    "import os\n",
    "import random"
   ]
  },
  {
   "cell_type": "code",
   "execution_count": null,
   "metadata": {
    "collapsed": true
   },
   "outputs": [],
   "source": [
    "np.random.seed(0xC0FFEE)\n",
    "random.seed(0xC0FFEE)"
   ]
  },
  {
   "cell_type": "code",
   "execution_count": null,
   "metadata": {
    "collapsed": true
   },
   "outputs": [],
   "source": [
    "%run ../crowd/data.py\n",
    "%run ../crowd/config.py\n",
    "%run ../crowd/file_util.py\n",
    "%run ../crowd/graph.py\n",
    "%run ../crowd/topic.py"
   ]
  },
  {
   "cell_type": "markdown",
   "metadata": {},
   "source": [
    "## Load data"
   ]
  },
  {
   "cell_type": "code",
   "execution_count": null,
   "metadata": {
    "collapsed": true
   },
   "outputs": [],
   "source": [
    "id_topic_info = load_topic_metadata()\n",
    "judgements = read_useful_judgement_labels(JUDGEMENT_FILE)\n",
    "test_data = read_all_test_labels()"
   ]
  },
  {
   "cell_type": "code",
   "execution_count": null,
   "metadata": {
    "collapsed": false
   },
   "outputs": [],
   "source": [
    "def count_votes(votes):\n",
    "    relevant_votes = 0\n",
    "    non_relevant_votes = 0\n",
    "    for vote in votes:\n",
    "        if vote.is_relevant > 0:\n",
    "            relevant_votes += 1\n",
    "        else:\n",
    "            non_relevant_votes += 1\n",
    "    \n",
    "    return relevant_votes, non_relevant_votes\n",
    "\n",
    "\n",
    "def aggregate_MV(topic_id):\n",
    "    topic = id_topic_info[topic_id]\n",
    "    print(\"MV aggregation for topic [%s].\" % topic)\n",
    "    \n",
    "    # ground_truths_by_doc_id = {l.document_id : l for l in test_data if l.topic_id == topic_id}\n",
    "    judgements_by_doc_id = get_topic_judgements_by_doc_id(topic_id, judgements)\n",
    "    gt_relevant, gt_non_relevant = get_relevant(topic_id, test_data)\n",
    "    \n",
    "    print(\"%d relevant documents in ground truth.\" % len(gt_relevant))\n",
    "    print(\"%d non-relevant documents in ground truth.\" % len(gt_non_relevant))\n",
    "    \n",
    "    \n",
    "    vote_relevant = set()\n",
    "    vote_non_relevant = set()\n",
    "    for doc_id, judgements in judgements_by_doc_id.items():\n",
    "        rel_votes, non_rel_votes = count_votes(judgements)\n",
    "        if rel_votes >= non_rel_votes:\n",
    "            vote_relevant.add(doc_id)\n",
    "        else:\n",
    "            vote_non_relevant.add(doc_id)\n",
    "       \n",
    "    false_positives = vote_relevant - gt_relevant\n",
    "    # false_negatives = \n",
    "    # print(\"%d false positives\")\n",
    "            \n",
    "\n",
    "def majority_voting_baseline(topic_id, sim_threshold=0.9):\n",
    "    topic = id_topic_info[topic_id]\n",
    "    # graph = build_document_graph(topic, FULLTEXT_FOLDER, sim_threshold)\n",
    "    \n",
    "    \n",
    "tomato_topic_id = '20424'\n",
    "aggregate_MV(tomato_topic_id)"
   ]
  },
  {
   "cell_type": "code",
   "execution_count": null,
   "metadata": {
    "collapsed": true
   },
   "outputs": [],
   "source": []
  }
 ],
 "metadata": {
  "kernelspec": {
   "display_name": "Python 3",
   "language": "python",
   "name": "python3"
  },
  "language_info": {
   "codemirror_mode": {
    "name": "ipython",
    "version": 3
   },
   "file_extension": ".py",
   "mimetype": "text/x-python",
   "name": "python",
   "nbconvert_exporter": "python",
   "pygments_lexer": "ipython3",
   "version": "3.5.1"
  }
 },
 "nbformat": 4,
 "nbformat_minor": 0
}
