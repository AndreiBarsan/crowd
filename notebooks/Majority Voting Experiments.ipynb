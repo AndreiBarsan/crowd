{
 "cells": [
  {
   "cell_type": "markdown",
   "metadata": {},
   "source": [
    "# Majority Voting Experiments\n",
    "\n",
    "This is the default voting technique used in simple crowdsourcing systems.\n",
    "\n",
    "\n",
    "## TODO\n",
    " * Finish debugging implementation\n",
    " * Sort out some of the code duplication."
   ]
  },
  {
   "cell_type": "code",
   "execution_count": 42,
   "metadata": {
    "collapsed": true
   },
   "outputs": [],
   "source": [
    "import matplotlib.pyplot as plt\n",
    "import numpy as np\n",
    "\n",
    "import datetime\n",
    "import io\n",
    "import os\n",
    "import random\n",
    "\n",
    "%matplotlib inline"
   ]
  },
  {
   "cell_type": "code",
   "execution_count": 43,
   "metadata": {
    "collapsed": true
   },
   "outputs": [],
   "source": [
    "np.random.seed(0xF00F1E)\n",
    "random.seed(0xF00F1E)"
   ]
  },
  {
   "cell_type": "code",
   "execution_count": 44,
   "metadata": {
    "collapsed": true
   },
   "outputs": [],
   "source": [
    "%run ../crowd/data.py\n",
    "%run ../crowd/config.py\n",
    "%run ../crowd/file_util.py\n",
    "%run ../crowd/graph.py\n",
    "%run ../crowd/topic.py"
   ]
  },
  {
   "cell_type": "markdown",
   "metadata": {},
   "source": [
    "## Load data"
   ]
  },
  {
   "cell_type": "code",
   "execution_count": 45,
   "metadata": {
    "collapsed": true
   },
   "outputs": [],
   "source": [
    "id_topic_info = load_topic_metadata()\n",
    "judgements = read_useful_judgement_labels(JUDGEMENT_FILE)\n",
    "test_data = read_all_test_labels()"
   ]
  },
  {
   "cell_type": "code",
   "execution_count": 46,
   "metadata": {
    "collapsed": false
   },
   "outputs": [
    {
     "data": {
      "text/plain": [
       "46319"
      ]
     },
     "execution_count": 46,
     "metadata": {},
     "output_type": "execute_result"
    }
   ],
   "source": [
    "len(judgements)"
   ]
  },
  {
   "cell_type": "code",
   "execution_count": 47,
   "metadata": {
    "collapsed": true
   },
   "outputs": [],
   "source": [
    "# def count_votes(votes):\n",
    "#     relevant_votes = 0\n",
    "#     non_relevant_votes = 0\n",
    "#     for vote in votes:\n",
    "#         if vote.is_relevant > 0:\n",
    "#             relevant_votes += 1\n",
    "#         else:\n",
    "#             non_relevant_votes += 1\n",
    "    \n",
    "#     return relevant_votes, non_relevant_votes\n",
    "\n",
    "\n",
    "DEFAULT_BUDGET = 250\n",
    "COIN_FLIP = \"COIN_FLIP\"\n",
    "\n",
    "\n",
    "def get_document_with_least_votes(vote_map):\n",
    "    # TODO(andrei) Use heap.\n",
    "    # Sort the map by the values and return the key with the smallest value.\n",
    "    return (sorted(vote_map.items(), key=lambda i: len(i[1])))[0][0]\n",
    "#     return random.choice(list(vote_map.keys()))\n",
    "\n",
    "\n",
    "def request_vote(topic_judgements, document_id):\n",
    "    votes = topic_judgements[document_id]\n",
    "    if len(votes) == 0:\n",
    "        print(\"No votes found for document [{}].\".format(document_id))\n",
    "        return None\n",
    "    \n",
    "    vote = random.choice(votes)\n",
    "    return vote"
   ]
  },
  {
   "cell_type": "code",
   "execution_count": 55,
   "metadata": {
    "collapsed": false
   },
   "outputs": [],
   "source": [
    "def evaluate(topic_graph, topic_judgements, ground_truth, vote_aggregation, **kw):\n",
    "    \"\"\" Evaluates a vote aggregation strategy for the specified topic.\n",
    "    \n",
    "    Args:\n",
    "        topic_graph: The document graph of the topic on which we want to\n",
    "            perform the evaluation.\n",
    "        topic_judgements: The votes from which we sampled, as a map from\n",
    "            document ID to a list of 'JudgementRecord's.\n",
    "        ground_truth: A map of document IDs ground truth 'ExpertJudgement's.\n",
    "        vote_aggregation: Function used to aggregate a document's votes and\n",
    "            produce a final judgement.\n",
    "            \n",
    "    Returns:\n",
    "        TODO(andrei) TBD    \n",
    "        \n",
    "    Notes:\n",
    "        TODO(andrei) Consider using loggers to control output verbosity.\n",
    "        \n",
    "    \"\"\"\n",
    "    iterations = kw['iterations'] if 'iterations' in kw else 20\n",
    "    budget = kw['budget'] if 'budget' in kw else DEFAULT_BUDGET\n",
    "    progress_every = kw['progress_every'] if 'progress_every' in kw else 50\n",
    "    accuracy_every = kw['accuracy_every'] if 'accuracy_every' in kw else 1\n",
    "    # verbose = kw['verbose'] if 'verbose' in kw else False\n",
    "        \n",
    "    print(\"Performing evaluation of topic [{}].\".format(topic_graph.topic))\n",
    "    print(\"Aggregation function: [{}]\".format(vote_aggregation))\n",
    "    \n",
    "    \n",
    "    all_accuracies = []\n",
    "#     doc_count = len(votes)\n",
    "#     print(\"Performing [{}] vote samples for [{}] total documents.\"\n",
    "#           .format(iterations, doc_count))\n",
    "\n",
    "    for iteration in range(iterations):\n",
    "        if iteration % progress_every == 0:\n",
    "                print(\"Iteration {}/{}.\".format(iteration + 1, iterations))\n",
    "\n",
    "        accuracies = []\n",
    "        all_accuracies.append(accuracies)\n",
    "        # The votes we aggregated so far.\n",
    "        # Don't keep track of anything for which we don't have the ground truth,\n",
    "        # since there's no way to evaluate that.\n",
    "        votes = {n.document_id: [] for n in topic_graph.nodes\n",
    "                 if n.document_id in ground_truth}\n",
    "                \n",
    "        for i in range(budget):\n",
    "\n",
    "            # 1. Pick document (with lowest number of votes)\n",
    "            document_id = get_document_with_least_votes(votes)\n",
    "            #print(document_id)\n",
    "\n",
    "            # 2. Request a vote for that document (sample with replacement)\n",
    "            vote = request_vote(topic_judgements, document_id)\n",
    "            votes[document_id].append(vote)\n",
    "\n",
    "            if i % accuracy_every == 0:\n",
    "                # 3. Perform the aggregation\n",
    "                evaluated_judgements = vote_aggregation(topic_graph, votes)\n",
    "\n",
    "                # 4. Measure accuracy\n",
    "                accuracy = measure_accuracy(evaluated_judgements, ground_truth)\n",
    "                accuracies.append(accuracy)\n",
    "\n",
    "    return all_accuracies\n",
    "\n",
    "\n",
    "def aggregate_MV(topic_graph, votes):\n",
    "    \"\"\"The default way of aggregating crowdsourcing votes.\n",
    "    \n",
    "    Args:\n",
    "        topic_graph: The current topic's document graph. Not used.\n",
    "        votes: A map from document ID to a list of sampled 'JudgementRecord's.\n",
    "        \n",
    "    Returns:\n",
    "        A map which contains a boolean relevance for every document.\n",
    "    \"\"\"\n",
    "       \n",
    "    return {document_id: majority(document_votes)\n",
    "            for (document_id, document_votes) in votes.items()}\n",
    "            \n",
    "    \n",
    "def majority(votes, tie_handling=COIN_FLIP):\n",
    "    \"\"\"Computes the majority of a list of 'JudgementRecord's.\n",
    "    \n",
    "    Args:\n",
    "        votes: A list of 'JudgementRecord' objects.\n",
    "        tie_handling: An enum specifying how ties are to be treated.\n",
    "    \n",
    "    Returns:\n",
    "        A boolean indicating whether the consensus is \"relevant\".\n",
    "        Ties are broken as specified by the 'tie_handling' parameter.\n",
    "        \n",
    "    \"\"\"\n",
    "    # Note: mind the Nones!\n",
    "    relevant = len([vote for vote in votes if vote.is_relevant == True])\n",
    "    non_relevant = len([vote for vote in votes if vote.is_relevant == False])\n",
    "    \n",
    "    if relevant > non_relevant:\n",
    "         return True\n",
    "    elif relevant < non_relevant:\n",
    "         return False\n",
    "    elif tie_handling == COIN_FLIP:\n",
    "        return random.choice([True, False])\n",
    "    else:\n",
    "        raise ValueError(\"Unknown tie handling technique: [{}].\"\n",
    "                         .format(tie_handling))\n",
    "\n",
    "\n",
    "def measure_accuracy(evaluated_judgements, ground_truth):\n",
    "    # TODO(andrei) Vectorize this computation as much as possible.\n",
    "    match = 0\n",
    "    fail = 0\n",
    "    for doc_id in ground_truth:\n",
    "        gt_label = (ground_truth[doc_id].label > 0)\n",
    "        evaluated_label = evaluated_judgements[doc_id]\n",
    "        if gt_label == evaluated_label:\n",
    "            match += 1\n",
    "        else:\n",
    "            fail += 1\n",
    "            \n",
    "    return match / (match + fail)\n",
    "        \n",
    "        \n",
    "def plot_mv_learning_curve(topic_id):\n",
    "    topic = id_topic_info[topic_id]\n",
    "    graph = build_document_graph(topic, FULLTEXT_FOLDER)\n",
    "    topic_judgements = get_topic_judgements_by_doc_id(topic_id, judgements)\n",
    "    topic_ground_truth = {truth.document_id: truth for truth in test_data\n",
    "                          if truth.topic_id == topic_id}\n",
    "\n",
    "    # i.e. up to target_votes votes per doc, on average.\n",
    "    # TODO(andrei) Make this cleaner and more seamless.\n",
    "    target_votes = 8\n",
    "    bud = len(topic_judgements) * target_votes\n",
    "    acc = evaluate(\n",
    "        graph,\n",
    "        topic_judgements,\n",
    "        topic_ground_truth,\n",
    "        aggregate_MV,\n",
    "        budget=bud)\n",
    "\n",
    "    acc = np.array(acc)\n",
    "    print(acc.shape)\n",
    "    acc_avg = np.mean(acc, axis=0)\n",
    "    print(acc_avg.shape)\n",
    "\n",
    "    plt.plot(np.arange(len(acc_avg)) / len(topic_judgements), acc_avg)\n",
    "    plt.xlabel(\"Mean votes per document\")\n",
    "    plt.ylabel(\"Accuracy\")"
   ]
  },
  {
   "cell_type": "code",
   "execution_count": 56,
   "metadata": {
    "collapsed": false
   },
   "outputs": [
    {
     "name": "stdout",
     "output_type": "stream",
     "text": [
      "Built graph with 214 total edges.\n",
      "Performing evaluation of topic [20686:jobs in washington].\n",
      "Aggregation function: [<function aggregate_MV at 0x103270840>]\n",
      "Iteration 1/20.\n",
      "(20, 920)\n",
      "(920,)\n"
     ]
    },
    {
     "data": {
      "image/png": "[encoded data removed]",
      "text/plain": [
       "<matplotlib.figure.Figure at 0x10f061b00>"
      ]
     },
     "metadata": {},
     "output_type": "display_data"
    }
   ],
   "source": [
    "# plot_mv_learning_curve('20910')\n",
    "# plot_mv_learning_curve('20764')\n",
    "plot_mv_learning_curve('20686')"
   ]
  },
  {
   "cell_type": "code",
   "execution_count": null,
   "metadata": {
    "collapsed": true
   },
   "outputs": [],
   "source": []
  }
 ],
 "metadata": {
  "kernelspec": {
   "display_name": "Python 3",
   "language": "python",
   "name": "python3"
  },
  "language_info": {
   "codemirror_mode": {
    "name": "ipython",
    "version": 3
   },
   "file_extension": ".py",
   "mimetype": "text/x-python",
   "name": "python",
   "nbconvert_exporter": "python",
   "pygments_lexer": "ipython3",
   "version": "3.5.1"
  }
 },
 "nbformat": 4,
 "nbformat_minor": 0
}
