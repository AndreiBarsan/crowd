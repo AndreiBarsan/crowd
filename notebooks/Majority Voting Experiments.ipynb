{
 "cells": [
  {
   "cell_type": "markdown",
   "metadata": {},
   "source": [
    "# Majority Voting Experiments\n",
    "\n",
    "This is the default voting technique used in simple crowdsourcing systems.\n",
    "\n",
    "\n",
    "## TODO\n",
    " * Aggregate over topics and repeats (50-60ish)\n",
    " * Plot multiple curves on same graph.\n",
    " * RMSE evaluation of MVNN, compared to data in paper.\n",
    " * Sort out some of the code duplication."
   ]
  },
  {
   "cell_type": "code",
   "execution_count": 1,
   "metadata": {
    "ExecuteTime": {
     "end_time": "2016-05-02T14:47:24.097888",
     "start_time": "2016-05-02T14:47:23.675913"
    },
    "collapsed": false
   },
   "outputs": [
    {
     "name": "stdout",
     "output_type": "stream",
     "text": [
      "Current Python: /Users/andrei/anaconda3/envs/cil/bin/python\n"
     ]
    }
   ],
   "source": [
    "import matplotlib.pyplot as plt\n",
    "import numpy as np\n",
    "import pandas as pd\n",
    "\n",
    "import datetime\n",
    "import io\n",
    "import os\n",
    "import random\n",
    "import sys\n",
    "\n",
    "from sklearn.externals.joblib import Parallel, delayed\n",
    "\n",
    "from ipywidgets import interact, interactive, fixed\n",
    "import ipywidgets as widgets\n",
    "\n",
    "%matplotlib inline\n",
    "\n",
    "print(\"Current Python: {0}\".format(sys.executable))"
   ]
  },
  {
   "cell_type": "code",
   "execution_count": 2,
   "metadata": {
    "ExecuteTime": {
     "end_time": "2016-05-02T14:47:24.101326",
     "start_time": "2016-05-02T14:47:24.099095"
    },
    "collapsed": true
   },
   "outputs": [],
   "source": [
    "np.random.seed(0xF00F1E2)\n",
    "random.seed(0xF00F1E2)"
   ]
  },
  {
   "cell_type": "code",
   "execution_count": 3,
   "metadata": {
    "ExecuteTime": {
     "end_time": "2016-05-02T14:47:24.290008",
     "start_time": "2016-05-02T14:47:24.103501"
    },
    "collapsed": true
   },
   "outputs": [],
   "source": [
    "%run ../crowd/data.py\n",
    "%run ../crowd/config.py\n",
    "%run ../crowd/file_util.py\n",
    "%run ../crowd/graph.py\n",
    "%run ../crowd/topic.py"
   ]
  },
  {
   "cell_type": "markdown",
   "metadata": {},
   "source": [
    "## Load data"
   ]
  },
  {
   "cell_type": "code",
   "execution_count": 51,
   "metadata": {
    "ExecuteTime": {
     "end_time": "2016-05-02T14:47:25.484265",
     "start_time": "2016-05-02T14:47:24.291169"
    },
    "collapsed": false
   },
   "outputs": [
    {
     "name": "stdout",
     "output_type": "stream",
     "text": [
      "WARNING: Found document not similar to itself while building document graph; document ID: clueweb09-en0007-59-12231.\n",
      "WARNING: Found document not similar to itself while building document graph; document ID: clueweb09-en0001-81-25580.\n"
     ]
    }
   ],
   "source": [
    "SIM_THRESHOLD = 0.5\n",
    "\n",
    "id_topic_info = load_topic_metadata()\n",
    "judgements = read_useful_judgement_labels(JUDGEMENT_FILE)\n",
    "test_data = read_all_test_labels()\n",
    "id_topic_graph = {topic_id: build_document_graph(topic, FULLTEXT_FOLDER, sim_threshold=SIM_THRESHOLD)\n",
    "                  for topic_id, topic in id_topic_info.items()}"
   ]
  },
  {
   "cell_type": "code",
   "execution_count": 52,
   "metadata": {
    "ExecuteTime": {
     "end_time": "2016-05-02T14:47:25.488086",
     "start_time": "2016-05-02T14:47:25.485650"
    },
    "collapsed": false,
    "scrolled": true
   },
   "outputs": [
    {
     "name": "stdout",
     "output_type": "stream",
     "text": [
      "46319 total useful votes, a.k.a. judgements.\n"
     ]
    }
   ],
   "source": [
    "print(\"{0} total useful votes, a.k.a. judgements.\".format(len(judgements)))"
   ]
  },
  {
   "cell_type": "code",
   "execution_count": 33,
   "metadata": {
    "ExecuteTime": {
     "end_time": "2016-05-02T14:47:25.491788",
     "start_time": "2016-05-02T14:47:25.489412"
    },
    "collapsed": true
   },
   "outputs": [],
   "source": [
    "DEFAULT_BUDGET = 250\n",
    "COIN_FLIP = \"COIN_FLIP\"\n",
    "\n",
    "# Use all cores for parallel stuff.\n",
    "N_CORES = -1"
   ]
  },
  {
   "cell_type": "code",
   "execution_count": 34,
   "metadata": {
    "ExecuteTime": {
     "end_time": "2016-05-02T14:47:25.505869",
     "start_time": "2016-05-02T14:47:25.492863"
    },
    "collapsed": true
   },
   "outputs": [],
   "source": [
    "def count_votes(votes):\n",
    "    relevant_votes = 0\n",
    "    non_relevant_votes = 0\n",
    "    for vote in votes:\n",
    "        if vote.is_relevant > 0:\n",
    "            relevant_votes += 1\n",
    "        elif vote.is_relevant == 0:\n",
    "            non_relevant_votes += 1\n",
    "        else:\n",
    "            raise ValueError(\"Non 0/1 vote.\")\n",
    "    \n",
    "    return relevant_votes, non_relevant_votes\n",
    "\n",
    "\n",
    "def get_document_with_least_votes(vote_map):\n",
    "    # TODO(andrei) Use heap, or even integrate in graph.\n",
    "    # Sort the map by the values and return the key with the smallest value.\n",
    "    return (sorted(vote_map.items(), key=lambda i: len(i[1])))[0][0]\n",
    "\n",
    "\n",
    "def request_vote(topic_judgements, document_id):\n",
    "    votes = topic_judgements[document_id]\n",
    "    if len(votes) == 0:\n",
    "        print(\"No votes found for document [{}].\".format(document_id))\n",
    "        return None\n",
    "    \n",
    "    vote = random.choice(votes)\n",
    "    return vote"
   ]
  },
  {
   "cell_type": "code",
   "execution_count": 35,
   "metadata": {
    "ExecuteTime": {
     "end_time": "2016-05-02T15:13:51.697958",
     "start_time": "2016-05-02T15:13:51.691974"
    },
    "collapsed": true
   },
   "outputs": [],
   "source": [
    "def full_mv_aggregation(document_id, topic_judgements):\n",
    "    \"\"\"Compute the voter consensus for the specified document.\n",
    "    \n",
    "    Calculation perform directly on all votes, without relying on any\n",
    "    sampling.\n",
    "    \"\"\"\n",
    "    \n",
    "    if document_id not in topic_judgements:\n",
    "        raise ValueError(\"Document ID#{0} doesn't have any votes to \"\n",
    "                         \"aggregate.\".format(document_id))\n",
    "        \n",
    "    votes = topic_judgements[document_id]\n",
    "    rel_votes, non_rel_votes = count_votes(votes)\n",
    "\n",
    "    if rel_votes == 0 and non_rel_votes == 0:\n",
    "        raise ValueError(\"No votes for ground truth document ID#{0}. That's a \"\n",
    "                         \"shame.\".format(document_id))\n",
    "        \n",
    "    return rel_votes >= non_rel_votes"
   ]
  },
  {
   "cell_type": "code",
   "execution_count": 36,
   "metadata": {
    "ExecuteTime": {
     "end_time": "2016-05-02T15:14:20.382519",
     "start_time": "2016-05-02T15:14:20.367288"
    },
    "collapsed": true
   },
   "outputs": [],
   "source": [
    "def evaluate_iteration(topic_graph, topic_judgements, ground_truth,\n",
    "                       vote_aggregation, **kw):\n",
    "    \"\"\" Performs a single iteration of a learning curve simulation.\n",
    "    \n",
    "    Please see the 'evaluate' function for more information.\n",
    "    \"\"\"\n",
    "    \n",
    "    # The votes we aggregated so far.\n",
    "    # Don't keep track of anything for which we don't have the ground truth,\n",
    "    # since there's no way to evaluate that.\n",
    "    sampled_votes = {n.document_id: [] for n in topic_graph.nodes\n",
    "                     if n.document_id in ground_truth}\n",
    "\n",
    "    budget = kw['budget'] if 'budget' in kw else DEFAULT_BUDGET\n",
    "    # How often we actually want to compute the accuracy, in terms of votes\n",
    "    # sampled. We likely don't need to recompute everything after every\n",
    "    # single new vote.\n",
    "    accuracy_every = kw['accuracy_every'] if 'accuracy_every' in kw else 1\n",
    "    \n",
    "    # TODO(andrei) Numpyfy: accuracies = np.zeros(budget // accuracy_every)\n",
    "    accuracies = []\n",
    "    for i in range(budget):\n",
    "        # 1. Pick document (with lowest number of votes)\n",
    "        document_id = get_document_with_least_votes(sampled_votes)\n",
    "\n",
    "        # 2. Request a vote for that document (sample with replacement)\n",
    "        vote = request_vote(topic_judgements, document_id)\n",
    "        sampled_votes[document_id].append(vote)\n",
    "\n",
    "        if i % accuracy_every == 0:\n",
    "            # 3. Perform the aggregation\n",
    "            evaluated_judgements = vote_aggregation(topic_graph, sampled_votes,\n",
    "                                                    **kw)\n",
    "\n",
    "            # 4. Measure accuracy\n",
    "            accuracy = measure_accuracy(evaluated_judgements, ground_truth,\n",
    "                                        topic_judgements)\n",
    "            accuracies.append(accuracy)\n",
    "            \n",
    "    return accuracies"
   ]
  },
  {
   "cell_type": "code",
   "execution_count": 37,
   "metadata": {
    "ExecuteTime": {
     "end_time": "2016-05-02T15:14:44.977581",
     "start_time": "2016-05-02T15:14:44.970001"
    },
    "collapsed": true
   },
   "outputs": [],
   "source": [
    "# Avoids re-creating the worker pool every time we invoke 'evaluate'.\n",
    "worker_pool = Parallel(n_jobs=N_CORES)\n",
    "\n",
    "def evaluate(topic_graph, topic_judgements, ground_truth, vote_aggregation,\n",
    "             **kw):\n",
    "    \"\"\" Evaluates a vote aggregation strategy for the specified topic.\n",
    "    \n",
    "    Args:\n",
    "        topic_graph: The document graph of the topic on which we want to\n",
    "            perform the evaluation.\n",
    "        topic_judgements: The votes from which we sampled, as a map from\n",
    "            document ID to a list of 'JudgementRecord's.\n",
    "        ground_truth: A map of document IDs ground truth 'ExpertJudgement's.\n",
    "        vote_aggregation: Function used to aggregate a document's votes and\n",
    "            produce a final judgement.\n",
    "            \n",
    "    Returns:\n",
    "        A list of learning curves. The list is 'iterations' long, and each\n",
    "        learning curve is 'budget' entries long.\n",
    "        \n",
    "    Notes:\n",
    "        TODO(andrei) Consider using loggers to control output verbosity.\n",
    "        \n",
    "    \"\"\"\n",
    "    iterations = kw['iterations'] if 'iterations' in kw else 10\n",
    "    progress_every = kw['progress_every'] if 'progress_every' in kw else 50\n",
    "    # verbose = kw['verbose'] if 'verbose' in kw else False\n",
    "        \n",
    "#     print(\"Performing evaluation of topic [{}].\".format(topic_graph.topic))\n",
    "#     print(\"Aggregation function: [{}]\".format(vote_aggregation))\n",
    "    \n",
    "    # TODO(andrei) Consider thresholding and using serial processing for less than\n",
    "    # k iterations.\n",
    "    all_accuracies = worker_pool(\n",
    "        delayed(evaluate_iteration)(topic_graph, topic_judgements, ground_truth, vote_aggregation, **kw) \n",
    "        for idx in range(iterations))\n",
    "\n",
    "    return all_accuracies"
   ]
  },
  {
   "cell_type": "markdown",
   "metadata": {},
   "source": [
    "## Majority Voting Aggregation"
   ]
  },
  {
   "cell_type": "code",
   "execution_count": 38,
   "metadata": {
    "ExecuteTime": {
     "end_time": "2016-05-02T15:15:11.411604",
     "start_time": "2016-05-02T15:15:11.400736"
    },
    "collapsed": false
   },
   "outputs": [],
   "source": [
    "def aggregate_MV(topic_graph, all_sampled_votes, **kw):\n",
    "    \"\"\"The default way of aggregating crowdsourcing votes.\n",
    "    \n",
    "    Args:\n",
    "        topic_graph: The current topic's document graph. Not used.\n",
    "        all_sampled_votes: A map from document ID to a list of\n",
    "            'JudgementRecord's which have been sampled so far in our\n",
    "            simulation.\n",
    "        \n",
    "    Returns:\n",
    "        A map which contains a boolean relevance for every document.\n",
    "    \"\"\"\n",
    "       \n",
    "    return {document_id: majority(document_votes)\n",
    "            for (document_id, document_votes) in all_sampled_votes.items()}\n",
    "            \n",
    "    \n",
    "def majority(votes, tie_handling=COIN_FLIP):\n",
    "    \"\"\"Computes the majority of a list of 'JudgementRecord's.\n",
    "    \n",
    "    Args:\n",
    "        votes: A list of 'JudgementRecord' objects.\n",
    "        tie_handling: An enum specifying how ties are to be treated.\n",
    "    \n",
    "    Returns:\n",
    "        A boolean indicating whether the consensus is \"relevant\".\n",
    "        Ties are broken as specified by the 'tie_handling' parameter.\n",
    "        \n",
    "    \"\"\"\n",
    "    # Note: mind the Nones!\n",
    "    relevant = len([vote for vote in votes if vote.is_relevant == True])\n",
    "    non_relevant = len([vote for vote in votes if vote.is_relevant == False])\n",
    "    \n",
    "    if relevant > non_relevant:\n",
    "         return True\n",
    "    elif relevant < non_relevant:\n",
    "         return False\n",
    "    elif tie_handling == COIN_FLIP:\n",
    "        return random.choice([True, False])\n",
    "    else:\n",
    "        raise ValueError(\"Unknown tie handling technique: [{}].\"\n",
    "                         .format(tie_handling))"
   ]
  },
  {
   "cell_type": "markdown",
   "metadata": {},
   "source": [
    "## MV with Nearest Neighbor\n",
    "\n",
    "* for all $i \\in I$ (documents) do\n",
    "    * if $i$ has no votes\n",
    "        * $\\hat{p_i} \\leftarrow 0.5$\n",
    "    * else\n",
    "        * if $\\rho(d_i, d_{o^i(2)}) > \\rho_s$ then\n",
    "            * $\\hat{p_i} \\leftarrow \\overline{V_i \\cup V_{o^i(2)}}$\n",
    "        * else\n",
    "            * $\\hat{p_i} \\leftarrow \\overline{V_i}$\n",
    "        * end if\n",
    "    * end if\n",
    "* end for"
   ]
  },
  {
   "cell_type": "code",
   "execution_count": 39,
   "metadata": {
    "ExecuteTime": {
     "end_time": "2016-05-02T15:17:16.595863",
     "start_time": "2016-05-02T15:17:16.548045"
    },
    "collapsed": true
   },
   "outputs": [],
   "source": [
    "def aggregate_MV_NN(topic_graph, all_sampled_votes, **kw):\n",
    "    \"\"\"Majority voting which tries to steal votes from the closest neighbor.\n",
    "    \n",
    "    This method is similar to 'aggregate_MV', but also tries to take some\n",
    "    document similarity information into account.\n",
    "    \n",
    "    Args:\n",
    "        topic_graph: The current topic's document graph. Not used.\n",
    "        all_sampled_votes: A map from document ID to a list of sampled\n",
    "            'JudgementRecord's.\n",
    "        rho_s: The similarity threshold below which we ignore the nearest\n",
    "            neighbor.\n",
    "        seek_good_neighbor: Enables a more thorough nearest neighbor search,\n",
    "            not stopping at the very first neighbor, but at the nearest\n",
    "            neighbor which also has at least 'min_votes' votes.\n",
    "        \n",
    "    Returns:\n",
    "        A map which contains a boolean relevance for every document.\n",
    "    \"\"\"\n",
    "    \n",
    "    rho_s = kw.get('rho_s', 0.9)\n",
    "    del kw['rho_s'] # TODO(andrei) Do this in a nicer way.\n",
    "    seek_good_neighbor = kw.get('seek_good_neighbor', False)\n",
    "    \n",
    "    if seek_good_neighbor:\n",
    "        aggregator = majority_with_nn_seek\n",
    "    else:\n",
    "        aggregator = majority_with_nn\n",
    "        \n",
    "    return {document_id: aggregator(topic_graph, document_id,\n",
    "                                    document_votes, all_sampled_votes,\n",
    "                                    rho_s, **kw)\n",
    "            for (document_id, document_votes) in all_sampled_votes.items()}\n",
    "\n",
    "\n",
    "def majority_with_nn(topic_graph, doc_id, votes, all_sampled_votes, rho_s, **kw):\n",
    "    node = topic_graph.get_node(doc_id)\n",
    "    \n",
    "    if len(node.neighbors) == 0:\n",
    "        # No neighbors in graph.\n",
    "        return majority(votes)\n",
    "    \n",
    "    nn = node.sim_sorted_neighbors[0]\n",
    "    if nn.similarity < rho_s:\n",
    "        # Nearest neighbor is not near enough.\n",
    "        return majority(votes)\n",
    "    \n",
    "    if nn.to_document_id not in all_sampled_votes:\n",
    "        # Neighbor has no votes.\n",
    "        # Note: The original MVNN code simply looks at the most similar\n",
    "        # neighbor, and adds its votes. If it has no votes, then tough luck.\n",
    "        return majority(votes)\n",
    "    \n",
    "    neighbor_votes = all_sampled_votes[nn.to_document_id]\n",
    "    return majority(votes + neighbor_votes)\n",
    "\n",
    "\n",
    "def majority_with_nn_seek(topic_graph, doc_id, votes, all_sampled_votes, rho_s,\n",
    "                          **kw):\n",
    "    \"\"\"Seeks the nearest neighbor which also has some votes.\"\"\"\n",
    "    node = topic_graph.get_node(doc_id)\n",
    "    min_votes = kw.get('min_votes', 1)\n",
    "    \n",
    "    if len(node.neighbors) == 0:\n",
    "        # No neighbors in graph.\n",
    "        return majority(votes)\n",
    "    \n",
    "    index = 0\n",
    "    while index < len(node.neighbors):\n",
    "        nn = node.sim_sorted_neighbors[index]\n",
    "        index += 1\n",
    "\n",
    "        if nn.similarity < rho_s:\n",
    "            # Nearest neighbor is not near enough.\n",
    "            continue\n",
    "            \n",
    "    \n",
    "        if nn.to_document_id not in all_sampled_votes:\n",
    "            # Neighbor has no vote data.\n",
    "            continue\n",
    "\n",
    "        neighbor_votes = all_sampled_votes[nn.to_document_id]\n",
    "        if len(neighbor_votes) < min_votes:\n",
    "            # Neighbor doesn't have enough votes for us to care.\n",
    "            continue\n",
    "        \n",
    "        # Found a good neighbor. Stop the search.\n",
    "        return majority(votes + neighbor_votes)\n",
    "            \n",
    "    # No good neighbor found.\n",
    "    return majority(votes)"
   ]
  },
  {
   "cell_type": "markdown",
   "metadata": {},
   "source": [
    "## Measurement Utilities"
   ]
  },
  {
   "cell_type": "code",
   "execution_count": 158,
   "metadata": {
    "ExecuteTime": {
     "end_time": "2016-05-02T15:17:26.246483",
     "start_time": "2016-05-02T15:17:26.220260"
    },
    "collapsed": false
   },
   "outputs": [
    {
     "name": "stdout",
     "output_type": "stream",
     "text": [
      "100\n",
      "300000\n"
     ]
    },
    {
     "ename": "ValueError",
     "evalue": "Shape of passed values is (1, 300000), indices imply (1, 3000)",
     "output_type": "error",
     "traceback": [
      "\u001b[0;31m---------------------------------------------------------------------------\u001b[0m",
      "\u001b[0;31mValueError\u001b[0m                                Traceback (most recent call last)",
      "\u001b[0;32m/Users/andrei/anaconda3/envs/cil/lib/python3.5/site-packages/pandas/core/internals.py\u001b[0m in \u001b[0;36mcreate_block_manager_from_arrays\u001b[0;34m(arrays, names, axes)\u001b[0m\n\u001b[1;32m   3928\u001b[0m         \u001b[0mblocks\u001b[0m \u001b[0;34m=\u001b[0m \u001b[0mform_blocks\u001b[0m\u001b[0;34m(\u001b[0m\u001b[0marrays\u001b[0m\u001b[0;34m,\u001b[0m \u001b[0mnames\u001b[0m\u001b[0;34m,\u001b[0m \u001b[0maxes\u001b[0m\u001b[0;34m)\u001b[0m\u001b[0;34m\u001b[0m\u001b[0m\n\u001b[0;32m-> 3929\u001b[0;31m         \u001b[0mmgr\u001b[0m \u001b[0;34m=\u001b[0m \u001b[0mBlockManager\u001b[0m\u001b[0;34m(\u001b[0m\u001b[0mblocks\u001b[0m\u001b[0;34m,\u001b[0m \u001b[0maxes\u001b[0m\u001b[0;34m)\u001b[0m\u001b[0;34m\u001b[0m\u001b[0m\n\u001b[0m\u001b[1;32m   3930\u001b[0m         \u001b[0mmgr\u001b[0m\u001b[0;34m.\u001b[0m\u001b[0m_consolidate_inplace\u001b[0m\u001b[0;34m(\u001b[0m\u001b[0;34m)\u001b[0m\u001b[0;34m\u001b[0m\u001b[0m\n",
      "\u001b[0;32m/Users/andrei/anaconda3/envs/cil/lib/python3.5/site-packages/pandas/core/internals.py\u001b[0m in \u001b[0;36m__init__\u001b[0;34m(self, blocks, axes, do_integrity_check, fastpath)\u001b[0m\n\u001b[1;32m   2536\u001b[0m         \u001b[0;32mif\u001b[0m \u001b[0mdo_integrity_check\u001b[0m\u001b[0;34m:\u001b[0m\u001b[0;34m\u001b[0m\u001b[0m\n\u001b[0;32m-> 2537\u001b[0;31m             \u001b[0mself\u001b[0m\u001b[0;34m.\u001b[0m\u001b[0m_verify_integrity\u001b[0m\u001b[0;34m(\u001b[0m\u001b[0;34m)\u001b[0m\u001b[0;34m\u001b[0m\u001b[0m\n\u001b[0m\u001b[1;32m   2538\u001b[0m \u001b[0;34m\u001b[0m\u001b[0m\n",
      "\u001b[0;32m/Users/andrei/anaconda3/envs/cil/lib/python3.5/site-packages/pandas/core/internals.py\u001b[0m in \u001b[0;36m_verify_integrity\u001b[0;34m(self)\u001b[0m\n\u001b[1;32m   2746\u001b[0m             \u001b[0;32mif\u001b[0m \u001b[0mblock\u001b[0m\u001b[0;34m.\u001b[0m\u001b[0m_verify_integrity\u001b[0m \u001b[0;32mand\u001b[0m \u001b[0mblock\u001b[0m\u001b[0;34m.\u001b[0m\u001b[0mshape\u001b[0m\u001b[0;34m[\u001b[0m\u001b[0;36m1\u001b[0m\u001b[0;34m:\u001b[0m\u001b[0;34m]\u001b[0m \u001b[0;34m!=\u001b[0m \u001b[0mmgr_shape\u001b[0m\u001b[0;34m[\u001b[0m\u001b[0;36m1\u001b[0m\u001b[0;34m:\u001b[0m\u001b[0;34m]\u001b[0m\u001b[0;34m:\u001b[0m\u001b[0;34m\u001b[0m\u001b[0m\n\u001b[0;32m-> 2747\u001b[0;31m                 \u001b[0mconstruction_error\u001b[0m\u001b[0;34m(\u001b[0m\u001b[0mtot_items\u001b[0m\u001b[0;34m,\u001b[0m \u001b[0mblock\u001b[0m\u001b[0;34m.\u001b[0m\u001b[0mshape\u001b[0m\u001b[0;34m[\u001b[0m\u001b[0;36m1\u001b[0m\u001b[0;34m:\u001b[0m\u001b[0;34m]\u001b[0m\u001b[0;34m,\u001b[0m \u001b[0mself\u001b[0m\u001b[0;34m.\u001b[0m\u001b[0maxes\u001b[0m\u001b[0;34m)\u001b[0m\u001b[0;34m\u001b[0m\u001b[0m\n\u001b[0m\u001b[1;32m   2748\u001b[0m         \u001b[0;32mif\u001b[0m \u001b[0mlen\u001b[0m\u001b[0;34m(\u001b[0m\u001b[0mself\u001b[0m\u001b[0;34m.\u001b[0m\u001b[0mitems\u001b[0m\u001b[0;34m)\u001b[0m \u001b[0;34m!=\u001b[0m \u001b[0mtot_items\u001b[0m\u001b[0;34m:\u001b[0m\u001b[0;34m\u001b[0m\u001b[0m\n",
      "\u001b[0;32m/Users/andrei/anaconda3/envs/cil/lib/python3.5/site-packages/pandas/core/internals.py\u001b[0m in \u001b[0;36mconstruction_error\u001b[0;34m(tot_items, block_shape, axes, e)\u001b[0m\n\u001b[1;32m   3898\u001b[0m     raise ValueError(\"Shape of passed values is {0}, indices imply {1}\".format(\n\u001b[0;32m-> 3899\u001b[0;31m         passed, implied))\n\u001b[0m\u001b[1;32m   3900\u001b[0m \u001b[0;34m\u001b[0m\u001b[0m\n",
      "\u001b[0;31mValueError\u001b[0m: Shape of passed values is (1, 300000), indices imply (1, 3000)",
      "\nDuring handling of the above exception, another exception occurred:\n",
      "\u001b[0;31mValueError\u001b[0m                                Traceback (most recent call last)",
      "\u001b[0;32m<ipython-input-158-9f747530fdeb>\u001b[0m in \u001b[0;36m<module>\u001b[0;34m()\u001b[0m\n\u001b[1;32m     86\u001b[0m     \u001b[0mmv_config\u001b[0m\u001b[0;34m.\u001b[0m\u001b[0mvote_aggregator\u001b[0m\u001b[0;34m,\u001b[0m\u001b[0;34m\u001b[0m\u001b[0m\n\u001b[1;32m     87\u001b[0m     \u001b[0;34m\"lbl\"\u001b[0m\u001b[0;34m,\u001b[0m\u001b[0;34m\u001b[0m\u001b[0m\n\u001b[0;32m---> 88\u001b[0;31m     len(get_topic_judgements_by_doc_id('20424', judgements)))\n\u001b[0m\u001b[1;32m     89\u001b[0m \u001b[0mplt\u001b[0m\u001b[0;34m.\u001b[0m\u001b[0mplot\u001b[0m\u001b[0;34m(\u001b[0m\u001b[0mf\u001b[0m\u001b[0;34m.\u001b[0m\u001b[0mindex\u001b[0m\u001b[0;34m,\u001b[0m \u001b[0mf\u001b[0m\u001b[0;34m[\u001b[0m\u001b[0;34m'lbl'\u001b[0m\u001b[0;34m]\u001b[0m\u001b[0;34m)\u001b[0m\u001b[0;34m\u001b[0m\u001b[0m\n\u001b[1;32m     90\u001b[0m \u001b[0mplt\u001b[0m\u001b[0;34m.\u001b[0m\u001b[0mplot\u001b[0m\u001b[0;34m(\u001b[0m\u001b[0mclassic\u001b[0m\u001b[0;34m.\u001b[0m\u001b[0mindex\u001b[0m \u001b[0;34m/\u001b[0m \u001b[0;36m100.0\u001b[0m\u001b[0;34m,\u001b[0m \u001b[0mclassic\u001b[0m\u001b[0;34m[\u001b[0m\u001b[0;34m'lbl'\u001b[0m\u001b[0;34m]\u001b[0m\u001b[0;34m)\u001b[0m\u001b[0;34m\u001b[0m\u001b[0m\n",
      "\u001b[0;32m<ipython-input-158-9f747530fdeb>\u001b[0m in \u001b[0;36mlearning_curve_frame\u001b[0;34m(topic_id, aggregation, label, document_count, **kw)\u001b[0m\n\u001b[1;32m     77\u001b[0m     \u001b[0mprint\u001b[0m\u001b[0;34m(\u001b[0m\u001b[0mlen\u001b[0m\u001b[0;34m(\u001b[0m\u001b[0macc_avg_resampled\u001b[0m\u001b[0;34m)\u001b[0m\u001b[0;34m)\u001b[0m\u001b[0;34m\u001b[0m\u001b[0m\n\u001b[1;32m     78\u001b[0m     \u001b[0mclassic\u001b[0m \u001b[0;34m=\u001b[0m \u001b[0mframe\u001b[0m\u001b[0;34m\u001b[0m\u001b[0m\n\u001b[0;32m---> 79\u001b[0;31m     \u001b[0mframe\u001b[0m \u001b[0;34m=\u001b[0m \u001b[0mpd\u001b[0m\u001b[0;34m.\u001b[0m\u001b[0mDataFrame\u001b[0m\u001b[0;34m(\u001b[0m\u001b[0;34m{\u001b[0m\u001b[0mlabel\u001b[0m\u001b[0;34m:\u001b[0m \u001b[0macc_avg_resampled\u001b[0m\u001b[0;34m}\u001b[0m\u001b[0;34m,\u001b[0m \u001b[0mindex\u001b[0m\u001b[0;34m=\u001b[0m\u001b[0mnew_index\u001b[0m\u001b[0;34m)\u001b[0m\u001b[0;34m\u001b[0m\u001b[0m\n\u001b[0m\u001b[1;32m     80\u001b[0m \u001b[0;34m\u001b[0m\u001b[0m\n\u001b[1;32m     81\u001b[0m \u001b[0;34m\u001b[0m\u001b[0m\n",
      "\u001b[0;32m/Users/andrei/anaconda3/envs/cil/lib/python3.5/site-packages/pandas/core/frame.py\u001b[0m in \u001b[0;36m__init__\u001b[0;34m(self, data, index, columns, dtype, copy)\u001b[0m\n\u001b[1;32m    221\u001b[0m                                  dtype=dtype, copy=copy)\n\u001b[1;32m    222\u001b[0m         \u001b[0;32melif\u001b[0m \u001b[0misinstance\u001b[0m\u001b[0;34m(\u001b[0m\u001b[0mdata\u001b[0m\u001b[0;34m,\u001b[0m \u001b[0mdict\u001b[0m\u001b[0;34m)\u001b[0m\u001b[0;34m:\u001b[0m\u001b[0;34m\u001b[0m\u001b[0m\n\u001b[0;32m--> 223\u001b[0;31m             \u001b[0mmgr\u001b[0m \u001b[0;34m=\u001b[0m \u001b[0mself\u001b[0m\u001b[0;34m.\u001b[0m\u001b[0m_init_dict\u001b[0m\u001b[0;34m(\u001b[0m\u001b[0mdata\u001b[0m\u001b[0;34m,\u001b[0m \u001b[0mindex\u001b[0m\u001b[0;34m,\u001b[0m \u001b[0mcolumns\u001b[0m\u001b[0;34m,\u001b[0m \u001b[0mdtype\u001b[0m\u001b[0;34m=\u001b[0m\u001b[0mdtype\u001b[0m\u001b[0;34m)\u001b[0m\u001b[0;34m\u001b[0m\u001b[0m\n\u001b[0m\u001b[1;32m    224\u001b[0m         \u001b[0;32melif\u001b[0m \u001b[0misinstance\u001b[0m\u001b[0;34m(\u001b[0m\u001b[0mdata\u001b[0m\u001b[0;34m,\u001b[0m \u001b[0mma\u001b[0m\u001b[0;34m.\u001b[0m\u001b[0mMaskedArray\u001b[0m\u001b[0;34m)\u001b[0m\u001b[0;34m:\u001b[0m\u001b[0;34m\u001b[0m\u001b[0m\n\u001b[1;32m    225\u001b[0m             \u001b[0;32mimport\u001b[0m \u001b[0mnumpy\u001b[0m\u001b[0;34m.\u001b[0m\u001b[0mma\u001b[0m\u001b[0;34m.\u001b[0m\u001b[0mmrecords\u001b[0m \u001b[0;32mas\u001b[0m \u001b[0mmrecords\u001b[0m\u001b[0;34m\u001b[0m\u001b[0m\n",
      "\u001b[0;32m/Users/andrei/anaconda3/envs/cil/lib/python3.5/site-packages/pandas/core/frame.py\u001b[0m in \u001b[0;36m_init_dict\u001b[0;34m(self, data, index, columns, dtype)\u001b[0m\n\u001b[1;32m    357\u001b[0m             \u001b[0marrays\u001b[0m \u001b[0;34m=\u001b[0m \u001b[0;34m[\u001b[0m\u001b[0mdata\u001b[0m\u001b[0;34m[\u001b[0m\u001b[0mk\u001b[0m\u001b[0;34m]\u001b[0m \u001b[0;32mfor\u001b[0m \u001b[0mk\u001b[0m \u001b[0;32min\u001b[0m \u001b[0mkeys\u001b[0m\u001b[0;34m]\u001b[0m\u001b[0;34m\u001b[0m\u001b[0m\n\u001b[1;32m    358\u001b[0m \u001b[0;34m\u001b[0m\u001b[0m\n\u001b[0;32m--> 359\u001b[0;31m         \u001b[0;32mreturn\u001b[0m \u001b[0m_arrays_to_mgr\u001b[0m\u001b[0;34m(\u001b[0m\u001b[0marrays\u001b[0m\u001b[0;34m,\u001b[0m \u001b[0mdata_names\u001b[0m\u001b[0;34m,\u001b[0m \u001b[0mindex\u001b[0m\u001b[0;34m,\u001b[0m \u001b[0mcolumns\u001b[0m\u001b[0;34m,\u001b[0m \u001b[0mdtype\u001b[0m\u001b[0;34m=\u001b[0m\u001b[0mdtype\u001b[0m\u001b[0;34m)\u001b[0m\u001b[0;34m\u001b[0m\u001b[0m\n\u001b[0m\u001b[1;32m    360\u001b[0m \u001b[0;34m\u001b[0m\u001b[0m\n\u001b[1;32m    361\u001b[0m     \u001b[0;32mdef\u001b[0m \u001b[0m_init_ndarray\u001b[0m\u001b[0;34m(\u001b[0m\u001b[0mself\u001b[0m\u001b[0;34m,\u001b[0m \u001b[0mvalues\u001b[0m\u001b[0;34m,\u001b[0m \u001b[0mindex\u001b[0m\u001b[0;34m,\u001b[0m \u001b[0mcolumns\u001b[0m\u001b[0;34m,\u001b[0m \u001b[0mdtype\u001b[0m\u001b[0;34m=\u001b[0m\u001b[0;32mNone\u001b[0m\u001b[0;34m,\u001b[0m \u001b[0mcopy\u001b[0m\u001b[0;34m=\u001b[0m\u001b[0;32mFalse\u001b[0m\u001b[0;34m)\u001b[0m\u001b[0;34m:\u001b[0m\u001b[0;34m\u001b[0m\u001b[0m\n",
      "\u001b[0;32m/Users/andrei/anaconda3/envs/cil/lib/python3.5/site-packages/pandas/core/frame.py\u001b[0m in \u001b[0;36m_arrays_to_mgr\u001b[0;34m(arrays, arr_names, index, columns, dtype)\u001b[0m\n\u001b[1;32m   5248\u001b[0m     \u001b[0maxes\u001b[0m \u001b[0;34m=\u001b[0m \u001b[0;34m[\u001b[0m\u001b[0m_ensure_index\u001b[0m\u001b[0;34m(\u001b[0m\u001b[0mcolumns\u001b[0m\u001b[0;34m)\u001b[0m\u001b[0;34m,\u001b[0m \u001b[0m_ensure_index\u001b[0m\u001b[0;34m(\u001b[0m\u001b[0mindex\u001b[0m\u001b[0;34m)\u001b[0m\u001b[0;34m]\u001b[0m\u001b[0;34m\u001b[0m\u001b[0m\n\u001b[1;32m   5249\u001b[0m \u001b[0;34m\u001b[0m\u001b[0m\n\u001b[0;32m-> 5250\u001b[0;31m     \u001b[0;32mreturn\u001b[0m \u001b[0mcreate_block_manager_from_arrays\u001b[0m\u001b[0;34m(\u001b[0m\u001b[0marrays\u001b[0m\u001b[0;34m,\u001b[0m \u001b[0marr_names\u001b[0m\u001b[0;34m,\u001b[0m \u001b[0maxes\u001b[0m\u001b[0;34m)\u001b[0m\u001b[0;34m\u001b[0m\u001b[0m\n\u001b[0m\u001b[1;32m   5251\u001b[0m \u001b[0;34m\u001b[0m\u001b[0m\n\u001b[1;32m   5252\u001b[0m \u001b[0;34m\u001b[0m\u001b[0m\n",
      "\u001b[0;32m/Users/andrei/anaconda3/envs/cil/lib/python3.5/site-packages/pandas/core/internals.py\u001b[0m in \u001b[0;36mcreate_block_manager_from_arrays\u001b[0;34m(arrays, names, axes)\u001b[0m\n\u001b[1;32m   3931\u001b[0m         \u001b[0;32mreturn\u001b[0m \u001b[0mmgr\u001b[0m\u001b[0;34m\u001b[0m\u001b[0m\n\u001b[1;32m   3932\u001b[0m     \u001b[0;32mexcept\u001b[0m \u001b[0mValueError\u001b[0m \u001b[0;32mas\u001b[0m \u001b[0me\u001b[0m\u001b[0;34m:\u001b[0m\u001b[0;34m\u001b[0m\u001b[0m\n\u001b[0;32m-> 3933\u001b[0;31m         \u001b[0mconstruction_error\u001b[0m\u001b[0;34m(\u001b[0m\u001b[0mlen\u001b[0m\u001b[0;34m(\u001b[0m\u001b[0marrays\u001b[0m\u001b[0;34m)\u001b[0m\u001b[0;34m,\u001b[0m \u001b[0marrays\u001b[0m\u001b[0;34m[\u001b[0m\u001b[0;36m0\u001b[0m\u001b[0;34m]\u001b[0m\u001b[0;34m.\u001b[0m\u001b[0mshape\u001b[0m\u001b[0;34m,\u001b[0m \u001b[0maxes\u001b[0m\u001b[0;34m,\u001b[0m \u001b[0me\u001b[0m\u001b[0;34m)\u001b[0m\u001b[0;34m\u001b[0m\u001b[0m\n\u001b[0m\u001b[1;32m   3934\u001b[0m \u001b[0;34m\u001b[0m\u001b[0m\n\u001b[1;32m   3935\u001b[0m \u001b[0;34m\u001b[0m\u001b[0m\n",
      "\u001b[0;32m/Users/andrei/anaconda3/envs/cil/lib/python3.5/site-packages/pandas/core/internals.py\u001b[0m in \u001b[0;36mconstruction_error\u001b[0;34m(tot_items, block_shape, axes, e)\u001b[0m\n\u001b[1;32m   3897\u001b[0m         \u001b[0;32mraise\u001b[0m \u001b[0mValueError\u001b[0m\u001b[0;34m(\u001b[0m\u001b[0;34m\"Empty data passed with indices specified.\"\u001b[0m\u001b[0;34m)\u001b[0m\u001b[0;34m\u001b[0m\u001b[0m\n\u001b[1;32m   3898\u001b[0m     raise ValueError(\"Shape of passed values is {0}, indices imply {1}\".format(\n\u001b[0;32m-> 3899\u001b[0;31m         passed, implied))\n\u001b[0m\u001b[1;32m   3900\u001b[0m \u001b[0;34m\u001b[0m\u001b[0m\n\u001b[1;32m   3901\u001b[0m \u001b[0;34m\u001b[0m\u001b[0m\n",
      "\u001b[0;31mValueError\u001b[0m: Shape of passed values is (1, 300000), indices imply (1, 3000)"
     ]
    }
   ],
   "source": [
    "def measure_accuracy(evaluated_judgements, ground_truth, topic_judgements):\n",
    "    \"\"\"Compares a set of computed judgements with the ground truth.\n",
    "    \n",
    "    Returns:\n",
    "        A floating point number in [0, 1] quantifying the accuracy of the\n",
    "        computed judgements.\n",
    "    \"\"\"\n",
    "    # TODO(andrei) Vectorize this computation as much as possible.\n",
    "    match = 0\n",
    "    fail = 0\n",
    "    \n",
    "    for doc_id in ground_truth:\n",
    "        # TODO(andrei) Don't make it this far with shitty data. Filter useless GTs earlier on!\n",
    "        # Unestabilshed relevance in ground truth.\n",
    "        if ground_truth[doc_id].label < 0:\n",
    "            continue\n",
    "            \n",
    "        gt_label = (ground_truth[doc_id].label > 0)        \n",
    "        evaluated_label = evaluated_judgements[doc_id]\n",
    "        if gt_label == evaluated_label:\n",
    "            match += 1\n",
    "        else:\n",
    "            fail += 1\n",
    "            \n",
    "    return match / (match + fail)\n",
    "\n",
    "\n",
    "def build_learning_curve(topic_id, aggregation_function, **kw):\n",
    "    \"\"\"Returns a numpy array with growing accuracy, up to 'max_votes'.\"\"\"\n",
    "    \n",
    "    topic = id_topic_info[topic_id]\n",
    "    graph = id_topic_graph[topic_id]\n",
    "    topic_judgements = get_topic_judgements_by_doc_id(topic_id, judgements)\n",
    "    topic_ground_truth = {truth.document_id: truth for truth in test_data\n",
    "                          if truth.topic_id == topic_id}\n",
    "    \n",
    "\n",
    "    # i.e. up to target_votes votes per doc, on average.\n",
    "    # TODO(andrei) Make this cleaner and more seamless.\n",
    "    max_votes = kw['max_votes'] if 'max_votes' in kw else 3\n",
    "    bud = len(topic_judgements) * max_votes\n",
    "    acc = evaluate(\n",
    "        graph,\n",
    "        topic_judgements,\n",
    "        topic_ground_truth,\n",
    "        aggregation_function,\n",
    "        budget=bud,\n",
    "        **kw)\n",
    "\n",
    "    # Note: this result is still indexed by-vote.\n",
    "    acc = np.array(acc)\n",
    "    acc_avg = np.mean(acc, axis=0)        \n",
    "    return acc_avg\n",
    "\n",
    "\n",
    "def learning_curve_frame(topic_id, aggregation, label, document_count, **kw):\n",
    "    \"\"\"Helper proxy for 'build_learning_curve'.\n",
    "    \n",
    "    Wraps its result in a pandas dataframe, and normalizes the\n",
    "    index so that it represents average votes per document.\n",
    "    \"\"\"\n",
    "    \n",
    "    # In votes_per_doc space.\n",
    "    # TODO(andrei) Document this stuff.\n",
    "    sample_every = 0.001\n",
    "    acc_avg = build_learning_curve(topic_id, aggregation, **kw)\n",
    "    frame = pd.DataFrame({label: acc_avg})\n",
    "    print(document_count)\n",
    "    new_index = np.arange(0, len(acc_avg) / document_count, sample_every)\n",
    "    # TODO(andrei) USE LINSPACE!\n",
    "    acc_avg_resampled = np.interp(\n",
    "        # Where to sample\n",
    "        np.arange(0, len(acc_avg), sample_every),\n",
    "        # Sampling x coords\n",
    "        np.arange(0, len(acc_avg)),\n",
    "        # Values to sample\n",
    "        acc_avg)\n",
    "    print(len(acc_avg_resampled))\n",
    "    classic = frame\n",
    "    frame = pd.DataFrame({label: acc_avg_resampled}, index=new_index)\n",
    "    \n",
    "\n",
    "    return frame, classic\n",
    "\n",
    "f, classic = learning_curve_frame(\n",
    "    '20424', \n",
    "    mv_config.vote_aggregator,\n",
    "    \"lbl\",\n",
    "    len(get_topic_judgements_by_doc_id('20424', judgements)))\n",
    "plt.plot(f.index, f['lbl'])\n",
    "plt.plot(classic.index / 100.0, classic['lbl'])"
   ]
  },
  {
   "cell_type": "code",
   "execution_count": 137,
   "metadata": {
    "collapsed": false
   },
   "outputs": [
    {
     "name": "stdout",
     "output_type": "stream",
     "text": [
      "[   0.    11.3   22.6   33.9   45.2   56.5   67.8   79.1   90.4  101.7\n",
      "  113.   124.3  135.6  146.9  158.2  169.5  180.8  192.1  203.4  214.7]\n",
      "[   0.    67.8  135.6  203.4]\n"
     ]
    }
   ],
   "source": [
    "from sklearn.utils import resample\n",
    "\n",
    "l = 20\n",
    "every = 6\n",
    "x = np.arange(l) * 11.3\n",
    "print(x)\n",
    "\n",
    "y = np.interp(np.arange(0, l, every), np.arange(l), x)\n",
    "print(y)"
   ]
  },
  {
   "cell_type": "code",
   "execution_count": 123,
   "metadata": {
    "ExecuteTime": {
     "end_time": "2016-05-02T15:17:26.815375",
     "start_time": "2016-05-02T15:17:26.812047"
    },
    "collapsed": true
   },
   "outputs": [],
   "source": [
    "class ExperimentConfig(object):    \n",
    "    def __init__(self, vote_aggregator, name, params):\n",
    "        self.vote_aggregator = vote_aggregator\n",
    "        self.name = name\n",
    "        self.params = params"
   ]
  },
  {
   "cell_type": "code",
   "execution_count": 124,
   "metadata": {
    "ExecuteTime": {
     "end_time": "2016-05-02T15:17:30.570343",
     "start_time": "2016-05-02T15:17:30.562935"
    },
    "collapsed": false
   },
   "outputs": [],
   "source": [
    "# plot_mv_learning_curve('20910')\n",
    "#plot_mv_learning_curve('20996', iterations=50)\n",
    "#acc_avg = plot_learning_curve('20704', aggregate_MV, iterations=100, max_votes=1, label=\"MV\")\n",
    "#print(len(acc_avg))\n",
    "#print(acc_avg[-1])\n",
    "#plot_learning_curve('20704', aggregate_MV_NN, iterations=100, max_votes=1, rho_s=0.5, label=\"MVNN\")\n",
    "#plot_learning_curve('20704', aggregate_MV_NN, iterations=100, max_votes=1, rho_s=0.85, label=\"MVNN+\", seek_good_neighbor=True, marker='^')\n",
    "\n",
    "mv_config = ExperimentConfig(aggregate_MV, \"MV\", {})\n",
    "mv_nn_config = ExperimentConfig(aggregate_MV_NN, \"MVNN(0.5)\", {'rho_s': 0.5})\n",
    "mv_nn_09_config = ExperimentConfig(aggregate_MV_NN, \"MVNN(0.9)\", {'rho_s': 0.9})\n",
    "mv_nn_plus = ExperimentConfig(aggregate_MV_NN, \"MVNN+(0.9)\", {'rho_s': 0.9, 'seek_good_neighbor': True})\n",
    "mv_nn_plus_hardcore = ExperimentConfig(aggregate_MV_NN, \"MVNN+(0.995)\", {'rho_s': 0.995, 'seek_good_neighbor': True})\n",
    "\n",
    "def plot_topic(topic_id, experiments, max_votes, iterations, **kw):\n",
    "    topic_judgements = get_topic_judgements_by_doc_id(topic_id, judgements)\n",
    "    document_count = len(topic_judgements)\n",
    "    cframe = pd.DataFrame()\n",
    "    \n",
    "    for cfg in experiments:\n",
    "        subframe = learning_curve_frame(\n",
    "            topic_id,\n",
    "            cfg.vote_aggregator,\n",
    "            cfg.name,\n",
    "            document_count,\n",
    "            iterations=iterations,\n",
    "            max_votes=max_votes,\n",
    "            **cfg.params)\n",
    "        cframe = pd.concat([cframe, subframe])\n",
    "        print(cframe.columns)\n",
    "        \n",
    "    ax = cframe.plot(marker=kw.get('marker'), fontsize=12)    \n",
    "    ax.set_xlabel(\"Mean votes per document\")\n",
    "    ax.set_ylabel(\"Accuracy\")\n",
    "    ax.legend(loc='lower right')"
   ]
  },
  {
   "cell_type": "code",
   "execution_count": 125,
   "metadata": {
    "ExecuteTime": {
     "end_time": "2016-05-02T15:18:12.212031",
     "start_time": "2016-05-02T15:18:05.037907"
    },
    "collapsed": false,
    "scrolled": false
   },
   "outputs": [
    {
     "name": "stdout",
     "output_type": "stream",
     "text": [
      "Iterations: 25\n",
      "30\n",
      "Index(['MV'], dtype='object')\n",
      "30\n",
      "Index(['MV', 'MVNN(0.5)'], dtype='object')\n",
      "30\n",
      "Index(['MV', 'MVNN(0.5)', 'MVNN(0.9)'], dtype='object')\n",
      "30\n",
      "Index(['MV', 'MVNN(0.5)', 'MVNN(0.9)', 'MVNN+(0.9)'], dtype='object')\n"
     ]
    },
    {
     "data": {
      "image/png": "[encoded data removed]",
      "text/plain": [
       "<matplotlib.figure.Figure at 0x1150f4fd0>"
      ]
     },
     "metadata": {},
     "output_type": "display_data"
    }
   ],
   "source": [
    "options={\"[%s] %s (%d)\" % (t.topic_id, t.query, t.document_count) : t.topic_id for t in id_topic_info.values()}\n",
    "\n",
    "import pylab\n",
    "pylab.rcParams['figure.figsize'] = (18, 9)\n",
    "\n",
    "# MVNN+(0.9)\n",
    "# See: 20584 with VERY FEW votes\n",
    "# See: 20694 with VERY FEW votes\n",
    "# See: 20780 with VERY FEW votes. Starts really sucking after 1.0, especially around 3.0.\n",
    "# See: 20956: beats opponents 1-3\n",
    "# 20972 Highlights poor performance of MVNN(0.5) vs MVNN(0.9)\n",
    "# vice president Richard Nixon seems to yield very poor results across the board.\n",
    "#     Need to manually inspect data. Perhaps it's because results about Nixon \n",
    "#     as a president seem relevant but actually are not?\n",
    "\n",
    "@interact(\n",
    "    topic_id=widgets.Dropdown(options=options, value='20704'),\n",
    "    iterations=widgets.IntSlider(min=10, max=500, step=5, continuous_update=False, value=25)\n",
    ")\n",
    "def plot_proxy(topic_id, iterations):\n",
    "    print(\"Iterations: %d\" % iterations)\n",
    "    experiments = [mv_config, \n",
    "                   mv_nn_config,\n",
    "                   mv_nn_09_config,\n",
    "                   mv_nn_plus]\n",
    "    plot_topic(topic_id, experiments, 3, iterations)"
   ]
  },
  {
   "cell_type": "markdown",
   "metadata": {},
   "source": [
    "## Aggregation over topics"
   ]
  },
  {
   "cell_type": "code",
   "execution_count": 69,
   "metadata": {
    "collapsed": true
   },
   "outputs": [],
   "source": [
    "def plot_all(experiments, max_votes, iterations):\n",
    "    for cfg in experiments:\n",
    "        build_cross_topic_learning_curve(\n",
    "            cfg.vote_aggregator,\n",
    "            cfg.name,\n",
    "            iterations=iterations,\n",
    "            max_votes=max_votes,\n",
    "            **cfg.params)\n",
    "\n",
    "    plt.legend(loc='lower right')\n",
    "    \n",
    "\n",
    "# TODO(andrei) Rename this to reflect frameness.\n",
    "def build_cross_topic_learning_curve(aggregation_function, label, **kw):\n",
    "    curves = []\n",
    "     \n",
    "    for idx, (topic_id, topic) in enumerate(id_topic_info.items()):\n",
    "        topic_judgements = get_topic_judgements_by_doc_id(topic_id, judgements)\n",
    "        document_count = len(topic_judgements)\n",
    "        curve = learning_curve_frame(topic_id, aggregation_function, label, document_count, **kw)\n",
    "        print(\"Individual LC:\", curve.shape)\n",
    "        curves.append(curve)\n",
    "    frame = pd.concat(curves)\n",
    "\n",
    "    return np.mean(curves, axis=0)\n",
    "\n",
    "# def plot_cross_topic_learning_curve(aggregation, **kw):\n",
    "#     acc_avg = build_cross_topic_learning_curve(aggregation, **kw)\n",
    "    \n",
    "#     # TODO(andrei) maybe pass these judgements as parameter or something.\n",
    "#     #topic_judgements = get_topic_judgements_by_doc_id(topic_id, judgements)\n",
    "#     plt.plot(np.arange(len(acc_avg)) / len(topic_judgements), acc_avg, label=kw.get('label', None), marker=kw.get('marker'))\n",
    "#     plt.xlabel(\"Mean votes per document\")\n",
    "#     plt.ylabel(\"Accuracy\")\n",
    "#     return acc_avg"
   ]
  },
  {
   "cell_type": "code",
   "execution_count": 70,
   "metadata": {
    "collapsed": false
   },
   "outputs": [
    {
     "name": "stdout",
     "output_type": "stream",
     "text": [
      "Individual LC: (105, 1)\n",
      "Individual LC: (115, 1)\n",
      "Individual LC: (115, 1)\n",
      "Individual LC: (100, 1)\n",
      "Individual LC: (110, 1)\n",
      "Individual LC: (115, 1)\n",
      "Individual LC: (90, 1)\n",
      "Individual LC: (100, 1)\n",
      "Individual LC: (110, 1)\n",
      "Individual LC: (110, 1)\n",
      "Individual LC: (90, 1)\n",
      "Individual LC: (100, 1)\n",
      "Individual LC: (100, 1)\n",
      "Individual LC: (115, 1)\n",
      "Individual LC: (110, 1)\n",
      "Individual LC: (125, 1)\n",
      "Individual LC: (100, 1)\n",
      "Individual LC: (100, 1)\n",
      "Individual LC: (110, 1)\n",
      "Individual LC: (110, 1)\n",
      "Individual LC: (115, 1)\n",
      "Individual LC: (115, 1)\n",
      "Individual LC: (100, 1)\n",
      "Individual LC: (100, 1)\n",
      "Individual LC: (110, 1)\n",
      "Individual LC: (110, 1)\n",
      "Individual LC: (105, 1)\n",
      "Individual LC: (110, 1)\n",
      "Individual LC: (90, 1)\n",
      "Individual LC: (115, 1)\n"
     ]
    },
    {
     "ename": "ValueError",
     "evalue": "cannot copy sequence with size 105 to array axis with dimension 1",
     "output_type": "error",
     "traceback": [
      "\u001b[0;31m---------------------------------------------------------------------------\u001b[0m",
      "\u001b[0;31mValueError\u001b[0m                                Traceback (most recent call last)",
      "\u001b[0;32m<ipython-input-70-870acb9b6c2a>\u001b[0m in \u001b[0;36m<module>\u001b[0;34m()\u001b[0m\n\u001b[0;32m----> 1\u001b[0;31m \u001b[0mplot_all\u001b[0m\u001b[0;34m(\u001b[0m\u001b[0;34m[\u001b[0m\u001b[0mmv_config\u001b[0m\u001b[0;34m]\u001b[0m\u001b[0;34m,\u001b[0m \u001b[0;36m1\u001b[0m\u001b[0;34m,\u001b[0m \u001b[0;36m1\u001b[0m\u001b[0;34m)\u001b[0m\u001b[0;34m\u001b[0m\u001b[0m\n\u001b[0m",
      "\u001b[0;32m<ipython-input-69-f09d9c399edf>\u001b[0m in \u001b[0;36mplot_all\u001b[0;34m(experiments, max_votes, iterations)\u001b[0m\n\u001b[1;32m      6\u001b[0m             \u001b[0miterations\u001b[0m\u001b[0;34m=\u001b[0m\u001b[0miterations\u001b[0m\u001b[0;34m,\u001b[0m\u001b[0;34m\u001b[0m\u001b[0m\n\u001b[1;32m      7\u001b[0m             \u001b[0mmax_votes\u001b[0m\u001b[0;34m=\u001b[0m\u001b[0mmax_votes\u001b[0m\u001b[0;34m,\u001b[0m\u001b[0;34m\u001b[0m\u001b[0m\n\u001b[0;32m----> 8\u001b[0;31m             **cfg.params)\n\u001b[0m\u001b[1;32m      9\u001b[0m \u001b[0;34m\u001b[0m\u001b[0m\n\u001b[1;32m     10\u001b[0m     \u001b[0mplt\u001b[0m\u001b[0;34m.\u001b[0m\u001b[0mlegend\u001b[0m\u001b[0;34m(\u001b[0m\u001b[0mloc\u001b[0m\u001b[0;34m=\u001b[0m\u001b[0;34m'lower right'\u001b[0m\u001b[0;34m)\u001b[0m\u001b[0;34m\u001b[0m\u001b[0m\n",
      "\u001b[0;32m<ipython-input-69-f09d9c399edf>\u001b[0m in \u001b[0;36mbuild_cross_topic_learning_curve\u001b[0;34m(aggregation_function, label, **kw)\u001b[0m\n\u001b[1;32m     23\u001b[0m     \u001b[0mframe\u001b[0m \u001b[0;34m=\u001b[0m \u001b[0mpd\u001b[0m\u001b[0;34m.\u001b[0m\u001b[0mconcat\u001b[0m\u001b[0;34m(\u001b[0m\u001b[0mcurves\u001b[0m\u001b[0;34m)\u001b[0m\u001b[0;34m\u001b[0m\u001b[0m\n\u001b[1;32m     24\u001b[0m \u001b[0;34m\u001b[0m\u001b[0m\n\u001b[0;32m---> 25\u001b[0;31m     \u001b[0;32mreturn\u001b[0m \u001b[0mnp\u001b[0m\u001b[0;34m.\u001b[0m\u001b[0mmean\u001b[0m\u001b[0;34m(\u001b[0m\u001b[0mcurves\u001b[0m\u001b[0;34m,\u001b[0m \u001b[0maxis\u001b[0m\u001b[0;34m=\u001b[0m\u001b[0;36m0\u001b[0m\u001b[0;34m)\u001b[0m\u001b[0;34m\u001b[0m\u001b[0m\n\u001b[0m\u001b[1;32m     26\u001b[0m \u001b[0;34m\u001b[0m\u001b[0m\n\u001b[1;32m     27\u001b[0m \u001b[0;31m# def plot_cross_topic_learning_curve(aggregation, **kw):\u001b[0m\u001b[0;34m\u001b[0m\u001b[0;34m\u001b[0m\u001b[0m\n",
      "\u001b[0;32m/Users/andrei/anaconda3/envs/cil/lib/python3.5/site-packages/numpy/core/fromnumeric.py\u001b[0m in \u001b[0;36mmean\u001b[0;34m(a, axis, dtype, out, keepdims)\u001b[0m\n\u001b[1;32m   2883\u001b[0m \u001b[0;34m\u001b[0m\u001b[0m\n\u001b[1;32m   2884\u001b[0m     return _methods._mean(a, axis=axis, dtype=dtype,\n\u001b[0;32m-> 2885\u001b[0;31m                           out=out, keepdims=keepdims)\n\u001b[0m\u001b[1;32m   2886\u001b[0m \u001b[0;34m\u001b[0m\u001b[0m\n\u001b[1;32m   2887\u001b[0m \u001b[0;34m\u001b[0m\u001b[0m\n",
      "\u001b[0;32m/Users/andrei/anaconda3/envs/cil/lib/python3.5/site-packages/numpy/core/_methods.py\u001b[0m in \u001b[0;36m_mean\u001b[0;34m(a, axis, dtype, out, keepdims)\u001b[0m\n\u001b[1;32m     52\u001b[0m \u001b[0;34m\u001b[0m\u001b[0m\n\u001b[1;32m     53\u001b[0m \u001b[0;32mdef\u001b[0m \u001b[0m_mean\u001b[0m\u001b[0;34m(\u001b[0m\u001b[0ma\u001b[0m\u001b[0;34m,\u001b[0m \u001b[0maxis\u001b[0m\u001b[0;34m=\u001b[0m\u001b[0;32mNone\u001b[0m\u001b[0;34m,\u001b[0m \u001b[0mdtype\u001b[0m\u001b[0;34m=\u001b[0m\u001b[0;32mNone\u001b[0m\u001b[0;34m,\u001b[0m \u001b[0mout\u001b[0m\u001b[0;34m=\u001b[0m\u001b[0;32mNone\u001b[0m\u001b[0;34m,\u001b[0m \u001b[0mkeepdims\u001b[0m\u001b[0;34m=\u001b[0m\u001b[0;32mFalse\u001b[0m\u001b[0;34m)\u001b[0m\u001b[0;34m:\u001b[0m\u001b[0;34m\u001b[0m\u001b[0m\n\u001b[0;32m---> 54\u001b[0;31m     \u001b[0marr\u001b[0m \u001b[0;34m=\u001b[0m \u001b[0masanyarray\u001b[0m\u001b[0;34m(\u001b[0m\u001b[0ma\u001b[0m\u001b[0;34m)\u001b[0m\u001b[0;34m\u001b[0m\u001b[0m\n\u001b[0m\u001b[1;32m     55\u001b[0m \u001b[0;34m\u001b[0m\u001b[0m\n\u001b[1;32m     56\u001b[0m     \u001b[0mrcount\u001b[0m \u001b[0;34m=\u001b[0m \u001b[0m_count_reduce_items\u001b[0m\u001b[0;34m(\u001b[0m\u001b[0marr\u001b[0m\u001b[0;34m,\u001b[0m \u001b[0maxis\u001b[0m\u001b[0;34m)\u001b[0m\u001b[0;34m\u001b[0m\u001b[0m\n",
      "\u001b[0;32m/Users/andrei/anaconda3/envs/cil/lib/python3.5/site-packages/numpy/core/numeric.py\u001b[0m in \u001b[0;36masanyarray\u001b[0;34m(a, dtype, order)\u001b[0m\n\u001b[1;32m    531\u001b[0m \u001b[0;34m\u001b[0m\u001b[0m\n\u001b[1;32m    532\u001b[0m     \"\"\"\n\u001b[0;32m--> 533\u001b[0;31m     \u001b[0;32mreturn\u001b[0m \u001b[0marray\u001b[0m\u001b[0;34m(\u001b[0m\u001b[0ma\u001b[0m\u001b[0;34m,\u001b[0m \u001b[0mdtype\u001b[0m\u001b[0;34m,\u001b[0m \u001b[0mcopy\u001b[0m\u001b[0;34m=\u001b[0m\u001b[0;32mFalse\u001b[0m\u001b[0;34m,\u001b[0m \u001b[0morder\u001b[0m\u001b[0;34m=\u001b[0m\u001b[0morder\u001b[0m\u001b[0;34m,\u001b[0m \u001b[0msubok\u001b[0m\u001b[0;34m=\u001b[0m\u001b[0;32mTrue\u001b[0m\u001b[0;34m)\u001b[0m\u001b[0;34m\u001b[0m\u001b[0m\n\u001b[0m\u001b[1;32m    534\u001b[0m \u001b[0;34m\u001b[0m\u001b[0m\n\u001b[1;32m    535\u001b[0m \u001b[0;32mdef\u001b[0m \u001b[0mascontiguousarray\u001b[0m\u001b[0;34m(\u001b[0m\u001b[0ma\u001b[0m\u001b[0;34m,\u001b[0m \u001b[0mdtype\u001b[0m\u001b[0;34m=\u001b[0m\u001b[0;32mNone\u001b[0m\u001b[0;34m)\u001b[0m\u001b[0;34m:\u001b[0m\u001b[0;34m\u001b[0m\u001b[0m\n",
      "\u001b[0;31mValueError\u001b[0m: cannot copy sequence with size 105 to array axis with dimension 1"
     ]
    }
   ],
   "source": [
    "plot_all([mv_config], 1, 1)"
   ]
  },
  {
   "cell_type": "markdown",
   "metadata": {},
   "source": [
    "## Comparison with paper gold standard"
   ]
  },
  {
   "cell_type": "code",
   "execution_count": null,
   "metadata": {
    "ExecuteTime": {
     "end_time": "2016-05-02T14:53:35.948470",
     "start_time": "2016-05-02T14:48:53.880020"
    },
    "collapsed": false
   },
   "outputs": [],
   "source": [
    "after_one_vote = {}\n",
    "topic_count = len(id_topic_info)\n",
    "\n",
    "for i, (topic_id, topic) in enumerate(id_topic_info.items()):\n",
    "    print(\"Topic %d/%d\" % (i + 1, topic_count))\n",
    "    data = build_learning_curve(\n",
    "        topic_id,\n",
    "        aggregate_MV,\n",
    "        iterations=1000,\n",
    "        max_votes=1,\n",
    "        progress_every=-1)\n",
    "\n",
    "    after_one_vote[topic_id] = data[-1]    "
   ]
  },
  {
   "cell_type": "code",
   "execution_count": null,
   "metadata": {
    "ExecuteTime": {
     "end_time": "2016-05-02T14:53:35.983742",
     "start_time": "2016-05-02T14:53:35.950629"
    },
    "collapsed": false
   },
   "outputs": [],
   "source": [
    "paper_standard_mv = {\n",
    "    '20424': 0.594,\n",
    "    '20488': 0.667,\n",
    "    '20542': 0.676,\n",
    "    '20584': 0.689,\n",
    "    '20636': 0.716,\n",
    "    '20642': 0.693,\n",
    "    '20686': 0.693,\n",
    "    '20690': 0.703,\n",
    "    '20694': 0.726,\n",
    "    '20696': 0.562,\n",
    "    '20704': 0.670,\n",
    "    '20714': 0.808,\n",
    "    '20764': 0.676,\n",
    "    '20766': 0.796,\n",
    "    '20778': 0.652,\n",
    "    '20780': 0.641,\n",
    "    '20812': 0.688,\n",
    "    '20814': 0.792,\n",
    "    '20832': 0.630,\n",
    "    '20910': 0.661,\n",
    "    '20916': 0.650,\n",
    "    '20932': 0.576,\n",
    "    '20956': 0.616,\n",
    "    '20958': 0.610,\n",
    "    '20962': 0.552,\n",
    "    '20972': 0.668,\n",
    "    '20976': 0.632,\n",
    "    '20996': 0.542\n",
    "}\n",
    "\n",
    "# TODO(andrei) \n",
    "paper_standard_mvnn_05 = {\n",
    "    '20424': 0.608,\n",
    "    '20488': 0.722,\n",
    "    '20542': 0.673,\n",
    "    '20584': 0.761, #*\n",
    "    '20636': 0.774, #*\n",
    "    '20642': 0.756, #*\n",
    "    '20686': 0.639,\n",
    "    \n",
    "    '20690': 0.744, #*\n",
    "    '20694': 0.746,\n",
    "    '20696': 0.622,\n",
    "    '20704': 0.790, #*\n",
    "    '20714': 0.818,\n",
    "    '20764': 0.600,\n",
    "    '20766': 0.794,\n",
    "    '20778': 0.662,\n",
    "    '20780': 0.732, #*\n",
    "    '20812': 0.695,\n",
    "    '20814': 0.770,\n",
    "    '20832': 0.642,\n",
    "    '20910': 0.643,\n",
    "    '20916': 0.638,\n",
    "    '20932': 0.540,\n",
    "    '20956': 0.646,\n",
    "    '20958': 0.556,\n",
    "    '20962': 0.610,\n",
    "    '20972': 0.632,\n",
    "    '20976': 0.620,\n",
    "    '20996': 0.504\n",
    "}\n",
    "\n",
    "def rmse_own_results(own_result_map):\n",
    "    rmse = 0.0\n",
    "    for topic_id, mv_score in paper_standard_mv.items():\n",
    "        rmse += abs(own_result_map[topic_id] - mv_score) ** 2\n",
    "    \n",
    "    rmse /= len(paper_standard_mv)\n",
    "    return rmse"
   ]
  },
  {
   "cell_type": "code",
   "execution_count": null,
   "metadata": {
    "ExecuteTime": {
     "end_time": "2016-05-02T14:53:35.989171",
     "start_time": "2016-05-02T14:53:35.985890"
    },
    "collapsed": false
   },
   "outputs": [],
   "source": [
    "print(rmse_own_results(after_one_vote))"
   ]
  },
  {
   "cell_type": "markdown",
   "metadata": {},
   "source": [
    "### RMSE for MV\n",
    "* rmse = 0.44473 when comparing all votes to 0.0\n",
    "* rmse = 0.03119 when comparing all votes to 0.5\n",
    "* rmse = 0.01002 when running 500 iterations (30 Apr)\n",
    "* rmse = 0.00989 when running 1000 iterations (30 Apr)"
   ]
  },
  {
   "cell_type": "code",
   "execution_count": null,
   "metadata": {
    "collapsed": true
   },
   "outputs": [],
   "source": []
  }
 ],
 "metadata": {
  "kernelspec": {
   "display_name": "Python 3",
   "language": "python",
   "name": "python3"
  },
  "language_info": {
   "codemirror_mode": {
    "name": "ipython",
    "version": 3
   },
   "file_extension": ".py",
   "mimetype": "text/x-python",
   "name": "python",
   "nbconvert_exporter": "python",
   "pygments_lexer": "ipython3",
   "version": "3.5.1"
  },
  "notify_time": "5"
 },
 "nbformat": 4,
 "nbformat_minor": 0
}
