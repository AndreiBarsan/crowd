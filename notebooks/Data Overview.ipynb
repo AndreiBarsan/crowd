{
 "cells": [
  {
   "cell_type": "markdown",
   "metadata": {},
   "source": [
    "# Project Data Overview\n",
    "\n",
    "This notebook contains some general info regarding the data available for this project.\n",
    "\n",
    "The judgements used by this project are the NIST expert judgements ('stage1-dev') and the consensus labels ('stage2-dev') from [the 2011 TREC Crowdsourcing track](https://sites.google.com/site/treccrowd/2011).\n",
    "\n",
    "The actual document data used is, sadly, not publicly available (http://lemurproject.org/clueweb09/, ClueWeb09 dataset, T11Crowd subsection), but can be acquired by signing a non-commercial use agreement with the provider."
   ]
  },
  {
   "cell_type": "markdown",
   "metadata": {},
   "source": [
    "Some of the data management code has been cannibalized from [Martin Davtyan's previous work on the subject](https://github.com/martinthenext/ir-crowd-thesis) (while at ETH Zurich)."
   ]
  },
  {
   "cell_type": "markdown",
   "metadata": {},
   "source": [
    "**Some of the numbers in this notebook may be out of date, since the old files have been moved around to have new, clearer names, and most of the confusion has been resolved.**"
   ]
  },
  {
   "cell_type": "code",
   "execution_count": 1,
   "metadata": {
    "collapsed": true
   },
   "outputs": [],
   "source": [
    "import io\n",
    "import os"
   ]
  },
  {
   "cell_type": "code",
   "execution_count": 2,
   "metadata": {
    "collapsed": false
   },
   "outputs": [],
   "source": [
    "# This loads the necessary data wrangling classes and functions.\n",
    "# It's done this way since notebooks aren't (and shouldn't be) part\n",
    "# of an actual Python project.\n",
    "%run ../crowd/data.py"
   ]
  },
  {
   "cell_type": "code",
   "execution_count": 3,
   "metadata": {
    "collapsed": false
   },
   "outputs": [],
   "source": [
    "%run ../crowd/config.py"
   ]
  },
  {
   "cell_type": "code",
   "execution_count": 7,
   "metadata": {
    "collapsed": false
   },
   "outputs": [
    {
     "name": "stdout",
     "output_type": "stream",
     "text": [
      "9380 NIST expert labels\n"
     ]
    }
   ],
   "source": [
    "expert_labels = read_expert_labels(EXPERT_GROUND_TRUTH_FILE, header=True, sep=',')\n",
    "print(\"%d NIST expert labels\" % len(expert_labels))"
   ]
  },
  {
   "cell_type": "code",
   "execution_count": 8,
   "metadata": {
    "collapsed": false
   },
   "outputs": [
    {
     "name": "stdout",
     "output_type": "stream",
     "text": [
      "10770 Mechanical Turk worker labels\n"
     ]
    }
   ],
   "source": [
    "worker_labels = read_worker_labels(WORKER_LABEL_FILE)\n",
    "print(\"%d Mechanical Turk worker labels\" % len(worker_labels))"
   ]
  },
  {
   "cell_type": "code",
   "execution_count": 9,
   "metadata": {
    "collapsed": false
   },
   "outputs": [
    {
     "name": "stdout",
     "output_type": "stream",
     "text": [
      "30 topics in NIST expert label data\n"
     ]
    }
   ],
   "source": [
    "expert_label_topic_ids = { l.topic_id for l in expert_labels }\n",
    "print(\"%d topics in NIST expert label data\" % len(expert_label_topic_ids))"
   ]
  },
  {
   "cell_type": "code",
   "execution_count": 10,
   "metadata": {
    "collapsed": false
   },
   "outputs": [
    {
     "name": "stdout",
     "output_type": "stream",
     "text": [
      "25 topics in development worker label data\n"
     ]
    }
   ],
   "source": [
    "worker_label_topic_ids = { l.topic_id for l in worker_labels }\n",
    "print(\"%d topics in development worker label data\" % len(worker_label_topic_ids))"
   ]
  },
  {
   "cell_type": "markdown",
   "metadata": {},
   "source": [
    "Is it normal to have 25 topics in worker labels, but 244 topics in expert labels? (stage1-dev and stage2-dev READMEs confirm these counts!)"
   ]
  },
  {
   "cell_type": "code",
   "execution_count": 13,
   "metadata": {
    "collapsed": false
   },
   "outputs": [
    {
     "data": {
      "text/plain": [
       "'0 topics in common (ground truth expert labels and development worker labels)'"
      ]
     },
     "execution_count": 13,
     "metadata": {},
     "output_type": "execute_result"
    }
   ],
   "source": [
    "common_expert_worker_topic_ids = expert_label_topic_ids & worker_label_topic_ids\n",
    "str(len(common_expert_worker_topic_ids)) + ' topics in common (ground truth expert labels and development worker labels)'"
   ]
  },
  {
   "cell_type": "code",
   "execution_count": 14,
   "metadata": {
    "collapsed": false
   },
   "outputs": [
    {
     "data": {
      "text/plain": [
       "'64042 judgement labels'"
      ]
     },
     "execution_count": 14,
     "metadata": {},
     "output_type": "execute_result"
    }
   ],
   "source": [
    "judgement_labels_2011 = read_judgement_labels(JUDGEMENT_FILE)\n",
    "str(len(judgement_labels_2011)) + ' judgement labels'"
   ]
  },
  {
   "cell_type": "markdown",
   "metadata": {},
   "source": [
    "### 2011 Judgement Data"
   ]
  },
  {
   "cell_type": "code",
   "execution_count": 15,
   "metadata": {
    "collapsed": false
   },
   "outputs": [
    {
     "data": {
      "text/plain": [
       "46"
      ]
     },
     "execution_count": 15,
     "metadata": {},
     "output_type": "execute_result"
    }
   ],
   "source": [
    "judgement_topic_ids = { l.topic_id for l in judgement_labels_2011 }\n",
    "len(judgement_topic_ids)"
   ]
  },
  {
   "cell_type": "code",
   "execution_count": 16,
   "metadata": {
    "collapsed": false
   },
   "outputs": [
    {
     "name": "stdout",
     "output_type": "stream",
     "text": [
      "30\n",
      "1\n"
     ]
    }
   ],
   "source": [
    "print(len(judgement_topic_ids & expert_label_topic_ids))\n",
    "print(len(judgement_topic_ids & worker_label_topic_ids))"
   ]
  },
  {
   "cell_type": "code",
   "execution_count": 17,
   "metadata": {
    "collapsed": false
   },
   "outputs": [],
   "source": [
    "# Clear out labels deemed irrelevant (e.g. ones used for worker assessment).\n",
    "\n",
    "useful_judgement_labels_2011 = read_useful_judgement_labels(JUDGEMENT_FILE)"
   ]
  },
  {
   "cell_type": "code",
   "execution_count": 18,
   "metadata": {
    "collapsed": false
   },
   "outputs": [
    {
     "name": "stdout",
     "output_type": "stream",
     "text": [
      "30 different topics in 2011 judgement data\n",
      "30 topics in common between 2011 judgement data and original NIST expert label data.\n",
      "0 topics in common between 2011 judgement data and original (dev) worker label data.\n"
     ]
    }
   ],
   "source": [
    "useful_judgement_topic_ids = { l.topic_id for l in useful_judgement_labels_2011 }\n",
    "print(\"%d different topics in 2011 judgement data\" % len(useful_judgement_topic_ids))\n",
    "print(\"%d topics in common between 2011 judgement data and original NIST expert label data.\" %\n",
    "      len(useful_judgement_topic_ids & expert_label_topic_ids))\n",
    "print(\"%d topics in common between 2011 judgement data and original (dev) worker label data.\" % \n",
    "      len(useful_judgement_topic_ids & worker_label_topic_ids))"
   ]
  },
  {
   "cell_type": "markdown",
   "metadata": {},
   "source": [
    "### 2011 Test Data"
   ]
  },
  {
   "cell_type": "code",
   "execution_count": 14,
   "metadata": {
    "collapsed": false
   },
   "outputs": [
    {
     "name": "stdout",
     "output_type": "stream",
     "text": [
      "1655\n",
      "First 5:\n",
      "20542:clueweb09-en0003-47-17392:Relevant\n",
      "20542:clueweb09-en0002-74-25816:Relevant\n",
      "20542:clueweb09-en0000-00-00000:Not relevant\n",
      "20542:clueweb09-enwp00-69-12844:Relevant\n",
      "20542:clueweb09-en0002-93-19628:Relevant\n",
      "Last 5:\n",
      "20996:clueweb09-en0129-94-14964:Not relevant\n",
      "20996:clueweb09-en0129-94-14966:Not relevant\n",
      "20996:clueweb09-en0131-42-22886:Not relevant\n",
      "20996:clueweb09-en0132-77-26392:Not relevant\n",
      "20996:clueweb09-enwp01-17-03021:Not relevant\n",
      "Last 5 (after merge):\n",
      "20958:clueweb09-en0112-59-01254:Not relevant\n",
      "20958:clueweb09-en0114-14-25526:Not relevant\n",
      "20958:clueweb09-en0116-09-14871:Not relevant\n",
      "20958:clueweb09-en0116-09-14873:Not relevant\n",
      "20958:clueweb09-en0121-92-02032:Not relevant\n"
     ]
    }
   ],
   "source": [
    "test_data_shared = read_expert_labels(TEST_LABEL_FILE_SHARED, header=True, sep=',')\n",
    "test_data_team = read_expert_labels(TEST_LABEL_FILE_TEAMS, header=True, sep=',')\n",
    "\n",
    "print(len(test_data_shared))\n",
    "print(\"First 5:\\n\" + \"\\n\".join([str(d) for d in test_data_shared[:5]]))\n",
    "print(\"Last 5:\\n\" + \"\\n\".join([str(d) for d in test_data_shared[-5:]]))\n",
    "\n",
    "test_data = test_data_shared + test_data_team\n",
    "print(\"Last 5 (after merge):\")\n",
    "print(\"\\n\".join([str(d) for d in test_data[-5:]]))"
   ]
  },
  {
   "cell_type": "code",
   "execution_count": 15,
   "metadata": {
    "collapsed": false
   },
   "outputs": [
    {
     "name": "stdout",
     "output_type": "stream",
     "text": [
      "30 different topics in test data.\n"
     ]
    }
   ],
   "source": [
    "test_topic_ids = { l.topic_id for l in test_data }\n",
    "print(\"%d different topics in test data.\" % len(test_topic_ids))"
   ]
  },
  {
   "cell_type": "code",
   "execution_count": 16,
   "metadata": {
    "collapsed": false
   },
   "outputs": [
    {
     "name": "stdout",
     "output_type": "stream",
     "text": [
      "30\n"
     ]
    }
   ],
   "source": [
    "print(len(test_topic_ids & useful_judgement_topic_ids))"
   ]
  },
  {
   "cell_type": "code",
   "execution_count": 17,
   "metadata": {
    "collapsed": false
   },
   "outputs": [
    {
     "name": "stdout",
     "output_type": "stream",
     "text": [
      "2\n"
     ]
    }
   ],
   "source": [
    "print(len(test_topic_ids & expert_label_topic_ids))"
   ]
  },
  {
   "cell_type": "code",
   "execution_count": 18,
   "metadata": {
    "collapsed": false
   },
   "outputs": [
    {
     "name": "stdout",
     "output_type": "stream",
     "text": [
      "0\n"
     ]
    }
   ],
   "source": [
    "print(len(test_topic_ids & worker_label_topic_ids))"
   ]
  },
  {
   "cell_type": "markdown",
   "metadata": {},
   "source": [
    "## Topic Summary\n",
    " * Full topic overlap between judgement data and test data.\n",
    " * 6% (2/30) topic overlap between expert label data and test data.\n",
    " * 0% (0/30) topic overlap between original worker consensus training data labels and test data."
   ]
  },
  {
   "cell_type": "markdown",
   "metadata": {},
   "source": [
    "# Ground truth stats"
   ]
  },
  {
   "cell_type": "markdown",
   "metadata": {},
   "source": [
    "## Also including non-ground-truth labels (-1)"
   ]
  },
  {
   "cell_type": "code",
   "execution_count": 28,
   "metadata": {
    "collapsed": false
   },
   "outputs": [
    {
     "name": "stdout",
     "output_type": "stream",
     "text": [
      "[9380] total entries in test data.\n",
      "[3195] Unique document IDs in test data.\n",
      "[30] Unique topic IDs in test data.\n",
      "[3200] Unique judgements in test data.\n"
     ]
    }
   ],
   "source": [
    "print(\"[%d] total entries in test data.\" % len(test_data))\n",
    "test_data_unique_docs = {l.document_id for l in test_data}\n",
    "test_data_unique_topics = {l.topic_id for l in test_data}\n",
    "print(\"[%d] Unique document IDs in test data.\" % len(test_data_unique_docs))\n",
    "print(\"[%d] Unique topic IDs in test data.\" % len(test_data_unique_topics))\n",
    "\n",
    "test_data_unique_points = {(l.topic_id, l.document_id) for l in test_data}\n",
    "print(\"[%d] Unique judgements in test data.\" % len(test_data_unique_points))"
   ]
  },
  {
   "cell_type": "markdown",
   "metadata": {},
   "source": [
    "## Filtering out non-ground-truth labels"
   ]
  },
  {
   "cell_type": "code",
   "execution_count": 32,
   "metadata": {
    "collapsed": false
   },
   "outputs": [
    {
     "name": "stdout",
     "output_type": "stream",
     "text": [
      "[1015] Useful data points in test data (with labels != -1).\n",
      "[30] Topic IDs in useful data.\n",
      "[394] Document IDs in useful data.\n",
      "[395] Unique useful data points.\n"
     ]
    }
   ],
   "source": [
    "useful_test_dp = [l for l in test_data if l.label != -1]\n",
    "print(\"[%d] Useful data points in test data (with labels != -1).\" % len(useful_test_dp))\n",
    "print(\"[%d] Topic IDs in useful data.\" % len({l.topic_id for l in useful_test_dp}))\n",
    "print(\"[%d] Document IDs in useful data.\" % len({l.document_id for l in useful_test_dp}))\n",
    "unique_useful_test_dp = {(l.topic_id, l.document_id) for l in useful_test_dp}\n",
    "print(\"[%d] Unique useful data points.\" % len(unique_useful_test_dp))"
   ]
  },
  {
   "cell_type": "code",
   "execution_count": null,
   "metadata": {
    "collapsed": true
   },
   "outputs": [],
   "source": []
  }
 ],
 "metadata": {
  "kernelspec": {
   "display_name": "Python 3",
   "language": "python",
   "name": "python3"
  },
  "language_info": {
   "codemirror_mode": {
    "name": "ipython",
    "version": 3
   },
   "file_extension": ".py",
   "mimetype": "text/x-python",
   "name": "python",
   "nbconvert_exporter": "python",
   "pygments_lexer": "ipython3",
   "version": "3.5.1"
  }
 },
 "nbformat": 4,
 "nbformat_minor": 0
}
