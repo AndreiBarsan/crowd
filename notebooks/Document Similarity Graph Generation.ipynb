{
 "cells": [
  {
   "cell_type": "markdown",
   "metadata": {},
   "source": [
    "# Document Similarity Graph Generation"
   ]
  },
  {
   "cell_type": "markdown",
   "metadata": {},
   "source": [
    "## TODO\n",
    " * Detect edges between nodes with clashing judgements.\n",
    "     * Design way of learning optimal value of similarity threshold/weights for NN/MEV methods."
   ]
  },
  {
   "cell_type": "code",
   "execution_count": 1,
   "metadata": {
    "collapsed": false
   },
   "outputs": [],
   "source": [
    "%load_ext autoreload"
   ]
  },
  {
   "cell_type": "code",
   "execution_count": 2,
   "metadata": {
    "collapsed": false
   },
   "outputs": [],
   "source": [
    "# Debugging tip: if an import fails and you're using Anaconda, try to print\n",
    "# out 'sys.executable'. It may turn out that it's pointing to the wrong\n",
    "# conda env. See: https://github.com/jupyter/notebook/issues/397\n",
    "from graphviz import Digraph, Graph\n",
    "\n",
    "import numpy as np\n",
    "\n",
    "import datetime\n",
    "import io\n",
    "import random\n",
    "import os"
   ]
  },
  {
   "cell_type": "code",
   "execution_count": 3,
   "metadata": {
    "collapsed": false
   },
   "outputs": [],
   "source": [
    "random.seed(0xC0FFEE)"
   ]
  },
  {
   "cell_type": "code",
   "execution_count": 14,
   "metadata": {
    "collapsed": false
   },
   "outputs": [],
   "source": [
    "# This makes Jupyter pretend to be Pythonic and play well with modules.\n",
    "\n",
    "import sys\n",
    "sys.path.append(os.path.expandvars(os.path.join(os.getcwd(), '..')))"
   ]
  },
  {
   "cell_type": "code",
   "execution_count": 19,
   "metadata": {
    "collapsed": false
   },
   "outputs": [],
   "source": [
    "%autoreload 2\n",
    "\n",
    "from crowd.data import *\n",
    "from crowd.config import *\n",
    "from crowd.file_util import *\n",
    "from crowd.graph import *\n",
    "from crowd.topic import *"
   ]
  },
  {
   "cell_type": "markdown",
   "metadata": {},
   "source": [
    "## Load the topic information for improved manual inspection"
   ]
  },
  {
   "cell_type": "code",
   "execution_count": null,
   "metadata": {
    "collapsed": false
   },
   "outputs": [],
   "source": [
    "id_topic_info = load_topic_metadata()"
   ]
  },
  {
   "cell_type": "markdown",
   "metadata": {},
   "source": [
    "## Load the relevance judgements to improve the visualization"
   ]
  },
  {
   "cell_type": "code",
   "execution_count": null,
   "metadata": {
    "collapsed": false
   },
   "outputs": [],
   "source": [
    "# Turk judgements\n",
    "judgements = read_useful_judgement_labels(JUDGEMENT_FILE)\n",
    "\n",
    "# Ground truth\n",
    "# Note: it seems to be normal that there are duplicates in this dataset.\n",
    "test_data = read_expert_labels(TEST_LABEL_FILE_SHARED, header=True, sep=',') + \\\n",
    "    read_expert_labels(TEST_LABEL_FILE_TEAMS, header=True, sep=',')\n",
    "print(len(test_data))"
   ]
  },
  {
   "cell_type": "markdown",
   "metadata": {},
   "source": [
    "### Sample exploration of a single fixed topic"
   ]
  },
  {
   "cell_type": "code",
   "execution_count": null,
   "metadata": {
    "collapsed": false
   },
   "outputs": [],
   "source": [
    "topics = { l.topic_id for l in judgements }\n",
    "\n",
    "# Some topic ID we want to visualize.\n",
    "target_topic_id = '20704'\n",
    "assert target_topic_id in topics\n",
    "print(\"Topic we are exploring: [%s]\" % id_topic_info[target_topic_id])\n",
    "\n",
    "topic_judgements = [j for j in judgements if j.topic_id == target_topic_id]\n",
    "doc_ids_in_topic = {j.doc_id for j in topic_judgements}\n",
    "print(\"%d turk judgements in topic [%s] of %d documents.\" % (len(topic_judgements), target_topic_id, len(doc_ids_in_topic)))\n",
    "print(\"AVG: %.2f judgements per documents\" % (len(topic_judgements) / len(doc_ids_in_topic)))"
   ]
  },
  {
   "cell_type": "markdown",
   "metadata": {},
   "source": [
    "## Build and render the document graph"
   ]
  },
  {
   "cell_type": "code",
   "execution_count": null,
   "metadata": {
    "collapsed": false,
    "scrolled": true
   },
   "outputs": [],
   "source": [
    "SHORT_NAME_OFFSET = 7\n",
    "FILE_URI_PREFIX = 'file://'\n",
    "    \n",
    "def add_node(dot, node, topic_folder, relevant_documents, non_relevant_documents, vote_data, discard_empty):\n",
    "    \"\"\"Used by 'visualize_grap' to render a single graph node using Graphviz.\n",
    "    \n",
    "    Arguments:\n",
    "        dot: The Graphviz 'Graph' object.\n",
    "        node: The 'DocumentNode' we wish to add to the graph visualization.\n",
    "        topic_folder: The folder where this topic's documents are located.\n",
    "        \n",
    "    Return:\n",
    "        A bool indicating whether this node was kept in the graph, and not discarded\n",
    "        because it e.g. didn't have any relevance information.\n",
    "    \"\"\"\n",
    "    name = node.document_id\n",
    "    short_name = name[name.rfind('-') - SHORT_NAME_OFFSET : name.rfind('.')]\n",
    "    full_path = FILE_URI_PREFIX + os.path.join(topic_folder, name + \".txt\")\n",
    "    color = \"white\"\n",
    "\n",
    "    ground_truth_relevant = None\n",
    "    if name in relevant_documents:\n",
    "        color = \"green\"\n",
    "        ground_truth_relevant = True\n",
    "    if name in non_relevant_documents:\n",
    "        color = \"red\"\n",
    "        ground_truth_relevant = False\n",
    "\n",
    "    relevant_votes = 0\n",
    "    irrelevant_votes = 0\n",
    "    if name in vote_data:\n",
    "        votes = vote_data[name]\n",
    "        for vote in votes:\n",
    "            if vote.is_relevant > 0:\n",
    "                relevant_votes += 1\n",
    "            else:\n",
    "                irrelevant_votes += 1\n",
    "\n",
    "    votes_relevance = None\n",
    "    if relevant_votes > irrelevant_votes:\n",
    "        votes_relevance = True\n",
    "    elif relevant_votes < irrelevant_votes:\n",
    "        votes_relevance = False\n",
    "\n",
    "    if discard_empty:\n",
    "        if ground_truth_relevant == None and relevant_votes == 0 and irrelevant_votes == 0:\n",
    "            return False\n",
    "\n",
    "    top_color = color\n",
    "    bot_color = \"lightgray\"\n",
    "    if votes_relevance is True:\n",
    "        bot_color = \"green\"\n",
    "    elif votes_relevance is False:\n",
    "        bot_color = \"red\"\n",
    "\n",
    "    border_color = \"black\"\n",
    "    if ground_truth_relevant is not None and votes_relevance is not None:\n",
    "        if ground_truth_relevant != votes_relevance:\n",
    "            border_color = \"yellow\"\n",
    "\n",
    "    # Yes, the extra angular brackets are necessary for graphviz.\n",
    "    node_label = '''<<TABLE BORDER=\"0\" CELLBORDER=\"1\" CELLSPACING=\"0\" CELLPADDING=\"4\" COLOR=\"%s\">\n",
    "        <TR><TD BGCOLOR=\"%s\">%s</TD></TR>\n",
    "        <TR><TD BGCOLOR=\"%s\">(+%d -%d)</TD></TR>\n",
    "    </TABLE>>''' % (border_color, top_color, short_name, bot_color, relevant_votes, irrelevant_votes)\n",
    "    dot.node(name, label=node_label, fontsize='7', shape='none', height='0', width='0',\n",
    "             tooltip=name, URL=full_path, style='filled', margin='0')\n",
    "    \n",
    "    return True\n",
    "\n",
    "def visualize_graph(graph, base_folder, ground_truth_data, vote_data, **kw):\n",
    "    \"\"\"Renders the specified document graph using graphviz.\"\"\"\n",
    "    \n",
    "    # Whether to hide document nodes which have a ground truth or any votes.\n",
    "    discard_empty = kw.get('discard_empty', False)\n",
    "\n",
    "    dot = Graph(comment='Similarity graph', engine='neato')\n",
    "    dot.body.append('size=\"18,18\"')\n",
    "    dot.body.append('splines=true;')\n",
    "    dot.body.append('overlap=scalexy;')\n",
    "    dot.body.append('nodesep=25.0;')\n",
    "    dot.body.append('label=\"Topic: %s (%s)\"' % (graph.topic.description, graph.topic.query))\n",
    "    \n",
    "    relevant_documents, non_relevant_documents = get_relevant(graph.topic_id, ground_truth_data)\n",
    "    print(\"We have %d relevant and %d non-relevant ground truths for this topic.\" % (len(relevant_documents), len(non_relevant_documents)))\n",
    "\n",
    "    topic_folder = os.path.join(base_folder, str(graph.topic_id))\n",
    "    hidden_node_ids = set()\n",
    "    \n",
    "    # Create the nodes\n",
    "    for node in graph.nodes:\n",
    "        kept = add_node(dot, node, topic_folder, relevant_documents, non_relevant_documents, vote_data, discard_empty)\n",
    "        if not kept:\n",
    "            hidden_node_ids.add(node.document_id)\n",
    "\n",
    "    # Add the edges\n",
    "    for node in graph.nodes:\n",
    "        if node.document_id in hidden_node_ids: continue\n",
    "        for neighbor in node.neighbors:\n",
    "            if neighbor.to_document_id in hidden_node_ids: continue\n",
    "            # Ensure each edge is drawn exactly once.\n",
    "            if neighbor.to_document_id > neighbor.from_document_id:\n",
    "                label = \"%.3f\" % neighbor.similarity\n",
    "                dot.edge(\n",
    "                    neighbor.from_document_id, neighbor.to_document_id,\n",
    "                    label=label,\n",
    "                    fontsize='6')\n",
    "                \n",
    "    return dot"
   ]
  },
  {
   "cell_type": "code",
   "execution_count": null,
   "metadata": {
    "collapsed": true
   },
   "outputs": [],
   "source": [
    "from collections import OrderedDict\n",
    "\n",
    "from ipywidgets import interact, interactive, fixed\n",
    "import ipywidgets as widgets"
   ]
  },
  {
   "cell_type": "code",
   "execution_count": null,
   "metadata": {
    "collapsed": false
   },
   "outputs": [],
   "source": [
    "fmt_topic = lambda t: \"[%s] %s (%d)\" % (t.topic_id, t.query, t.document_count)\n",
    "optlist = ((fmt_topic(t), t.topic_id) for t in id_topic_info.values())\n",
    "options=OrderedDict(sorted(optlist))\n",
    "\n",
    "@interact(\n",
    "    topic_id=widgets.Dropdown(options=options),\n",
    "    sim_threshold=widgets.FloatSlider(min=0.50, max=1.0, step=0.025, continuous_update=False, value=0.90),\n",
    "    should_discard_empty_nodes=widgets.Checkbox(description=\"Hide nodes with no ground truth or any votes\")\n",
    ")\n",
    "def build_and_display(topic_id, sim_threshold, should_discard_empty_nodes):\n",
    "    topic = id_topic_info[topic_id]\n",
    "    graph = build_document_graph(topic, FULLTEXT_FOLDER, sim_threshold=sim_threshold)\n",
    "    graph_dot = visualize_graph(\n",
    "        graph,\n",
    "        FULLTEXT_FOLDER,\n",
    "        test_data,\n",
    "        get_topic_judgements_by_doc_id(topic_id, judgements),\n",
    "        discard_empty=should_discard_empty_nodes)\n",
    "    return graph_dot"
   ]
  },
  {
   "cell_type": "markdown",
   "metadata": {},
   "source": [
    "## Using NetworkX"
   ]
  },
  {
   "cell_type": "code",
   "execution_count": null,
   "metadata": {
    "collapsed": false
   },
   "outputs": [],
   "source": [
    "res = build_nx_document_graph(id_topic_info['20958'], FULLTEXT_FOLDER)\n",
    "\n",
    "print(res.nx_graph.nodes())"
   ]
  },
  {
   "cell_type": "code",
   "execution_count": null,
   "metadata": {
    "collapsed": false
   },
   "outputs": [],
   "source": [
    "import networkx as nx\n",
    "\n",
    "# TODO(andrei): Use networkx in the main graph structure anyway.\n",
    "def to_networkx(graph, bast_folder, ground_truth_data, vote_data, **kw):\n",
    "    pass\n",
    "\n",
    "# TODO(andrei): Remove this.\n",
    "def visualize_graph(graph, base_folder, ground_truth_data, vote_data, **kw):\n",
    "    \"\"\"Renders the specified document graph using graphviz.\"\"\"\n",
    "    \n",
    "    # Whether to hide document nodes which have a ground truth or any votes.\n",
    "    discard_empty = kw.get('discard_empty', False)\n",
    "\n",
    "    dot = Graph(comment='Similarity graph', engine='neato')\n",
    "    dot.body.append('size=\"18,18\"')\n",
    "    dot.body.append('splines=true;')\n",
    "    dot.body.append('overlap=scalexy;')\n",
    "    dot.body.append('nodesep=25.0;')\n",
    "    dot.body.append('label=\"Topic: %s (%s)\"' % (graph.topic.description, graph.topic.query))\n",
    "    \n",
    "    relevant_documents, non_relevant_documents = get_relevant(graph.topic_id, ground_truth_data)\n",
    "    print(\"We have %d relevant and %d non-relevant ground truths for this topic.\" % (len(relevant_documents), len(non_relevant_documents)))\n",
    "\n",
    "    topic_folder = os.path.join(base_folder, str(graph.topic_id))\n",
    "    hidden_node_ids = set()\n",
    "    \n",
    "    # Create the nodes\n",
    "    for node in graph.nodes:\n",
    "        kept = add_node(dot, node, topic_folder, relevant_documents, non_relevant_documents, vote_data, discard_empty)\n",
    "        if not kept:\n",
    "            hidden_node_ids.add(node.document_id)\n",
    "\n",
    "    # Add the edges\n",
    "    for node in graph.nodes:\n",
    "        if node.document_id in hidden_node_ids: continue\n",
    "        for neighbor in node.neighbors:\n",
    "            if neighbor.to_document_id in hidden_node_ids: continue\n",
    "            # Ensure each edge is drawn exactly once.\n",
    "            if neighbor.to_document_id > neighbor.from_document_id:\n",
    "                label = \"%.3f\" % neighbor.similarity\n",
    "                dot.edge(\n",
    "                    neighbor.from_document_id, neighbor.to_document_id,\n",
    "                    label=label,\n",
    "                    fontsize='6')\n",
    "                \n",
    "    return dot"
   ]
  },
  {
   "cell_type": "code",
   "execution_count": null,
   "metadata": {
    "collapsed": true
   },
   "outputs": [],
   "source": []
  }
 ],
 "metadata": {
  "kernelspec": {
   "display_name": "Python 3",
   "language": "python",
   "name": "python3"
  },
  "language_info": {
   "codemirror_mode": {
    "name": "ipython",
    "version": 3
   },
   "file_extension": ".py",
   "mimetype": "text/x-python",
   "name": "python",
   "nbconvert_exporter": "python",
   "pygments_lexer": "ipython3",
   "version": "3.5.1"
  },
  "widgets": {
   "state": {},
   "version": "0.3.0"
  }
 },
 "nbformat": 4,
 "nbformat_minor": 0
}
