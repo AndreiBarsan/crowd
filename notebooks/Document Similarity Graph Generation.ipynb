{
 "cells": [
  {
   "cell_type": "markdown",
   "metadata": {},
   "source": [
    "# Document Similarity Graph Generation"
   ]
  },
  {
   "cell_type": "markdown",
   "metadata": {},
   "source": [
    "## TODO\n",
    " * Build graph based on similarities\n",
    " * Output graph in dot format and visualize with graphviz\n",
    " * Clean up the notebook (will look like crap at this point)\n",
    " * Explore using simhashing to speed up the similarity lookups"
   ]
  },
  {
   "cell_type": "code",
   "execution_count": 42,
   "metadata": {
    "collapsed": false
   },
   "outputs": [],
   "source": [
    "import numpy as np\n",
    "from sklearn.feature_extraction.text import *\n",
    "from sklearn.metrics.pairwise import cosine_similarity\n",
    "\n",
    "import datetime\n",
    "import io\n",
    "import os"
   ]
  },
  {
   "cell_type": "code",
   "execution_count": 35,
   "metadata": {
    "collapsed": true
   },
   "outputs": [],
   "source": [
    "DATA_ROOT = os.path.join(os.path.expanduser('~'), 'data')\n",
    "FULLTEXT_FOLDER = os.path.join(DATA_ROOT, 'url-header-html-txt')\n",
    "# Randomly selected topic to work with. This one has about 300 documents.\n",
    "TOPIC = 20986"
   ]
  },
  {
   "cell_type": "code",
   "execution_count": 11,
   "metadata": {
    "collapsed": false
   },
   "outputs": [
    {
     "name": "stdout",
     "output_type": "stream",
     "text": [
      "/Users/andrei/data/url-header-html-txt/20986\n"
     ]
    }
   ],
   "source": [
    "folder = os.path.join(FULLTEXT_FOLDER, str(TOPIC))\n",
    "print(folder)"
   ]
  },
  {
   "cell_type": "code",
   "execution_count": 22,
   "metadata": {
    "collapsed": false
   },
   "outputs": [
    {
     "name": "stdout",
     "output_type": "stream",
     "text": [
      "We have 265 files.\n"
     ]
    }
   ],
   "source": [
    "# Grab every file from the topic, and only look at those whose\n",
    "# names end in '.txt', i.e. the HTML text with all HTML tags stripped\n",
    "# away.\n",
    "file_names = [f for f in os.listdir(folder) \n",
    "                 if os.path.isfile(os.path.join(folder, f))\n",
    "                 and f.endswith(\".txt\")]\n",
    "print(\"We have %d files.\" % len(file_names))"
   ]
  },
  {
   "cell_type": "code",
   "execution_count": 53,
   "metadata": {
    "collapsed": false
   },
   "outputs": [],
   "source": [
    "def read_file(name):\n",
    "    encoding = 'ISO-8859-1'\n",
    "    with io.open(name, 'r', encoding=encoding) as file:\n",
    "        return file.read()\n",
    "    \n",
    "    \n",
    "# A map of file names (IDs) to their contents.\n",
    "doc_id_to_doc = {}\n",
    "corpus = []\n",
    "\n",
    "for f in file_names:\n",
    "    doc_id = f[:f.rfind('.')]\n",
    "    text = read_file(os.path.join(folder, f))\n",
    "    doc_id_to_doc[doc_id] = text\n",
    "    corpus.append((doc_id, text))"
   ]
  },
  {
   "cell_type": "code",
   "execution_count": 56,
   "metadata": {
    "collapsed": false
   },
   "outputs": [],
   "source": [
    "vectorizer = TfidfVectorizer(min_df=1)\n",
    "# Make sure we just pass document texts, and not (doc_id, text) tuples to\n",
    "# the tf-idf vectorizer.\n",
    "term_doc_matrix = vectorizer.fit_transform([text for doc_id, text in corpus])"
   ]
  },
  {
   "cell_type": "code",
   "execution_count": 57,
   "metadata": {
    "collapsed": true
   },
   "outputs": [],
   "source": [
    "# TODO(andrei) This kernel is a popular choice for computing the\n",
    "# similarity of documents represented as tf-idf vectors.\n",
    "# cosine_similarity accepts scipy.sparse matrices. (Note that the tf-idf\n",
    "# functionality in sklearn.feature_extraction.text can produce normalized\n",
    "# vectors, in which case cosine_similarity is equivalent to linear_kernel,\n",
    "# only slower.)"
   ]
  },
  {
   "cell_type": "code",
   "execution_count": 58,
   "metadata": {
    "collapsed": false
   },
   "outputs": [],
   "source": [
    "# Automagically computes ALL pairwise cosine similarities between\n",
    "# the documents in our corpus.\n",
    "similarities = cosine_similarity(term_doc_matrix)"
   ]
  },
  {
   "cell_type": "code",
   "execution_count": 75,
   "metadata": {
    "collapsed": false
   },
   "outputs": [],
   "source": [
    "class DocumentEdge(object):\n",
    "    \"\"\" Represents an edge in the document similarity graph.\n",
    "    \n",
    "    \"\"\"\n",
    "    def __init__(self, from_document_id, to_document_id, similarity):\n",
    "        self.from_document_id = from_document_id\n",
    "        self.to_document_id = to_document_id\n",
    "        self.similarity = similarity\n",
    "\n",
    "\n",
    "class DocumentNode(object):\n",
    "    \"\"\" Represents a node (a document) in the document similarity graph.\n",
    "    \n",
    "    Attributes:\n",
    "        topic_id: The int ID of the topic to which the document belongs.\n",
    "        document_id: The ID of the document, without any file extension.\n",
    "        document_name: The full name of the document (usually its ID, plus\n",
    "            its extension).\n",
    "        neighbors: A list of 'DocumentEdge' objects, representing this\n",
    "            node's neighbors.\n",
    "    \"\"\"\n",
    "    def __init__(self, topic_id, document_id, document_name, neighbors):\n",
    "        self.topic_id = topic_id\n",
    "        self.document_id = document_id\n",
    "        self.document_name = document_name\n",
    "        self.neighbors = neighbors"
   ]
  },
  {
   "cell_type": "code",
   "execution_count": 101,
   "metadata": {
    "collapsed": false,
    "scrolled": false
   },
   "outputs": [
    {
     "name": "stdout",
     "output_type": "stream",
     "text": [
      "Built graph with 581 total edges.\n"
     ]
    }
   ],
   "source": [
    "sim_threshold = 0.80\n",
    "file_names_np = np.array(file_names)\n",
    "\n",
    "graph = []\n",
    "\n",
    "topic = TOPIC\n",
    "total_edges = 0\n",
    "\n",
    "# Whether we should print out larger clusters to facilitate manual inspection.\n",
    "print_large_clusters = False\n",
    "\n",
    "for row_index in range(len(similarities)):\n",
    "    sims = similarities[row_index]\n",
    "    doc_id, document = corpus[row_index]\n",
    "    \n",
    "    mask = sims > sim_threshold\n",
    "    # Make sure we don't have an edge to ourselves, since we're always\n",
    "    # 100% similar to ourselves.\n",
    "    mask[row_index] = False\n",
    "    relevant_sims = sims[mask]\n",
    "    relevant_docs = file_names_np[mask]\n",
    "    \n",
    "    neighbors = []\n",
    "    for sim, other_doc_id in zip(relevant_sims, relevant_docs):\n",
    "        neighbors.append(DocumentEdge(doc_id, other_doc_id, sim))\n",
    "        \n",
    "    node = DocumentNode(topic, doc_id, file_names_np[row_index], neighbors)\n",
    "    total_edges += len(neighbors)\n",
    "    graph.append(node)\n",
    "    \n",
    "    # Sanity check: every document must be 100% similar to itself.\n",
    "    assert np.allclose(sims[row_index], 1.0)\n",
    "    \n",
    "    # Explicitly print out larger clusters to facilitate manual inspection.\n",
    "    if print_large_clusters and len(relevant_sims) > 15:\n",
    "        print(\"Document %s has some similar friends!\" % doc_id)\n",
    "        print(list(zip(relevant_sims, relevant_docs)))\n",
    "        \n",
    "# Note: this treats similarity edges as directed, even though they aren't.\n",
    "# Moreover, even though they should be, the edges aren't always 100% \"undirected\",\n",
    "# since (perhaps due to rounding errors) some similarity edges end up being only\n",
    "# one-way.\n",
    "print(\"Built graph with %d total edges.\" % (total_edges / 2))"
   ]
  },
  {
   "cell_type": "code",
   "execution_count": 103,
   "metadata": {
    "collapsed": false
   },
   "outputs": [
    {
     "name": "stdout",
     "output_type": "stream",
     "text": [
      "clueweb09-en0000-02-23997\n",
      "clueweb09-en0000-07-03034\n",
      "clueweb09-en0000-14-07885\n",
      "clueweb09-en0000-14-08102\n",
      "clueweb09-en0000-23-25290\n",
      "clueweb09-en0000-27-06774\n",
      "clueweb09-en0000-29-03389\n",
      "clueweb09-en0000-33-06728\n",
      "clueweb09-en0000-54-04156\n",
      "clueweb09-en0000-78-29267\n",
      "clueweb09-en0000-94-04874\n",
      "clueweb09-en0000-94-04876\n",
      "clueweb09-en0000-97-02866\n",
      "clueweb09-en0000-97-02867\n",
      "clueweb09-en0000-98-07571\n",
      "clueweb09-en0001-05-04714\n",
      "clueweb09-en0001-39-16936\n",
      "clueweb09-en0001-49-02902\n",
      "clueweb09-en0001-70-09605\n",
      "clueweb09-en0001-70-09651\n",
      "clueweb09-en0001-77-37107\n",
      "clueweb09-en0001-77-37110\n",
      "clueweb09-en0001-97-14241\n",
      "clueweb09-en0001-99-17891\n",
      "clueweb09-en0002-00-24609\n",
      "clueweb09-en0002-01-37101\n",
      "clueweb09-en0002-09-03822\n",
      "clueweb09-en0002-18-00729\n",
      "clueweb09-en0002-31-18483\n",
      "clueweb09-en0002-39-14171\n",
      "clueweb09-en0002-77-16885\n",
      "clueweb09-en0002-77-16890\n",
      "clueweb09-en0003-04-22980\n",
      "clueweb09-en0003-07-03304\n",
      "clueweb09-en0003-11-22610\n",
      "clueweb09-en0003-24-31392\n",
      "clueweb09-en0003-29-19413\n",
      "clueweb09-en0003-29-19473\n",
      "clueweb09-en0003-42-09547\n",
      "clueweb09-en0003-59-18732\n",
      "clueweb09-en0003-59-18736\n",
      "clueweb09-en0003-59-18775\n",
      "clueweb09-en0003-59-18843\n",
      "clueweb09-en0003-59-18875\n",
      "clueweb09-en0003-59-18884\n",
      "clueweb09-en0003-59-18915\n",
      "clueweb09-en0003-59-18943\n",
      "clueweb09-en0003-59-18945\n",
      "clueweb09-en0003-59-18946\n",
      "clueweb09-en0003-83-23486\n",
      "clueweb09-en0003-92-21518\n",
      "clueweb09-en0004-12-25053\n",
      "clueweb09-en0004-15-27244\n",
      "clueweb09-en0004-15-27245\n",
      "clueweb09-en0004-15-27246\n",
      "clueweb09-en0004-15-27253\n",
      "clueweb09-en0004-15-27274\n",
      "clueweb09-en0004-15-27320\n",
      "clueweb09-en0004-15-27326\n",
      "clueweb09-en0004-15-27331\n",
      "clueweb09-en0004-15-27362\n",
      "clueweb09-en0004-15-27380\n",
      "clueweb09-en0004-15-27386\n",
      "clueweb09-en0004-15-27490\n",
      "clueweb09-en0004-15-27497\n",
      "clueweb09-en0004-15-27786\n",
      "clueweb09-en0004-15-27882\n",
      "clueweb09-en0004-15-28769\n",
      "clueweb09-en0004-15-28773\n",
      "clueweb09-en0004-15-28801\n",
      "clueweb09-en0004-15-28802\n",
      "clueweb09-en0004-15-28803\n",
      "clueweb09-en0004-15-28862\n",
      "clueweb09-en0004-15-28886\n",
      "clueweb09-en0004-15-28951\n",
      "clueweb09-en0004-15-28952\n",
      "clueweb09-en0004-15-28963\n",
      "clueweb09-en0004-15-28996\n",
      "clueweb09-en0004-15-29122\n",
      "clueweb09-en0004-15-29192\n",
      "clueweb09-en0004-15-29239\n",
      "clueweb09-en0004-15-29547\n",
      "clueweb09-en0004-19-03825\n",
      "clueweb09-en0004-27-33982\n",
      "clueweb09-en0004-31-29636\n",
      "clueweb09-en0004-56-16884\n",
      "clueweb09-en0005-51-29330\n",
      "clueweb09-en0005-51-29364\n",
      "clueweb09-en0005-51-29367\n",
      "clueweb09-en0005-54-03301\n",
      "clueweb09-en0005-91-22417\n",
      "clueweb09-en0005-91-22652\n",
      "clueweb09-en0005-95-25041\n",
      "clueweb09-en0005-97-32717\n",
      "clueweb09-en0006-22-34577\n",
      "clueweb09-en0006-48-12380\n",
      "clueweb09-en0006-66-06541\n",
      "clueweb09-en0006-88-08021\n",
      "clueweb09-en0006-88-08022\n",
      "clueweb09-en0006-88-08023\n",
      "clueweb09-en0006-88-08024\n",
      "clueweb09-en0006-88-08025\n",
      "clueweb09-en0006-88-08026\n",
      "clueweb09-en0006-88-08027\n",
      "clueweb09-en0006-88-08028\n",
      "clueweb09-en0006-88-08029\n",
      "clueweb09-en0006-88-08030\n",
      "clueweb09-en0006-88-08031\n",
      "clueweb09-en0006-88-10774\n",
      "clueweb09-en0006-88-12253\n",
      "clueweb09-en0006-88-12259\n",
      "clueweb09-en0006-88-18506\n",
      "clueweb09-en0006-88-18508\n",
      "clueweb09-en0006-88-18511\n",
      "clueweb09-en0006-88-21995\n",
      "clueweb09-en0006-97-14979\n",
      "clueweb09-en0006-97-15170\n",
      "clueweb09-en0006-97-15176\n",
      "clueweb09-en0007-08-34493\n",
      "clueweb09-en0007-24-05304\n",
      "clueweb09-en0007-34-01743\n",
      "clueweb09-en0007-40-11230\n",
      "clueweb09-en0007-40-11232\n",
      "clueweb09-en0007-40-11233\n",
      "clueweb09-en0007-40-11234\n",
      "clueweb09-en0007-40-11235\n",
      "clueweb09-en0007-40-11236\n",
      "clueweb09-en0007-40-11237\n",
      "clueweb09-en0007-40-13524\n",
      "clueweb09-en0007-45-05766\n",
      "clueweb09-en0007-58-07157\n",
      "clueweb09-en0007-69-05667\n",
      "clueweb09-en0007-77-36812\n",
      "clueweb09-en0007-83-12225\n",
      "clueweb09-en0007-95-16005\n",
      "clueweb09-en0007-95-16648\n",
      "clueweb09-en0008-43-18737\n",
      "clueweb09-en0008-43-18738\n",
      "clueweb09-en0008-43-18740\n",
      "clueweb09-en0008-43-18741\n",
      "clueweb09-en0008-43-18742\n",
      "clueweb09-en0008-43-18743\n",
      "clueweb09-en0008-43-18744\n",
      "clueweb09-en0008-73-06915\n",
      "clueweb09-en0009-11-39514\n",
      "clueweb09-en0009-11-39515\n",
      "clueweb09-en0009-11-39519\n",
      "clueweb09-en0009-33-11023\n",
      "clueweb09-en0009-35-03944\n",
      "clueweb09-en0009-35-05440\n",
      "clueweb09-en0009-72-33213\n",
      "clueweb09-en0009-72-35704\n",
      "clueweb09-en0010-70-16244\n",
      "clueweb09-en0010-86-10249\n",
      "clueweb09-en0010-88-01565\n",
      "clueweb09-en0010-94-13794\n",
      "clueweb09-en0011-05-37222\n",
      "clueweb09-en0011-20-22185\n",
      "clueweb09-en0011-29-24646\n",
      "clueweb09-en0011-29-24669\n",
      "clueweb09-en0011-29-24672\n",
      "clueweb09-en0011-29-24687\n",
      "clueweb09-en0011-31-06041\n",
      "clueweb09-en0011-31-06042\n",
      "clueweb09-en0011-65-26509\n",
      "clueweb09-en0011-82-23138\n",
      "clueweb09-en0011-82-23139\n",
      "clueweb09-en0015-92-02840\n",
      "clueweb09-en0015-94-02085\n",
      "clueweb09-en0015-94-02086\n",
      "clueweb09-en0015-94-02087\n",
      "clueweb09-en0015-97-01454\n",
      "clueweb09-en0015-97-01455\n",
      "clueweb09-en0016-45-03327\n",
      "clueweb09-en0019-19-17949\n",
      "clueweb09-en0020-30-37640\n",
      "clueweb09-en0020-45-10626\n",
      "clueweb09-en0020-45-10660\n",
      "clueweb09-en0022-11-05061\n",
      "clueweb09-en0022-43-04133\n",
      "clueweb09-en0022-88-32122\n",
      "clueweb09-en0022-88-33308\n",
      "clueweb09-en0022-88-33309\n",
      "clueweb09-en0022-88-33310\n",
      "clueweb09-en0022-88-33311\n",
      "clueweb09-en0029-27-04769\n",
      "clueweb09-en0030-65-23362\n",
      "clueweb09-en0032-07-23263\n",
      "clueweb09-en0032-30-00993\n",
      "clueweb09-en0032-82-31285\n",
      "clueweb09-en0036-43-25105\n",
      "clueweb09-en0036-98-36496\n",
      "clueweb09-en0036-98-37041\n",
      "clueweb09-en0036-98-37042\n",
      "clueweb09-en0036-98-37043\n",
      "clueweb09-en0036-98-37457\n",
      "clueweb09-en0043-14-18565\n",
      "clueweb09-en0044-78-13065\n",
      "clueweb09-en0045-57-23761\n",
      "clueweb09-en0046-24-14922\n",
      "clueweb09-en0047-18-23822\n",
      "clueweb09-en0051-41-18960\n",
      "clueweb09-en0056-10-05246\n",
      "clueweb09-en0057-36-15085\n",
      "clueweb09-en0057-90-00200\n",
      "clueweb09-en0057-94-03567\n",
      "clueweb09-en0062-01-27658\n",
      "clueweb09-en0062-88-10434\n",
      "clueweb09-en0069-45-19043\n",
      "clueweb09-en0069-45-19044\n",
      "clueweb09-en0072-42-13241\n",
      "clueweb09-en0072-98-24920\n",
      "clueweb09-en0073-28-24493\n",
      "clueweb09-en0073-38-15025\n",
      "clueweb09-en0074-30-16800\n",
      "clueweb09-en0074-80-28008\n",
      "clueweb09-en0074-94-20915\n",
      "clueweb09-en0075-06-00228\n",
      "clueweb09-en0075-20-14747\n",
      "clueweb09-en0075-55-14841\n",
      "clueweb09-en0075-64-11300\n",
      "clueweb09-en0079-29-01124\n",
      "clueweb09-en0079-73-31462\n",
      "clueweb09-en0085-27-08562\n",
      "clueweb09-en0085-38-18995\n",
      "clueweb09-en0085-92-05935\n",
      "clueweb09-en0085-94-04400\n",
      "clueweb09-en0085-97-04406\n",
      "clueweb09-en0088-30-05907\n",
      "clueweb09-en0089-97-13674\n",
      "clueweb09-en0091-73-13936\n",
      "clueweb09-en0098-07-13237\n",
      "clueweb09-en0098-75-08438\n",
      "clueweb09-en0100-59-18866\n",
      "clueweb09-en0100-90-02212\n",
      "clueweb09-en0101-62-05928\n",
      "clueweb09-en0102-66-36941\n",
      "clueweb09-en0112-27-09212\n",
      "clueweb09-en0112-63-11217\n",
      "clueweb09-en0112-93-26859\n",
      "clueweb09-en0114-08-04116\n",
      "clueweb09-en0114-80-05336\n",
      "clueweb09-en0116-17-14653\n",
      "clueweb09-en0116-54-14217\n",
      "clueweb09-en0123-22-11919\n",
      "clueweb09-en0123-22-11935\n",
      "clueweb09-en0125-63-22862\n",
      "clueweb09-en0125-63-23013\n",
      "clueweb09-en0125-63-23014\n",
      "clueweb09-en0127-67-19060\n",
      "clueweb09-en0127-68-04069\n",
      "clueweb09-en0127-68-04072\n",
      "clueweb09-en0128-26-29676\n",
      "clueweb09-en0129-01-07060\n",
      "clueweb09-en0129-60-10220\n",
      "clueweb09-en0129-85-11107\n",
      "clueweb09-en0129-91-08454\n",
      "clueweb09-en0133-41-34305\n",
      "clueweb09-en0133-41-34306\n",
      "clueweb09-enwp00-63-16382\n",
      "clueweb09-enwp00-70-16864\n",
      "clueweb09-enwp01-18-00344\n",
      "clueweb09-enwp01-36-11194\n",
      "clueweb09-enwp01-65-12036\n",
      "clueweb09-enwp02-30-09180\n"
     ]
    }
   ],
   "source": [
    "for node in graph:\n",
    "    print(node.document_id)"
   ]
  },
  {
   "cell_type": "code",
   "execution_count": null,
   "metadata": {
    "collapsed": true
   },
   "outputs": [],
   "source": []
  }
 ],
 "metadata": {
  "kernelspec": {
   "display_name": "Python 3",
   "language": "python",
   "name": "python3"
  },
  "language_info": {
   "codemirror_mode": {
    "name": "ipython",
    "version": 3
   },
   "file_extension": ".py",
   "mimetype": "text/x-python",
   "name": "python",
   "nbconvert_exporter": "python",
   "pygments_lexer": "ipython3",
   "version": "3.5.1"
  }
 },
 "nbformat": 4,
 "nbformat_minor": 0
}
