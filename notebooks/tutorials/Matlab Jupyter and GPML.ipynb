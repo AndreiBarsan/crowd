{
 "cells": [
  {
   "cell_type": "markdown",
   "metadata": {},
   "source": [
    "# Matlab Kernel for Jupyter\n",
    "\n",
    "## Overview\n",
    "\n",
    "Let's see how matlab behaves inside Jupyter.\n",
    "Perhaps this will make it easier to either compare GPML and scikit-learn's Gaussian Processes module, or just call GPML from Python with less overhead.\n",
    "\n",
    "\n",
    "## Installation\n",
    "\n",
    "### Install the kernel\n",
    "\n",
    "First off, activate your favorite Python environment. I personally switched to Anaconda after avoiding it for a long time and sticking to `virtualenv`. It payed off immensely.\n",
    "\n",
    "Then install the kernel as detailed in [its official instructions][1].\n",
    "\n",
    "```Bash\n",
    "pip install matlab_kernel\n",
    "python -m matlab_kernel.install\n",
    "```\n",
    "\n",
    "Don't forget to set the `$MATLAB_EXECUTABLE` environment variable in your shell config.\n",
    "\n",
    "### Launch the kernel\n",
    "\n",
    "When first starting the notebook, this kernel will be a bit slower to load than Python or R kernels. The first cell will also have a bit of lag, but afterwards the latency should be gone.\n",
    "\n",
    "Note that the kernel *usually* messes up and seemingly hangs if you're already running Matlab, at least on OSX.\n",
    "\n",
    "\n",
    "### Install the GPML library\n",
    "\n",
    "Follow the instructions from [the GPML documentation][2] and unpack the downloaded zip/tar in the same folder as this notebook.\n",
    "\n",
    "[1]: https://pypi.python.org/pypi/matlab_kernel\n",
    "[2]: http://www.gaussianprocess.org/gpml/code/matlab/doc/"
   ]
  },
  {
   "cell_type": "code",
   "execution_count": 3,
   "metadata": {
    "collapsed": false,
    "scrolled": true
   },
   "outputs": [
    {
     "name": "stdout",
     "output_type": "stream",
     "text": [
      "ans =\n",
      "\n",
      "     2\n"
     ]
    }
   ],
   "source": [
    "1 + 1"
   ]
  },
  {
   "cell_type": "code",
   "execution_count": 4,
   "metadata": {
    "collapsed": false
   },
   "outputs": [
    {
     "name": "stdout",
     "output_type": "stream",
     "text": [
      "I am matlab\n"
     ]
    }
   ],
   "source": [
    "disp('I am matlab')"
   ]
  },
  {
   "cell_type": "code",
   "execution_count": 4,
   "metadata": {
    "collapsed": false
   },
   "outputs": [
    {
     "name": "stdout",
     "output_type": "stream",
     "text": [
      "Hello, I am python\n"
     ]
    }
   ],
   "source": [
    "%%python\n",
    "\n",
    "print(\"Hello, I am python\")"
   ]
  },
  {
   "cell_type": "code",
   "execution_count": 14,
   "metadata": {
    "collapsed": false
   },
   "outputs": [
    {
     "data": {
      "application/javascript": [
       "\n",
       "// alert(\"JS, if you're masochistic like that.\")"
      ],
      "text/plain": [
       "<IPython.core.display.Javascript object>"
      ]
     },
     "metadata": {},
     "output_type": "display_data"
    }
   ],
   "source": [
    "%%javascript\n",
    "\n",
    "// alert(\"JS, if you're masochistic like that.\")"
   ]
  },
  {
   "cell_type": "markdown",
   "metadata": {},
   "source": [
    "# Getting Serious: GPML"
   ]
  },
  {
   "cell_type": "code",
   "execution_count": 5,
   "metadata": {
    "collapsed": false
   },
   "outputs": [
    {
     "name": "stdout",
     "output_type": "stream",
     "text": [
      "Usage: [nlZ dnlZ          ] = gp(hyp, inf, mean, cov, lik, x, y);\n",
      "   or: [ymu ys2 fmu fs2   ] = gp(hyp, inf, mean, cov, lik, x, y, xs);\n",
      "   or: [ymu ys2 fmu fs2 lp] = gp(hyp, inf, mean, cov, lik, x, y, xs, ys);\n"
     ]
    }
   ],
   "source": [
    "addpath(genpath('./'))\n",
    "\n",
    "% This should print a usage string.\n",
    "gp"
   ]
  },
  {
   "cell_type": "code",
   "execution_count": 6,
   "metadata": {
    "collapsed": true
   },
   "outputs": [],
   "source": [
    "% Train\n",
    "meanfunc = @meanConst;\n",
    "hyp.mean = 0;\n",
    "covfunc = @covLIN;\n",
    "hyp.cov = [];\n",
    "likfunc = @likErf;\n",
    "\n",
    "% hyp = minimize(hyp, @gp, -40, @infEP, meanfunc, covfunc, likfunc, x, y);"
   ]
  },
  {
   "cell_type": "code",
   "execution_count": 9,
   "metadata": {
    "collapsed": false
   },
   "outputs": [],
   "source": [
    "% Official example for GPML regression\n",
    "\n",
    "% Note: for defining the prior mean and covariance, as well as\n",
    "% the likelihood function, we use these GPML library-specific\n",
    "% constructs, and not just e.g. anonymous functions. See the\n",
    "% documentation for more info.\n",
    "\n",
    "% Composite mean function: linear + some constant.\n",
    "meanfunc = {@meanSum, {@meanLinear, @meanConst}};\n",
    "\n",
    "% The 'hyp' (hypothesis) struct is used for passing concrete values\n",
    "% to the mean, cov, and likelihood functions.\n",
    "hyp.mean = [0.5; 1];\n",
    "\n",
    "% This is the function that the example uses to model covariance\n",
    "% between two points: The Matern Covariance. It's a pretty nasty\n",
    "% function of the distance between two points, parameterized by\n",
    "% two numers: rho and v (small nu).\n",
    "% The '3' below signifies the smoothness of the Gaussian process.\n",
    "% From docs: covMaterniso  - Matern covariance function with nu=1/2, 3/2 or 5/2\n",
    "% Could also use e.g. linear or constant covariance, or other funky\n",
    "% functions.\n",
    "covfunc = {@covMaterniso, 3};\n",
    "ell = 1/4;\n",
    "sf = 1;\n",
    "\n",
    "% length-scale and standard deviation of signal.\n",
    "hyp.cov = log([ell; sf]);\n",
    "likfunc = @likGauss;\n",
    "% Standard deviation of noise.\n",
    "sn = 0.1;\n",
    "hyp.lik = log(sn);\n",
    "\n",
    "n = 20;\n",
    "x = gpml_randn(0.3, n, 1);\n",
    "% This is just the covariance matrix for our generated numbers.\n",
    "K = feval(covfunc{:}, hyp.cov, x);\n",
    "mu = feval(meanfunc{:}, hyp.mean, x);\n",
    "\n",
    "% Wikipedia has a concise explanation: \n",
    "% The Cholesky decomposition or Cholesky factorization is a\n",
    "% decomposition of a Hermitian, positive-definite matrix into\n",
    "% the product of a lower triangular matrix and its conjugate\n",
    "% transpose, which is useful e.g. for efficient numerical\n",
    "% solutions and Monte Carlo simulations. \n",
    "% I still have no idea why the fuck they're doing this.\n",
    "y = chol(K)' * gpml_randn(0.15, n, 1) + mu + exp(hyp.lik) * gpml_randn(0.2, n, 1);"
   ]
  },
  {
   "cell_type": "markdown",
   "metadata": {},
   "source": [
    "Note: A real and symmetric matrix is simply a special case of a Hermitian matrix. Our (real) covariance matrix is real and symmetric, so we can apply Cholesky decomposition to it."
   ]
  },
  {
   "cell_type": "markdown",
   "metadata": {},
   "source": [
    "#### The Matern Covariance Function\n",
    "\n",
    "For $\\nu = 1$ we have the following covariance function:\n",
    "\n",
    "$$\n",
    "C_{\\nu = 1}(d) = \\sigma^2 \\frac{1}{\\Gamma(1)}\\left( \\sqrt{2}\\frac{d}{\\rho} \\right) K_1 \\left( \\sqrt{2}\\frac{2}{\\rho} \\right)\n",
    "$$"
   ]
  },
  {
   "cell_type": "code",
   "execution_count": 8,
   "metadata": {
    "collapsed": false
   },
   "outputs": [
    {
     "data": {
      "image/png": "[encoded data removed]",
      "text/plain": [
       "<IPython.core.display.Image object>"
      ]
     },
     "metadata": {},
     "output_type": "display_data"
    }
   ],
   "source": [
    "plot(x, y, '+')"
   ]
  },
  {
   "cell_type": "code",
   "execution_count": 10,
   "metadata": {
    "collapsed": false
   },
   "outputs": [
    {
     "name": "stdout",
     "output_type": "stream",
     "text": [
      "nlml =\n",
      "\n",
      "   11.9706\n"
     ]
    }
   ],
   "source": [
    "% Let's ask the model to compute the (joint) negative log\n",
    "% probability (density) nlml (also called marginal likelihood\n",
    "% or evidence) and to generalize from the training data to\n",
    "% other (test) inputs z:\n",
    "\n",
    "nlml = gp(hyp, @infExact, meanfunc, covfunc, likfunc, x, y)"
   ]
  },
  {
   "cell_type": "code",
   "execution_count": 11,
   "metadata": {
    "collapsed": true
   },
   "outputs": [],
   "source": [
    "z = linspace(-1.9, 1.9, 101)';\n",
    "% Train from x and y, and predict for z.\n",
    "% Returns means and variances.\n",
    "[m s2] = gp(hyp, @infExact, meanfunc, covfunc, likfunc, x, y, z);"
   ]
  },
  {
   "cell_type": "code",
   "execution_count": 13,
   "metadata": {
    "collapsed": false
   },
   "outputs": [
    {
     "data": {
      "image/png": "[encoded data removed]",
      "text/plain": [
       "<IPython.core.display.Image object>"
      ]
     },
     "metadata": {},
     "output_type": "display_data"
    }
   ],
   "source": [
    "% Use means and variances of predictions to compute 95% confidence\n",
    "% interval around predicted means.\n",
    "f = [m+2*sqrt(s2); flipdim(m-2*sqrt(s2),1)]; \n",
    "fill([z; flipdim(z,1)], f, [7 7 7]/8)\n",
    "hold on; plot(z, m); plot(x, y, '+')"
   ]
  },
  {
   "cell_type": "markdown",
   "metadata": {},
   "source": [
    "TODO(andrei): Finish second part of tutorial, where we also pretend we don't know any of the hyperparameters, and want to learn them."
   ]
  }
 ],
 "metadata": {
  "kernelspec": {
   "display_name": "Matlab",
   "language": "matlab",
   "name": "matlab"
  },
  "language_info": {
   "codemirror_mode": "octave",
   "file_extension": ".m",
   "help_links": [
    {
     "text": "MetaKernel Magics",
     "url": "https://github.com/calysto/metakernel/blob/master/metakernel/magics/README.md"
    }
   ],
   "mimetype": "text/x-octave",
   "name": "matlab",
   "version": "0.9.6"
  }
 },
 "nbformat": 4,
 "nbformat_minor": 0
}
