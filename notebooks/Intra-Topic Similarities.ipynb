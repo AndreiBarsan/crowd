{
 "cells": [
  {
   "cell_type": "code",
   "execution_count": 10,
   "metadata": {
    "collapsed": true
   },
   "outputs": [],
   "source": [
    "import numpy as np\n",
    "\n",
    "import datetime\n",
    "import io\n",
    "import os\n",
    "import random\n",
    "\n",
    "import matplotlib.pyplot as plt\n",
    "\n",
    "from sklearn.neighbors.kde import KernelDensity\n",
    "\n",
    "%matplotlib inline"
   ]
  },
  {
   "cell_type": "code",
   "execution_count": 11,
   "metadata": {
    "collapsed": true
   },
   "outputs": [],
   "source": [
    "%run ../crowd/data.py\n",
    "%run ../crowd/config.py\n",
    "%run ../crowd/file_util.py\n",
    "%run ../crowd/graph.py\n",
    "%run ../crowd/topic.py"
   ]
  },
  {
   "cell_type": "code",
   "execution_count": 12,
   "metadata": {
    "collapsed": true
   },
   "outputs": [],
   "source": [
    "id_topic_info = load_topic_metadata()\n",
    "judgements = read_useful_judgement_labels(JUDGEMENT_FILE)\n",
    "test_data = read_all_test_labels()"
   ]
  },
  {
   "cell_type": "code",
   "execution_count": 13,
   "metadata": {
    "collapsed": false
   },
   "outputs": [],
   "source": [
    "def cosine_sims(topic_id):\n",
    "    # Currently unused.\n",
    "    fulltext_folder = FULLTEXT_FOLDER\n",
    "    _, corpus = get_topic_files(fulltext_folder, topic_id)\n",
    "\n",
    "    vectorizer = TfidfVectorizer(min_df=1)\n",
    "    term_doc_matrix = vectorizer.fit_transform([text for doc_id, text in corpus])\n",
    "    similarities = cosine_similarity(term_doc_matrix)\n",
    "    flat_sim = similarities.reshape((-1, 1))\n",
    "    flat_sim.shape"
   ]
  },
  {
   "cell_type": "code",
   "execution_count": 14,
   "metadata": {
    "collapsed": false
   },
   "outputs": [],
   "source": [
    "def count_votes(votes):\n",
    "    relevant_votes = 0\n",
    "    non_relevant_votes = 0\n",
    "    for vote in votes:\n",
    "        if vote.is_relevant > 0:\n",
    "            relevant_votes += 1\n",
    "        else:\n",
    "            non_relevant_votes += 1\n",
    "    \n",
    "    return relevant_votes, non_relevant_votes\n",
    "\n",
    "\n",
    "def get_vote_results(topic_id, judgements):\n",
    "    judgements_by_doc_id = get_topic_judgements_by_doc_id(topic_id, judgements)\n",
    "    vote_relevant = set()\n",
    "    vote_non_relevant = set()\n",
    "    for doc_id, judgements in judgements_by_doc_id.items():\n",
    "        rel_votes, non_rel_votes = count_votes(judgements)\n",
    "        if rel_votes > non_rel_votes:\n",
    "            vote_relevant.add(doc_id)\n",
    "        elif rel_votes < non_rel_votes:\n",
    "            vote_non_relevant.add(doc_id)\n",
    "            \n",
    "    return vote_relevant, vote_non_relevant"
   ]
  },
  {
   "cell_type": "code",
   "execution_count": 15,
   "metadata": {
    "collapsed": false
   },
   "outputs": [
    {
     "name": "stdout",
     "output_type": "stream",
     "text": [
      "(36, 36)\n",
      "(81, 81)\n"
     ]
    },
    {
     "data": {
      "image/png": "[encoded data removed]",
      "text/plain": [
       "<matplotlib.figure.Figure at 0x10df59470>"
      ]
     },
     "metadata": {},
     "output_type": "display_data"
    }
   ],
   "source": [
    "from ipywidgets import interact, interactive, fixed\n",
    "import ipywidgets as widgets\n",
    "\n",
    "options={\"[%s] %s (%d)\" % (t.topic_id, t.query, t.document_count) : t.topic_id for t in id_topic_info.values()}\n",
    "\n",
    "@interact(topic_id=options)\n",
    "def topic_sim_kde(topic_id):\n",
    "    gt_relevant, gt_non_relevant = get_relevant(topic_id, test_data)\n",
    "    vote_relevant, vote_non_relevant = get_vote_results(topic_id, judgements)\n",
    "    _, corpus = get_topic_files(FULLTEXT_FOLDER, topic_id)\n",
    "\n",
    "    vectorizer = TfidfVectorizer(min_df=1)\n",
    "    gt_rel_term_doc_matrix = vectorizer.fit_transform([text for doc_id, text in corpus if doc_id in gt_relevant or doc_id in vote_relevant])\n",
    "    gt_non_rel_term_doc_matrix = vectorizer.fit_transform([text for doc_id, text in corpus if doc_id in gt_non_relevant or doc_id in vote_non_relevant])\n",
    "    gt_rel_similarities = cosine_similarity(gt_rel_term_doc_matrix)\n",
    "    gt_non_rel_similarities = cosine_similarity(gt_non_rel_term_doc_matrix)\n",
    "    print(gt_rel_similarities.shape)\n",
    "    print(gt_non_rel_similarities.shape)\n",
    "    \n",
    "    bandwidth = 0.05\n",
    "    X_plot = np.arange(-0.3, 1.3, 0.01).reshape(-1, 1)\n",
    "    #kde = KernelDensity(kernel='gaussian', bandwidth=bandwidth).fit(flat_sim)\n",
    "    #log_dens = kde.score_samples(X_plot)\n",
    "\n",
    "    flat_gt_rel = gt_rel_similarities.reshape(-1, 1)\n",
    "    kde_inner = KernelDensity(kernel='gaussian', bandwidth=bandwidth).fit(flat_gt_rel)\n",
    "    log_dens_inner = kde_inner.score_samples(X_plot)\n",
    "\n",
    "    flat_gt_non_rel = gt_non_rel_similarities.reshape(-1, 1)\n",
    "    kde_outer = KernelDensity(kernel='gaussian', bandwidth=bandwidth).fit(flat_gt_non_rel)\n",
    "    log_dens_outer = kde_outer.score_samples(X_plot)\n",
    "\n",
    "    #plt.hist(flat_sim, bins=15, color=\"green\", alpha=0.5, normed=True)\n",
    "    #plt.fill(X_plot, np.exp(log_dens), fc='#AAAAFF', alpha=0.5)\n",
    "    #plt.title(\"Gaussian Kernel Density\")\n",
    "\n",
    "    plt.fill(X_plot, np.exp(log_dens_inner), fc='#BBAAFF', alpha=0.5)\n",
    "    plt.fill(X_plot, np.exp(log_dens_outer), fc='#FFAABB', alpha=0.5)"
   ]
  },
  {
   "cell_type": "markdown",
   "metadata": {},
   "source": [
    "Bad ones (overlap): orlando sentinel, elvish language (a little), diy audio.\n",
    "One in paper: 20542 hoe does the fly pentop computer work"
   ]
  },
  {
   "cell_type": "code",
   "execution_count": null,
   "metadata": {
    "collapsed": true
   },
   "outputs": [],
   "source": []
  },
  {
   "cell_type": "code",
   "execution_count": null,
   "metadata": {
    "collapsed": true
   },
   "outputs": [],
   "source": []
  },
  {
   "cell_type": "code",
   "execution_count": null,
   "metadata": {
    "collapsed": true
   },
   "outputs": [],
   "source": []
  },
  {
   "cell_type": "code",
   "execution_count": null,
   "metadata": {
    "collapsed": true
   },
   "outputs": [],
   "source": []
  },
  {
   "cell_type": "code",
   "execution_count": null,
   "metadata": {
    "collapsed": true
   },
   "outputs": [],
   "source": []
  },
  {
   "cell_type": "code",
   "execution_count": null,
   "metadata": {
    "collapsed": true
   },
   "outputs": [],
   "source": []
  },
  {
   "cell_type": "code",
   "execution_count": null,
   "metadata": {
    "collapsed": true
   },
   "outputs": [],
   "source": []
  },
  {
   "cell_type": "code",
   "execution_count": null,
   "metadata": {
    "collapsed": true
   },
   "outputs": [],
   "source": []
  },
  {
   "cell_type": "code",
   "execution_count": null,
   "metadata": {
    "collapsed": true
   },
   "outputs": [],
   "source": []
  }
 ],
 "metadata": {
  "kernelspec": {
   "display_name": "Python 3",
   "language": "python",
   "name": "python3"
  },
  "language_info": {
   "codemirror_mode": {
    "name": "ipython",
    "version": 3
   },
   "file_extension": ".py",
   "mimetype": "text/x-python",
   "name": "python",
   "nbconvert_exporter": "python",
   "pygments_lexer": "ipython3",
   "version": "3.5.1"
  }
 },
 "nbformat": 4,
 "nbformat_minor": 0
}
