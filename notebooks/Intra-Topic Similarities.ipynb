{
 "cells": [
  {
   "cell_type": "code",
   "execution_count": 1,
   "metadata": {
    "collapsed": true
   },
   "outputs": [],
   "source": [
    "import numpy as np\n",
    "\n",
    "import datetime\n",
    "import io\n",
    "import os\n",
    "import random\n",
    "\n",
    "import matplotlib.pyplot as plt\n",
    "\n",
    "from sklearn.neighbors.kde import KernelDensity\n",
    "\n",
    "%matplotlib inline"
   ]
  },
  {
   "cell_type": "code",
   "execution_count": 2,
   "metadata": {
    "collapsed": true
   },
   "outputs": [],
   "source": [
    "%run ../crowd/data.py\n",
    "%run ../crowd/config.py\n",
    "%run ../crowd/file_util.py\n",
    "%run ../crowd/graph.py\n",
    "%run ../crowd/topic.py"
   ]
  },
  {
   "cell_type": "code",
   "execution_count": 43,
   "metadata": {
    "collapsed": true
   },
   "outputs": [],
   "source": [
    "id_topic_info = load_topic_metadata()\n",
    "judgements = read_useful_judgement_labels(JUDGEMENT_FILE)\n",
    "\n",
    "# This reads all the ground truth (GT) data.\n",
    "test_data = read_all_test_labels()"
   ]
  },
  {
   "cell_type": "code",
   "execution_count": 4,
   "metadata": {
    "collapsed": false
   },
   "outputs": [],
   "source": [
    "def cosine_sims(topic_id):\n",
    "    # Currently unused.\n",
    "    fulltext_folder = FULLTEXT_FOLDER\n",
    "    _, corpus = get_topic_files(fulltext_folder, topic_id)\n",
    "\n",
    "    vectorizer = TfidfVectorizer(min_df=1)\n",
    "    term_doc_matrix = vectorizer.fit_transform([text for doc_id, text in corpus])\n",
    "    similarities = cosine_similarity(term_doc_matrix)\n",
    "    flat_sim = similarities.reshape((-1, 1))\n",
    "    flat_sim.shape"
   ]
  },
  {
   "cell_type": "code",
   "execution_count": 5,
   "metadata": {
    "collapsed": true
   },
   "outputs": [],
   "source": [
    "def count_votes(votes):\n",
    "    relevant_votes = 0\n",
    "    non_relevant_votes = 0\n",
    "    for vote in votes:\n",
    "        if vote.is_relevant > 0:\n",
    "            relevant_votes += 1\n",
    "        else:\n",
    "            non_relevant_votes += 1\n",
    "    \n",
    "    return relevant_votes, non_relevant_votes\n",
    "\n",
    "\n",
    "def get_all_vote_results(judgements):\n",
    "    judgements_by_doc_id = get_all_judgements_by_doc_id(judgements)\n",
    "    return get_vote_results_from_map(judgements_by_doc_id)\n",
    "\n",
    "def get_topic_vote_results(topic_id, judgements):\n",
    "    judgements_by_doc_id = get_topic_judgements_by_doc_id(topic_id, judgements)\n",
    "    return get_vote_results_from_map(judgements_by_doc_id)\n",
    "\n",
    "def get_vote_results_from_map(judgements_by_doc_id):\n",
    "    \"\"\"Helper function.\n",
    "    \n",
    "    Used by 'get_all_vote_results' and 'get_topic_vote_results'.\n",
    "    \"\"\"\n",
    "    vote_relevant = set()\n",
    "    vote_non_relevant = set()\n",
    "    for doc_id, judgements in judgements_by_doc_id.items():\n",
    "        rel_votes, non_rel_votes = count_votes(judgements)\n",
    "        if rel_votes > non_rel_votes:\n",
    "            vote_relevant.add(doc_id)\n",
    "        elif rel_votes < non_rel_votes:\n",
    "            vote_non_relevant.add(doc_id)\n",
    "            \n",
    "    return vote_relevant, vote_non_relevant"
   ]
  },
  {
   "cell_type": "code",
   "execution_count": 50,
   "metadata": {
    "collapsed": false
   },
   "outputs": [
    {
     "data": {
      "image/png": "[encoded data removed]",
      "text/plain": [
       "<matplotlib.figure.Figure at 0x1268a1b38>"
      ]
     },
     "metadata": {},
     "output_type": "display_data"
    }
   ],
   "source": [
    "from ipywidgets import interact, interactive, fixed\n",
    "import ipywidgets as widgets\n",
    "\n",
    "options={\"[%s] %s (%d)\" % (t.topic_id, t.query, t.document_count) : t.topic_id for t in id_topic_info.values()}\n",
    "\n",
    "def similarity_list(document_texts):\n",
    "    \"\"\"Takes all the pairwise similarities between the given documents'\n",
    "    tf-idf representations, and returns them in a column vector.\"\"\"\n",
    "    vectorizer = TfidfVectorizer(min_df=1)\n",
    "    return cosine_similarity(vectorizer.fit_transform(document_texts)).reshape(-1, 1)\n",
    "\n",
    "\n",
    "def kde(document_texts, **kw):\n",
    "    bandwidth = kw.get('bandwidth', 0.05)\n",
    "    similarities = similarity_list(document_texts)\n",
    "    return KernelDensity(kernel='gaussian', bandwidth=bandwidth).fit(similarities)\n",
    "    \n",
    "    \n",
    "def topic_rel(topic_id):\n",
    "    gt_rel, gt_non_rel = get_relevant(topic_id, test_data)\n",
    "    vote_rel, vote_non_rel = get_topic_vote_results(topic_id, judgements)\n",
    "    _, corpus = get_topic_files(FULLTEXT_FOLDER, topic_id)\n",
    "    rel_doc_texts = [text for doc_id, text in corpus \n",
    "                     if doc_id in gt_rel or doc_id in vote_rel]\n",
    "#                      if doc_id in vote_rel]\n",
    "    non_rel_doc_texts = [text for doc_id, text in corpus\n",
    "                         if doc_id in gt_non_rel or doc_id in vote_non_rel]\n",
    "#                          if doc_id in vote_non_relevant]\n",
    "    return rel_doc_texts, non_rel_doc_texts\n",
    "\n",
    "\n",
    "@interact(topic_id=options)\n",
    "def topic_sim_kde(topic_id):\n",
    "#     gt_relevant, gt_non_relevant = get_relevant(topic_id, test_data)\n",
    "#     vote_relevant, vote_non_relevant = get_topic_vote_results(topic_id, judgements)\n",
    "#     _, corpus = get_topic_files(FULLTEXT_FOLDER, topic_id)\n",
    "\n",
    "    rel_doc_texts, non_rel_doc_texts = topic_rel(topic_id)\n",
    "    \n",
    "    bandwidth = 0.05\n",
    "    X_plot = np.arange(-0.3, 1.3, 0.01).reshape(-1, 1)\n",
    "    #kde = KernelDensity(kernel='gaussian', bandwidth=bandwidth).fit(flat_sim)\n",
    "    #log_dens = kde.score_samples(X_plot)\n",
    "\n",
    "    kde_inner = kde(rel_doc_texts, bandwidth=bandwidth)\n",
    "    log_dens_inner = kde_inner.score_samples(X_plot)\n",
    "    kde_outer = kde(non_rel_doc_texts, bandwidth=bandwidth)\n",
    "    log_dens_outer = kde_outer.score_samples(X_plot)\n",
    "\n",
    "    #plt.hist(flat_sim, bins=15, color=\"green\", alpha=0.5, normed=True)\n",
    "    #plt.fill(X_plot, np.exp(log_dens), fc='#AAAAFF', alpha=0.5)\n",
    "    plt.title(\"Gaussian Kernel Density\")\n",
    "\n",
    "    plt.fill(X_plot, np.exp(log_dens_inner), fc='#BBAAFF', alpha=0.5, label=\"Inner similarities\")\n",
    "    plt.fill(X_plot, np.exp(log_dens_outer), fc='#FFAABB', alpha=0.5, label=\"Outer similarities\")\n",
    "    plt.legend()"
   ]
  },
  {
   "cell_type": "markdown",
   "metadata": {},
   "source": [
    "Bad ones (overlap): orlando sentinel, elvish language (a little), diy audio, earthquake (!).\n",
    "One in paper: 20542 how does the fly pentop computer work"
   ]
  },
  {
   "cell_type": "markdown",
   "metadata": {},
   "source": [
    "# Aggregate KDE"
   ]
  },
  {
   "cell_type": "code",
   "execution_count": 20,
   "metadata": {
    "collapsed": false
   },
   "outputs": [
    {
     "name": "stdout",
     "output_type": "stream",
     "text": [
      "clueweb09-en0000-05-22942\n"
     ]
    }
   ],
   "source": [
    "gt_relevant, gt_non_relevant = get_all_relevant(test_data)\n",
    "vote_relevant, vote_non_relevant = get_all_vote_results(judgements)\n",
    "_, corpus = get_all_files(FULLTEXT_FOLDER)\n",
    "\n",
    "print(corpus[0][0])"
   ]
  },
  {
   "cell_type": "code",
   "execution_count": 42,
   "metadata": {
    "collapsed": false
   },
   "outputs": [],
   "source": [
    "rel_doc_texts = [text for doc_id, text in corpus \n",
    "                 if doc_id in gt_relevant or doc_id in vote_relevant]\n",
    "non_rel_doc_texts = [text for doc_id, text in corpus\n",
    "                     if doc_id in gt_non_relevant or doc_id in vote_non_relevant]\n",
    "\n",
    "vectorizer = TfidfVectorizer(min_df=1)\n",
    "rel_similarities = cosine_similarity(vectorizer.fit_transform(rel_doc_texts))\n",
    "non_rel_similarities = cosine_similarity(vectorizer.fit_transform(non_rel_doc_texts))"
   ]
  },
  {
   "cell_type": "code",
   "execution_count": 71,
   "metadata": {
    "collapsed": false
   },
   "outputs": [],
   "source": [
    "topic_ids = id_topic_info.values()\n",
    "all_topic_rel_non_rel = [topic_rel(t.topic_id) for t in topic_ids]"
   ]
  },
  {
   "cell_type": "code",
   "execution_count": 97,
   "metadata": {
    "collapsed": true
   },
   "outputs": [],
   "source": [
    "all_rel_sim = [similarity_list(rel_non_rel[0])[:, 0] for rel_non_rel in all_topic_rel_non_rel]\n",
    "all_non_rel_sim = [similarity_list(rel_non_rel[1])[:, 0] for rel_non_rel in all_topic_rel_non_rel]"
   ]
  },
  {
   "cell_type": "code",
   "execution_count": 77,
   "metadata": {
    "collapsed": false
   },
   "outputs": [
    {
     "name": "stdout",
     "output_type": "stream",
     "text": [
      "(2704,)\n",
      "(array([846, 634, 548, 348, 180,  70,   6,   6,   6,  60]), array([  7.48423901e-04,   1.00673582e-01,   2.00598739e-01,\n",
      "         3.00523897e-01,   4.00449054e-01,   5.00374212e-01,\n",
      "         6.00299370e-01,   7.00224527e-01,   8.00149685e-01,\n",
      "         9.00074842e-01,   1.00000000e+00]))\n"
     ]
    }
   ],
   "source": [
    "print(all_rel_sim[0].shape)\n",
    "print(np.histogram(all_rel_sim[0]))"
   ]
  },
  {
   "cell_type": "code",
   "execution_count": 104,
   "metadata": {
    "collapsed": false
   },
   "outputs": [],
   "source": [
    "# The [1] is because 'np.histogram' doesn't just return the histogram! (See docs)\n",
    "BIN_COUNT = 50\n",
    "all_rel_hist = [np.histogram(rs, bins=BIN_COUNT)[0] for rs in all_rel_sim]\n",
    "all_rel_hist = np.array(all_rel_hist)\n",
    "\n",
    "all_non_rel_hist = [np.histogram(rs, bins=BIN_COUNT)[0] for rs in all_non_rel_sim]\n",
    "all_non_rel_hist = np.array(all_non_rel_hist)"
   ]
  },
  {
   "cell_type": "code",
   "execution_count": 105,
   "metadata": {
    "collapsed": false
   },
   "outputs": [
    {
     "name": "stdout",
     "output_type": "stream",
     "text": [
      "(30, 50)\n",
      "(30, 50)\n"
     ]
    }
   ],
   "source": [
    "print(all_rel_hist.shape)\n",
    "print(all_non_rel_hist.shape)"
   ]
  },
  {
   "cell_type": "code",
   "execution_count": 106,
   "metadata": {
    "collapsed": false
   },
   "outputs": [],
   "source": [
    "all_rel_hist_avg = np.mean(all_rel_hist, axis=0)\n",
    "all_non_rel_hist_avg = np.mean(all_non_rel_hist, axis=0)"
   ]
  },
  {
   "cell_type": "code",
   "execution_count": 107,
   "metadata": {
    "collapsed": false
   },
   "outputs": [
    {
     "data": {
      "text/plain": [
       "<Container object of 50 artists>"
      ]
     },
     "execution_count": 107,
     "metadata": {},
     "output_type": "execute_result"
    },
    {
     "data": {
      "image/png": "[encoded data removed]",
      "text/plain": [
       "<matplotlib.figure.Figure at 0x1145617f0>"
      ]
     },
     "metadata": {},
     "output_type": "display_data"
    }
   ],
   "source": [
    "plt.bar(np.linspace(0, 1, all_rel_hist_avg.shape[0]), all_rel_hist_avg, width=1/all_rel_hist_avg.shape[0])"
   ]
  },
  {
   "cell_type": "code",
   "execution_count": 108,
   "metadata": {
    "collapsed": false
   },
   "outputs": [
    {
     "data": {
      "text/plain": [
       "<Container object of 50 artists>"
      ]
     },
     "execution_count": 108,
     "metadata": {},
     "output_type": "execute_result"
    },
    {
     "data": {
      "image/png": "[encoded data removed]",
      "text/plain": [
       "<matplotlib.figure.Figure at 0x1141558d0>"
      ]
     },
     "metadata": {},
     "output_type": "display_data"
    }
   ],
   "source": [
    "plt.bar(np.linspace(0, 1, all_non_rel_hist_avg.shape[0]), all_non_rel_hist_avg, width=1/all_non_rel_hist_avg.shape[0])"
   ]
  },
  {
   "cell_type": "code",
   "execution_count": 39,
   "metadata": {
    "collapsed": false
   },
   "outputs": [
    {
     "data": {
      "text/plain": [
       "<matplotlib.text.Text at 0x114885518>"
      ]
     },
     "execution_count": 39,
     "metadata": {},
     "output_type": "execute_result"
    },
    {
     "data": {
      "image/png": "[encoded data removed]",
      "text/plain": [
       "<matplotlib.figure.Figure at 0x1149e2c88>"
      ]
     },
     "metadata": {},
     "output_type": "display_data"
    }
   ],
   "source": [
    "_ = plt.hist(rel_similarities.reshape(-1, 1), 50)\n",
    "plt.title(\"Inner similarities\")"
   ]
  },
  {
   "cell_type": "code",
   "execution_count": 41,
   "metadata": {
    "collapsed": false
   },
   "outputs": [
    {
     "data": {
      "text/plain": [
       "<matplotlib.text.Text at 0x126899d30>"
      ]
     },
     "execution_count": 41,
     "metadata": {},
     "output_type": "execute_result"
    },
    {
     "data": {
      "image/png": "[encoded data removed]",
      "text/plain": [
       "<matplotlib.figure.Figure at 0x1268b7208>"
      ]
     },
     "metadata": {},
     "output_type": "display_data"
    }
   ],
   "source": [
    "_ = plt.hist(non_rel_similarities.reshape(-1, 1), 50)\n",
    "plt.title(\"Outer similarities\")"
   ]
  },
  {
   "cell_type": "code",
   "execution_count": null,
   "metadata": {
    "collapsed": true
   },
   "outputs": [],
   "source": []
  },
  {
   "cell_type": "code",
   "execution_count": null,
   "metadata": {
    "collapsed": true
   },
   "outputs": [],
   "source": []
  },
  {
   "cell_type": "code",
   "execution_count": 19,
   "metadata": {
    "collapsed": false
   },
   "outputs": [
    {
     "name": "stdout",
     "output_type": "stream",
     "text": [
      "Computing inner KDE.\n",
      "Computing outer KDE.\n",
      "Plotting...\n",
      "Finished.\n"
     ]
    },
    {
     "data": {
      "image/png": "[encoded data removed]",
      "text/plain": [
       "<matplotlib.figure.Figure at 0x115911390>"
      ]
     },
     "metadata": {},
     "output_type": "display_data"
    }
   ],
   "source": [
    "rel_doc_texts = [text for doc_id, text in corpus \n",
    "                 if doc_id in gt_relevant or doc_id in vote_relevant]\n",
    "non_rel_doc_texts = [text for doc_id, text in corpus\n",
    "                     if doc_id in gt_non_relevant or doc_id in vote_non_relevant]\n",
    "\n",
    "bandwidth = 0.05\n",
    "X_plot = np.arange(-0.3, 1.3, 0.005).reshape(-1, 1)\n",
    "#kde = KernelDensity(kernel='gaussian', bandwidth=bandwidth).fit(flat_sim)\n",
    "#log_dens = kde.score_samples(X_plot)\n",
    "\n",
    "print(\"Computing inner KDE.\")\n",
    "kde_inner = kde(rel_doc_texts)\n",
    "log_dens_inner = kde_inner.score_samples(X_plot)\n",
    "\n",
    "print(\"Computing outer KDE.\")\n",
    "kde_outer = kde(non_rel_doc_texts)\n",
    "log_dens_outer = kde_outer.score_samples(X_plot)\n",
    "\n",
    "#plt.hist(flat_sim, bins=15, color=\"green\", alpha=0.5, normed=True)\n",
    "#plt.fill(X_plot, np.exp(log_dens), fc='#AAAAFF', alpha=0.5)\n",
    "plt.title(\"Gaussian Kernel Density\")\n",
    "\n",
    "print(\"Plotting...\")\n",
    "plt.fill(X_plot, np.exp(log_dens_inner), fc='#BBAAFF', alpha=0.5, label=\"Inner similarities\")\n",
    "plt.fill(X_plot, np.exp(log_dens_outer), fc='#FFAABB', alpha=0.5, label=\"Outer similarities\")\n",
    "plt.legend()\n",
    "print(\"Finished.\")\n"
   ]
  },
  {
   "cell_type": "code",
   "execution_count": null,
   "metadata": {
    "collapsed": true
   },
   "outputs": [],
   "source": []
  }
 ],
 "metadata": {
  "kernelspec": {
   "display_name": "Python 3",
   "language": "python",
   "name": "python3"
  },
  "language_info": {
   "codemirror_mode": {
    "name": "ipython",
    "version": 3
   },
   "file_extension": ".py",
   "mimetype": "text/x-python",
   "name": "python",
   "nbconvert_exporter": "python",
   "pygments_lexer": "ipython3",
   "version": "3.5.1"
  }
 },
 "nbformat": 4,
 "nbformat_minor": 0
}
