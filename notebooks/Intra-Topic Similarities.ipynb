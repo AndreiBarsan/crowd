{
 "cells": [
  {
   "cell_type": "markdown",
   "metadata": {},
   "source": [
    "# Notebook for comparing inner and outer document similarities\n",
    "\n",
    "For a given topic $t$, inner similarities are similarities between pairs of relevant documents. Outer similarities are similarities between pairs of documents, one of which is relevant, and the other, non-relevant.\n",
    "\n",
    "In establishing whether a document is explicitly relevant or non-relevant, we take into account both expert ratings and majority votes.\n",
    "\n",
    "We ignore documents with no ground truth or votes, as well as documents whose relevance votes are tied.\n",
    "\n",
    "It is expected that there is a significantly higher similarity within relevant documents.\n",
    "\n",
    "Moreover, it is expected that employing a more semantic document representation, such as the one produced using paragraph vector learning, will lead to an even better distinction between the aforementioned similarities."
   ]
  },
  {
   "cell_type": "code",
   "execution_count": 1,
   "metadata": {
    "collapsed": false
   },
   "outputs": [],
   "source": [
    "import numpy as np\n",
    "\n",
    "import datetime\n",
    "import io\n",
    "import os\n",
    "import random\n",
    "import sys\n",
    "\n",
    "import matplotlib.pyplot as plt\n",
    "\n",
    "from sklearn.neighbors.kde import KernelDensity\n",
    "\n",
    "%matplotlib inline\n",
    "%load_ext autoreload"
   ]
  },
  {
   "cell_type": "code",
   "execution_count": 2,
   "metadata": {
    "collapsed": false
   },
   "outputs": [],
   "source": [
    "# This makes Jupyter pretend to be Pythonic and play well with modules.\n",
    "sys.path.append(os.path.expandvars(os.path.join(os.getcwd(), '..')))"
   ]
  },
  {
   "cell_type": "code",
   "execution_count": 3,
   "metadata": {
    "collapsed": false
   },
   "outputs": [
    {
     "name": "stdout",
     "output_type": "stream",
     "text": [
      "/Users/andrei/workspace/crowd/notebooks\n",
      "/Users/andrei/workspace/crowd\n"
     ]
    }
   ],
   "source": [
    "# Make sure we operate in the same directory as the other tools\n",
    "# in the project.\n",
    "if 'notebooks' in os.getcwd():\n",
    "    print(os.getcwd())\n",
    "    os.chdir('..')\n",
    "    print(os.getcwd())"
   ]
  },
  {
   "cell_type": "code",
   "execution_count": 4,
   "metadata": {
    "collapsed": false
   },
   "outputs": [],
   "source": [
    "%autoreload 2\n",
    "\n",
    "from crowd.aggregation import *\n",
    "from crowd.config import *\n",
    "from crowd.data import *\n",
    "from crowd.file_util import *\n",
    "from crowd.graph import *\n",
    "from crowd.graph_sampling import *\n",
    "from crowd.simulation import *\n",
    "from crowd.topic import *\n",
    "from crowd.util import *"
   ]
  },
  {
   "cell_type": "code",
   "execution_count": 5,
   "metadata": {
    "collapsed": false
   },
   "outputs": [],
   "source": [
    "# Load all the necessary data from its default location.\n",
    "id_topic_info = load_topic_metadata()\n",
    "judgements = read_useful_judgement_labels()\n",
    "ground_truth = read_ground_truth()"
   ]
  },
  {
   "cell_type": "code",
   "execution_count": 6,
   "metadata": {
    "collapsed": true
   },
   "outputs": [],
   "source": [
    "def count_votes(votes):\n",
    "    relevant_votes = 0\n",
    "    non_relevant_votes = 0\n",
    "    for vote in votes:\n",
    "        if vote.is_relevant > 0:\n",
    "            relevant_votes += 1\n",
    "        else:\n",
    "            non_relevant_votes += 1\n",
    "    \n",
    "    return relevant_votes, non_relevant_votes\n",
    "\n",
    "\n",
    "def get_all_vote_results(judgements):\n",
    "    judgements_by_doc_id = get_all_judgements_by_doc_id(judgements)\n",
    "    return get_vote_results_from_map(judgements_by_doc_id)\n",
    "\n",
    "def get_topic_vote_results(topic_id, judgements):\n",
    "    judgements_by_doc_id = get_topic_judgements_by_doc_id(topic_id, judgements)\n",
    "    return get_vote_results_from_map(judgements_by_doc_id)\n",
    "\n",
    "def get_vote_results_from_map(judgements_by_doc_id):\n",
    "    \"\"\"Helper function.\n",
    "    \n",
    "    Used by 'get_all_vote_results' and 'get_topic_vote_results'.\n",
    "    \"\"\"\n",
    "    vote_relevant = set()\n",
    "    vote_non_relevant = set()\n",
    "    for doc_id, judgements in judgements_by_doc_id.items():\n",
    "        rel_votes, non_rel_votes = count_votes(judgements)\n",
    "        if rel_votes > non_rel_votes:\n",
    "            vote_relevant.add(doc_id)\n",
    "        elif rel_votes < non_rel_votes:\n",
    "            vote_non_relevant.add(doc_id)\n",
    "            \n",
    "    return vote_relevant, vote_non_relevant"
   ]
  },
  {
   "cell_type": "code",
   "execution_count": 7,
   "metadata": {
    "collapsed": false
   },
   "outputs": [],
   "source": [
    "def del_diag(x):\n",
    "    \"\"\"Deletes the diagonal of the given square numpy matrix.\n",
    "    \n",
    "    Doesn't pay much attention to the resulting order of the elements.\n",
    "    \"\"\"\n",
    "    assert x.shape[0] == x.shape[1]\n",
    "    dim = x.shape[0]\n",
    "    \n",
    "    lin = np.ravel(x.reshape(-1, 1))\n",
    "    diag_indices = np.arange(dim) * (dim + 1)\n",
    "#     print(lin[diag_indices])\n",
    "    lin = np.delete(lin, diag_indices)\n",
    "    \n",
    "    return lin.reshape(dim - 1, -1)"
   ]
  },
  {
   "cell_type": "code",
   "execution_count": 112,
   "metadata": {
    "collapsed": false
   },
   "outputs": [],
   "source": [
    "# Disabling this leads to an ugly spike in the inner similarity plot at 1.0\n",
    "# Normally visible very clearly in the histogram.\n",
    "should_del_diag = True\n",
    "\n",
    "def similarity_list(document_texts, other_docs=None):\n",
    "    \"\"\"Takes all the pairwise similarities between the given documents'\n",
    "    tf-idf representations, and returns them in a column vector.\"\"\"\n",
    "    \n",
    "    # TODO(andrei): Common vectorizer for everything.\n",
    "    vectorizer = TfidfVectorizer(min_df=1)\n",
    "    if other_docs is None:\n",
    "        sims = cosine_similarity(vectorizer.fit_transform(document_texts))\n",
    "    else:\n",
    "        vectorizer.fit(document_texts + other_docs)\n",
    "        X = vectorizer.transform(document_texts)\n",
    "        Y = vectorizer.transform(other_docs)\n",
    "        sims = cosine_similarity(X, Y)\n",
    "        \n",
    "        # Do not attempt to delete diag in this case!\n",
    "        return sims.reshape(-1, 1)\n",
    "    \n",
    "#     sims[sims > 0.1] = 1.0\n",
    "    # Ensures we don't take into account documents' similarity to themselves.\n",
    "    if should_del_diag:\n",
    "        return del_diag(sims).reshape(-1, 1)\n",
    "    else:\n",
    "        return sims.reshape(-1, 1)\n",
    "\n",
    "\n",
    "def kde(document_texts, **kw):\n",
    "    bandwidth = kw.get('bandwidth', 0.05)\n",
    "    similarities = similarity_list(document_texts)\n",
    "    return KernelDensity(kernel='gaussian', bandwidth=bandwidth).fit(similarities)\n",
    "    \n",
    "    \n",
    "def topic_rel(topic_id, full_text=True):\n",
    "    gt_rel, gt_non_rel = get_relevant(topic_id, ground_truth)\n",
    "    vote_rel, vote_non_rel = get_topic_vote_results(topic_id, judgements)\n",
    "    _, corpus = get_topic_files(FULLTEXT_FOLDER, topic_id)\n",
    "    \n",
    "    # TODO(andrei): Maybe skip docs where there's dissent between voters\n",
    "    # and ground truth.\n",
    "    # Consider a document relevant if it's explicitly relevant in the ground truth\n",
    "    # OR explicitly relevant in the voter consensus. Using just expert judgements\n",
    "    # (ground truth) yields much too little data.\n",
    "    if full_text:\n",
    "        rel_doc_texts = [text for doc_id, text in corpus \n",
    "                         if doc_id in gt_rel or doc_id in vote_rel]\n",
    "    #                      if doc_id in vote_rel]\n",
    "        non_rel_doc_texts = [text for doc_id, text in corpus\n",
    "                             if doc_id in gt_non_rel or doc_id in vote_non_rel]\n",
    "    #                          if doc_id in vote_non_relevant]\n",
    "        return rel_doc_texts, non_rel_doc_texts\n",
    "    else:\n",
    "        rel_doc_ids = [doc_id for doc_id, text in corpus \n",
    "                       if doc_id in gt_rel or doc_id in vote_rel]\n",
    "        non_rel_doc_ids = [doc_id for doc_id, text in corpus\n",
    "                           if doc_id in gt_non_rel or doc_id in vote_non_rel]\n",
    "        return rel_doc_ids, non_rel_doc_ids"
   ]
  },
  {
   "cell_type": "code",
   "execution_count": 113,
   "metadata": {
    "collapsed": false
   },
   "outputs": [
    {
     "name": "stdout",
     "output_type": "stream",
     "text": [
      "Del diag: True\n"
     ]
    },
    {
     "data": {
      "image/png": "[encoded data removed]",
      "text/plain": [
       "<matplotlib.figure.Figure at 0x1157dd3c8>"
      ]
     },
     "metadata": {},
     "output_type": "display_data"
    }
   ],
   "source": [
    "from ipywidgets import interact, interactive, fixed\n",
    "import ipywidgets as widgets\n",
    "\n",
    "options={\"[%s] %s (%d)\" % (t.topic_id, t.query, t.document_count) : t.topic_id for t in id_topic_info.values()}\n",
    "\n",
    "\n",
    "@interact(topic_id=options) #, del_id=widgets.Checkbox())\n",
    "def topic_sim_kde(topic_id):\n",
    "#     gt_relevant, gt_non_relevant = get_relevant(topic_id, test_data)\n",
    "#     vote_relevant, vote_non_relevant = get_topic_vote_results(topic_id, judgements)\n",
    "#     _, corpus = get_topic_files(FULLTEXT_FOLDER, topic_id)\n",
    "\n",
    "    rel_doc_texts, non_rel_doc_texts = topic_rel(topic_id)\n",
    "    \n",
    "    # TODO(andrei): actually use this control!\n",
    "#     should_del_diag = del_id\n",
    "    print(\"Del diag: {0}\".format(should_del_diag))\n",
    "    \n",
    "    bandwidth = 0.05\n",
    "    X_plot = np.arange(-0.3, 1.3, 0.01).reshape(-1, 1)\n",
    "\n",
    "    kde_inner = kde(rel_doc_texts, bandwidth=bandwidth)\n",
    "    log_dens_inner = kde_inner.score_samples(X_plot)\n",
    "    kde_outer = kde(non_rel_doc_texts, bandwidth=bandwidth)\n",
    "    log_dens_outer = kde_outer.score_samples(X_plot)\n",
    "\n",
    "    #plt.hist(flat_sim, bins=15, color=\"green\", alpha=0.5, normed=True)\n",
    "    #plt.fill(X_plot, np.exp(log_dens), fc='#AAAAFF', alpha=0.5)\n",
    "    plt.title(\"Gaussian Kernel Density\")\n",
    "    plt.xlabel(\"Pairwise similarity\")\n",
    "    plt.ylabel(\"Normalized mass\")\n",
    "\n",
    "    plt.fill(X_plot, np.exp(log_dens_inner), fc='#BBAAFF', alpha=0.5, label=\"Inner similarities\")\n",
    "    plt.fill(X_plot, np.exp(log_dens_outer), fc='#FFAABB', alpha=0.5, label=\"Outer similarities\")\n",
    "    plt.legend()\n",
    "    plt.xlim((0.0, 1.0))"
   ]
  },
  {
   "cell_type": "markdown",
   "metadata": {},
   "source": [
    "Bad ones (overlap): orlando sentinel, elvish language (a little), diy audio, earthquake (!).\n",
    "One in paper: 20542 how does the fly pentop computer work"
   ]
  },
  {
   "cell_type": "markdown",
   "metadata": {},
   "source": [
    "# Aggregate KDE\n",
    "\n",
    "Let's now compute the (arguably more interesting) histogram and KDE for ALL topics.\n",
    "\n",
    "To do so, we compute a histogram for every topic, and average the histograms."
   ]
  },
  {
   "cell_type": "code",
   "execution_count": 12,
   "metadata": {
    "collapsed": false
   },
   "outputs": [],
   "source": [
    "gt_relevant, gt_non_relevant = get_known_labels(ground_truth)\n",
    "vote_relevant, vote_non_relevant = get_all_vote_results(judgements)\n",
    "_, corpus = get_all_files(FULLTEXT_FOLDER)"
   ]
  },
  {
   "cell_type": "code",
   "execution_count": 13,
   "metadata": {
    "collapsed": false
   },
   "outputs": [
    {
     "name": "stdout",
     "output_type": "stream",
     "text": [
      "19636 documents in corpus.\n"
     ]
    }
   ],
   "source": [
    "print(\"{0} documents in corpus.\".format(len(corpus)))"
   ]
  },
  {
   "cell_type": "code",
   "execution_count": 79,
   "metadata": {
    "collapsed": false
   },
   "outputs": [
    {
     "name": "stdout",
     "output_type": "stream",
     "text": [
      "1764 1323\n"
     ]
    }
   ],
   "source": [
    "rel_doc_texts = [text for doc_id, text in corpus \n",
    "                 if doc_id in gt_relevant or doc_id in vote_relevant]\n",
    "non_rel_doc_texts = [text for doc_id, text in corpus\n",
    "                     if doc_id in gt_non_relevant or doc_id in vote_non_relevant]\n",
    "print(len(rel_doc_texts), len(non_rel_doc_texts))"
   ]
  },
  {
   "cell_type": "code",
   "execution_count": 15,
   "metadata": {
    "collapsed": false
   },
   "outputs": [
    {
     "name": "stdout",
     "output_type": "stream",
     "text": [
      "20932:translate german to english\n",
      "30\n",
      "For topic #16\n",
      "Relevant document count: 80\n",
      "Non-relevant document count: 31\n"
     ]
    }
   ],
   "source": [
    "topic_ids = id_topic_info.values()\n",
    "# A tuple of full (relevant, non-rel) documents\n",
    "all_topic_rel_non_rel = [topic_rel(t.topic_id) for t in topic_ids]\n",
    "print(list(topic_ids)[16])\n",
    "print(len(all_topic_rel_non_rel))\n",
    "\n",
    "# Simple small sanity check\n",
    "print(\"For topic #16\")\n",
    "print(\"Relevant document count: {0}\".format(len(all_topic_rel_non_rel[16][0])))\n",
    "print(\"Non-relevant document count: {0}\".format(len(all_topic_rel_non_rel[16][1])))"
   ]
  },
  {
   "cell_type": "code",
   "execution_count": 16,
   "metadata": {
    "collapsed": false
   },
   "outputs": [],
   "source": [
    "all_rel_sim = [np.ravel(similarity_list(rel_non_rel[0])) for rel_non_rel in all_topic_rel_non_rel]\n",
    "\n",
    "# Outer sim = relevant vs. irrelevant!!!\n",
    "all_non_rel_sim = [np.ravel(similarity_list(rel_non_rel[0], rel_non_rel[1])) for rel_non_rel in all_topic_rel_non_rel]"
   ]
  },
  {
   "cell_type": "code",
   "execution_count": 18,
   "metadata": {
    "collapsed": false
   },
   "outputs": [
    {
     "name": "stdout",
     "output_type": "stream",
     "text": [
      "(111560,)\n",
      "(69777,)\n"
     ]
    }
   ],
   "source": [
    "all_rel_sim_1d = np.concatenate(all_rel_sim)\n",
    "all_non_rel_sim_1d = np.concatenate(all_non_rel_sim)\n",
    "\n",
    "print(all_rel_sim_1d.shape)\n",
    "print(all_non_rel_sim_1d.shape)"
   ]
  },
  {
   "cell_type": "code",
   "execution_count": 109,
   "metadata": {
    "collapsed": false
   },
   "outputs": [
    {
     "data": {
      "text/plain": [
       "<matplotlib.text.Text at 0x1aacfb780>"
      ]
     },
     "execution_count": 109,
     "metadata": {},
     "output_type": "execute_result"
    },
    {
     "data": {
      "image/png": "[encoded data removed]",
      "text/plain": [
       "<matplotlib.figure.Figure at 0x1aa9f64e0>"
      ]
     },
     "metadata": {},
     "output_type": "display_data"
    }
   ],
   "source": [
    "# hist_rel_1d = np.histogram(all_rel_sim_1d, bins=100)[0]\n",
    "_ = plt.hist(all_rel_sim_1d, bins=100, color='cyan', alpha=0.5, label=\"Inner\")\n",
    "_ = plt.hist(all_non_rel_sim_1d, bins=100, color='green', alpha=0.5, label=\"Outer\")\n",
    "plt.legend()\n",
    "plt.title(\"Histograms with **NO** averaging performed\")"
   ]
  },
  {
   "cell_type": "code",
   "execution_count": 20,
   "metadata": {
    "collapsed": false
   },
   "outputs": [
    {
     "name": "stdout",
     "output_type": "stream",
     "text": [
      "(111560,)\n",
      "(160, 1)\n"
     ]
    },
    {
     "data": {
      "text/plain": [
       "<matplotlib.legend.Legend at 0x11578aeb8>"
      ]
     },
     "execution_count": 20,
     "metadata": {},
     "output_type": "execute_result"
    },
    {
     "data": {
      "image/png": "[encoded data removed]",
      "text/plain": [
       "<matplotlib.figure.Figure at 0x1157a5f28>"
      ]
     },
     "metadata": {},
     "output_type": "display_data"
    }
   ],
   "source": [
    "bandwidth = 0.05\n",
    "X_plot = np.arange(-0.3, 1.3, 0.01).reshape(-1, 1)\n",
    "    \n",
    "print(all_rel_sim_1d.shape)\n",
    "print(X_plot.shape)\n",
    "    \n",
    "kde = KernelDensity(kernel='gaussian', bandwidth=bandwidth).fit(all_rel_sim_1d.reshape(-1, 1))\n",
    "log_dens_inner = kde.score_samples(X_plot)\n",
    "\n",
    "kde = KernelDensity(kernel='gaussian', bandwidth=bandwidth).fit(all_non_rel_sim_1d.reshape(-1, 1))\n",
    "log_dens_outer = kde.score_samples(X_plot)\n",
    "\n",
    "plt.title(\"Gaussian Kernel Density over all topics\")\n",
    "\n",
    "plt.fill(X_plot, np.exp(log_dens_inner), fc='#BBAAFF', alpha=0.5, label=\"Inner similarities\")\n",
    "plt.fill(X_plot, np.exp(log_dens_outer), fc='#FFAABB', alpha=0.5, label=\"Outer similarities\")\n",
    "plt.xlim((0.0, 1.0))\n",
    "plt.xlabel(\"Pariwise similarity\")\n",
    "plt.ylabel(\"Approximate mass\")\n",
    "plt.legend()"
   ]
  },
  {
   "cell_type": "markdown",
   "metadata": {
    "collapsed": true
   },
   "source": [
    "## Old aggregate hist/kde code"
   ]
  },
  {
   "cell_type": "code",
   "execution_count": 21,
   "metadata": {
    "collapsed": false
   },
   "outputs": [],
   "source": [
    "# The [1] is because 'np.histogram' doesn't just return the histogram! (See docs)\n",
    "BIN_COUNT = 50\n",
    "all_rel_hist = [np.histogram(rs, bins=BIN_COUNT)[0] for rs in all_rel_sim]\n",
    "all_rel_hist = np.array(all_rel_hist)\n",
    "\n",
    "all_non_rel_hist = [np.histogram(rs, bins=BIN_COUNT)[0] for rs in all_non_rel_sim]\n",
    "all_non_rel_hist = np.array(all_non_rel_hist)"
   ]
  },
  {
   "cell_type": "code",
   "execution_count": 22,
   "metadata": {
    "collapsed": false
   },
   "outputs": [
    {
     "name": "stdout",
     "output_type": "stream",
     "text": [
      "(30, 50)\n",
      "(30, 50)\n"
     ]
    }
   ],
   "source": [
    "print(all_rel_hist.shape)\n",
    "print(all_non_rel_hist.shape)"
   ]
  },
  {
   "cell_type": "code",
   "execution_count": 23,
   "metadata": {
    "collapsed": false
   },
   "outputs": [],
   "source": [
    "all_rel_hist_avg = np.mean(all_rel_hist, axis=0)\n",
    "all_non_rel_hist_avg = np.mean(all_non_rel_hist, axis=0)"
   ]
  },
  {
   "cell_type": "code",
   "execution_count": null,
   "metadata": {
    "collapsed": false
   },
   "outputs": [],
   "source": [
    "# plt.bar(np.linspace(0, 1, all_rel_hist_avg.shape[0]),\n",
    "#         all_rel_hist_avg,\n",
    "#         width=1/all_rel_hist_avg.shape[0],\n",
    "#         color='red', alpha=0.5,\n",
    "#         label=\"Inner similarities\")\n",
    "# plt.bar(np.linspace(0, 1, all_non_rel_hist_avg.shape[0]),\n",
    "#         all_non_rel_hist_avg,\n",
    "#         width=1/all_non_rel_hist_avg.shape[0],\n",
    "#         alpha=0.5,\n",
    "#         label=\"Outer similarities\")\n",
    "# plt.title(\"Hacky inner/outer similarity histogram\")\n",
    "# plt.legend()\n",
    "# plt.ylabel(\"Number of documents\")\n",
    "# plt.xlabel(\"Pairwise similarity\")"
   ]
  },
  {
   "cell_type": "code",
   "execution_count": null,
   "metadata": {
    "collapsed": false,
    "scrolled": true
   },
   "outputs": [],
   "source": [
    "# _ = plt.hist(rel_similarities.reshape(-1, 1), 100)\n",
    "# plt.title(\"Inner similarities\")"
   ]
  },
  {
   "cell_type": "code",
   "execution_count": null,
   "metadata": {
    "collapsed": false
   },
   "outputs": [],
   "source": [
    "# _ = plt.hist(non_rel_similarities.reshape(-1, 1), 100)\n",
    "# plt.title(\"Outer similarities\")"
   ]
  },
  {
   "cell_type": "code",
   "execution_count": null,
   "metadata": {
    "collapsed": true
   },
   "outputs": [],
   "source": []
  },
  {
   "cell_type": "code",
   "execution_count": null,
   "metadata": {
    "collapsed": false
   },
   "outputs": [],
   "source": [
    "# rel_doc_texts = [text for doc_id, text in corpus \n",
    "#                  if doc_id in gt_relevant or doc_id in vote_relevant]\n",
    "# non_rel_doc_texts = [text for doc_id, text in corpus\n",
    "#                      if doc_id in gt_non_relevant or doc_id in vote_non_relevant]\n",
    "\n",
    "# bandwidth = 0.05\n",
    "# X_plot = np.arange(-0.3, 1.3, 0.005).reshape(-1, 1)\n",
    "# #kde = KernelDensity(kernel='gaussian', bandwidth=bandwidth).fit(flat_sim)\n",
    "# #log_dens = kde.score_samples(X_plot)\n",
    "\n",
    "# print(\"Computing inner KDE.\")\n",
    "# kde_inner = kde(rel_doc_texts)\n",
    "# log_dens_inner = kde_inner.score_samples(X_plot)\n",
    "\n",
    "# print(\"Computing outer KDE.\")\n",
    "# kde_outer = kde(non_rel_doc_texts)\n",
    "# log_dens_outer = kde_outer.score_samples(X_plot)\n",
    "\n",
    "# #plt.hist(flat_sim, bins=15, color=\"green\", alpha=0.5, normed=True)\n",
    "# #plt.fill(X_plot, np.exp(log_dens), fc='#AAAAFF', alpha=0.5)\n",
    "# plt.title(\"Gaussian Kernel Density\")\n",
    "\n",
    "# print(\"Plotting...\")\n",
    "# plt.fill(X_plot, np.exp(log_dens_inner), fc='#BBAAFF', alpha=0.5, label=\"Inner similarities\")\n",
    "# plt.fill(X_plot, np.exp(log_dens_outer), fc='#FFAABB', alpha=0.5, label=\"Outer similarities\")\n",
    "# plt.legend()\n",
    "# print(\"Finished.\")\n"
   ]
  },
  {
   "cell_type": "markdown",
   "metadata": {
    "collapsed": true
   },
   "source": [
    "# Using paragraph vectors\n",
    "\n",
    "Employing par2vec instead of tf--idf representations should give us an even better-defined discrepancies between the two (inner, outer) histograms.\n",
    "\n",
    "**Note: this toy example is insufficient.** We need to pre-train doc2vec on a huge corpus, such as Wikipedia, and then generate our document vectors."
   ]
  },
  {
   "cell_type": "code",
   "execution_count": 24,
   "metadata": {
    "collapsed": false
   },
   "outputs": [
    {
     "name": "stdout",
     "output_type": "stream",
     "text": [
      "19636\n",
      "1764\n",
      "1323\n"
     ]
    }
   ],
   "source": [
    "from gensim.models import Doc2Vec\n",
    "from gensim.models.doc2vec import *\n",
    "\n",
    "print(len(corpus))\n",
    "print(len(rel_doc_texts))\n",
    "print(len(non_rel_doc_texts))"
   ]
  },
  {
   "cell_type": "code",
   "execution_count": 43,
   "metadata": {
    "collapsed": false,
    "scrolled": true
   },
   "outputs": [],
   "source": [
    "import re\n",
    "import string\n",
    "\n",
    "table = str.maketrans({key: None for key in string.punctuation})\n",
    "\n",
    "def preprocess(s):\n",
    "    no_punct = s.translate(table)\n",
    "    no_multi_ws = re.sub('\\s+', ' ', no_punct)\n",
    "    \n",
    "    return no_multi_ws"
   ]
  },
  {
   "cell_type": "code",
   "execution_count": null,
   "metadata": {
    "collapsed": false
   },
   "outputs": [],
   "source": []
  },
  {
   "cell_type": "code",
   "execution_count": 49,
   "metadata": {
    "collapsed": false
   },
   "outputs": [],
   "source": [
    "tagged_documents = []\n",
    "doc_count = len(corpus)\n",
    "for doc_id, (doc_name, doc) in enumerate(corpus):    \n",
    "    if (doc_id + 1) % 1000 == 0:\n",
    "        print(\"{0}/{1}\".format(doc_id, doc_count))\n",
    "    words = preprocess(doc).split()\n",
    "    td = TaggedDocument(words=words, tags=[doc_id])\n",
    "    tagged_documents.append(td)"
   ]
  },
  {
   "cell_type": "code",
   "execution_count": 50,
   "metadata": {
    "collapsed": false
   },
   "outputs": [
    {
     "name": "stdout",
     "output_type": "stream",
     "text": [
      "19636\n"
     ]
    }
   ],
   "source": [
    "print(len(tagged_documents))"
   ]
  },
  {
   "cell_type": "code",
   "execution_count": 58,
   "metadata": {
    "collapsed": false
   },
   "outputs": [],
   "source": [
    "# Use size 100, as in Piyush's paper.\n",
    "d2v = Doc2Vec(documents=tagged_documents, workers=-1, size=100)"
   ]
  },
  {
   "cell_type": "code",
   "execution_count": 59,
   "metadata": {
    "collapsed": true
   },
   "outputs": [],
   "source": [
    "# Note: even though the corpus isn't very big, gensim is just blazing fast."
   ]
  },
  {
   "cell_type": "code",
   "execution_count": 62,
   "metadata": {
    "collapsed": false
   },
   "outputs": [
    {
     "data": {
      "text/plain": [
       "'cereal'"
      ]
     },
     "execution_count": 62,
     "metadata": {},
     "output_type": "execute_result"
    }
   ],
   "source": [
    "d2v.doesnt_match(\"breakfast cereal dinner lunch\".split())"
   ]
  },
  {
   "cell_type": "markdown",
   "metadata": {},
   "source": [
    "**This sort of tests seem to fail on our (rather small) corpus!**"
   ]
  },
  {
   "cell_type": "code",
   "execution_count": 61,
   "metadata": {
    "collapsed": false
   },
   "outputs": [
    {
     "data": {
      "text/plain": [
       "[('Dottailed', 0.4037927985191345),\n",
       " ('urnschemasmicrosoftcomofficesmarttags', 0.39747145771980286),\n",
       " ('Remarks', 0.3935852646827698),\n",
       " ('Mejia', 0.388798326253891),\n",
       " ('comittee', 0.3867296576499939),\n",
       " ('Marcellus', 0.383817583322525),\n",
       " ('Amethyst', 0.3760608434677124),\n",
       " ('DEWES', 0.3733574151992798),\n",
       " ('heredity6', 0.37293174862861633),\n",
       " ('magne', 0.36834555864334106)]"
      ]
     },
     "execution_count": 61,
     "metadata": {},
     "output_type": "execute_result"
    }
   ],
   "source": [
    "d2v.most_similar(positive=['woman', 'king'], negative=['man'])"
   ]
  },
  {
   "cell_type": "code",
   "execution_count": 66,
   "metadata": {
    "collapsed": false
   },
   "outputs": [
    {
     "data": {
      "text/plain": [
       "100"
      ]
     },
     "execution_count": 66,
     "metadata": {},
     "output_type": "execute_result"
    }
   ],
   "source": [
    "d2v.vector_size"
   ]
  },
  {
   "cell_type": "code",
   "execution_count": 71,
   "metadata": {
    "collapsed": false
   },
   "outputs": [
    {
     "data": {
      "text/plain": [
       "True"
      ]
     },
     "execution_count": 71,
     "metadata": {},
     "output_type": "execute_result"
    }
   ],
   "source": [
    "isinstance(d2v.docvecs[0], np.ndarray)"
   ]
  },
  {
   "cell_type": "code",
   "execution_count": 100,
   "metadata": {
    "collapsed": false
   },
   "outputs": [],
   "source": [
    "doc_name_to_vec = {}\n",
    "for idx, (doc_name, _) in enumerate(corpus):\n",
    "    # Ensure doc vectors are always positive, without affecting their\n",
    "    # cosine similarities, but keeping them always positive.\n",
    "    doc_name_to_vec[doc_name] = d2v.docvecs[idx] + 0.005"
   ]
  },
  {
   "cell_type": "code",
   "execution_count": 101,
   "metadata": {
    "collapsed": false
   },
   "outputs": [
    {
     "data": {
      "text/plain": [
       "19636"
      ]
     },
     "execution_count": 101,
     "metadata": {},
     "output_type": "execute_result"
    }
   ],
   "source": [
    "len(doc_name_to_vec)"
   ]
  },
  {
   "cell_type": "code",
   "execution_count": 102,
   "metadata": {
    "collapsed": false
   },
   "outputs": [
    {
     "name": "stdout",
     "output_type": "stream",
     "text": [
      "(19636, 100)\n",
      "-0.00499999 0.005\n"
     ]
    }
   ],
   "source": [
    "all_vecs = np.array(d2v.docvecs)\n",
    "print(all_vecs.shape)\n",
    "\n",
    "print(np.min(all_vecs), np.max(all_vecs))"
   ]
  },
  {
   "cell_type": "code",
   "execution_count": 97,
   "metadata": {
    "collapsed": false
   },
   "outputs": [
    {
     "data": {
      "text/plain": [
       "(19636, 100)"
      ]
     },
     "execution_count": 97,
     "metadata": {},
     "output_type": "execute_result"
    }
   ],
   "source": []
  },
  {
   "cell_type": "code",
   "execution_count": 103,
   "metadata": {
    "collapsed": true
   },
   "outputs": [],
   "source": [
    "rel_doc_vecs = np.array([doc_name_to_vec[doc_id] for doc_id, _ in corpus \n",
    "                if doc_id in gt_relevant or doc_id in vote_relevant])\n",
    "non_rel_doc_vecs = np.array([doc_name_to_vec[doc_id] for doc_id, _ in corpus\n",
    "                    if doc_id in gt_non_relevant or doc_id in vote_non_relevant])"
   ]
  },
  {
   "cell_type": "code",
   "execution_count": 104,
   "metadata": {
    "collapsed": false
   },
   "outputs": [
    {
     "name": "stdout",
     "output_type": "stream",
     "text": [
      "1764 1323\n"
     ]
    }
   ],
   "source": [
    "print(len(rel_doc_vecs), len(non_rel_doc_vecs))"
   ]
  },
  {
   "cell_type": "code",
   "execution_count": 105,
   "metadata": {
    "collapsed": false
   },
   "outputs": [],
   "source": [
    "vec_sims_in = cosine_similarity(rel_doc_vecs)"
   ]
  },
  {
   "cell_type": "code",
   "execution_count": 106,
   "metadata": {
    "collapsed": false
   },
   "outputs": [
    {
     "data": {
      "text/plain": [
       "(1764, 1764)"
      ]
     },
     "execution_count": 106,
     "metadata": {},
     "output_type": "execute_result"
    }
   ],
   "source": [
    "vec_sims_in.shape"
   ]
  },
  {
   "cell_type": "code",
   "execution_count": 118,
   "metadata": {
    "collapsed": false
   },
   "outputs": [],
   "source": [
    "all_topic_rel_non_rel_ids = []\n",
    "for t in topic_ids:\n",
    "    rel_ids, non_rel_ids = topic_rel(t.topic_id, full_text=False)\n",
    "    rel_ids = [doc_name_to_vec[doc_id] for doc_id in rel_ids]\n",
    "    non_rel_ids = [doc_name_to_vec[doc_id] for doc_id in non_rel_ids]\n",
    "    all_topic_rel_non_rel_ids.append((rel_ids, non_rel_ids))"
   ]
  },
  {
   "cell_type": "code",
   "execution_count": 119,
   "metadata": {
    "collapsed": true
   },
   "outputs": [],
   "source": [
    "all_rel_sim_vec = [np.ravel(cosine_similarity(rel_non_rel[0])) for rel_non_rel in all_topic_rel_non_rel_ids]\n",
    "\n",
    "# Outer sim = relevant vs. irrelevant!!!\n",
    "all_non_rel_sim_vec = [np.ravel(cosine_similarity(rel_non_rel[0], rel_non_rel[1])) for rel_non_rel in all_topic_rel_non_rel_ids]"
   ]
  },
  {
   "cell_type": "code",
   "execution_count": 121,
   "metadata": {
    "collapsed": false
   },
   "outputs": [
    {
     "name": "stdout",
     "output_type": "stream",
     "text": [
      "(111560,)\n",
      "(69777,)\n",
      "(113325,)\n",
      "(69777,)\n"
     ]
    }
   ],
   "source": [
    "all_rel_sim_vec_1d = np.concatenate(all_rel_sim_vec)\n",
    "all_non_rel_sim_vec_1d = np.concatenate(all_non_rel_sim_vec)\n",
    "\n",
    "print(all_rel_sim_1d.shape)\n",
    "print(all_non_rel_sim_1d.shape)\n",
    "\n",
    "print(all_rel_sim_vec_1d.shape)\n",
    "print(all_non_rel_sim_vec_1d.shape)"
   ]
  },
  {
   "cell_type": "code",
   "execution_count": 122,
   "metadata": {
    "collapsed": false
   },
   "outputs": [
    {
     "data": {
      "text/plain": [
       "<matplotlib.text.Text at 0x1b0473198>"
      ]
     },
     "execution_count": 122,
     "metadata": {},
     "output_type": "execute_result"
    },
    {
     "data": {
      "image/png": "[encoded data removed]",
      "text/plain": [
       "<matplotlib.figure.Figure at 0x1aacac5c0>"
      ]
     },
     "metadata": {},
     "output_type": "display_data"
    }
   ],
   "source": [
    "_ = plt.hist(all_rel_sim_vec_1d, bins=100, color='cyan', alpha=0.5, label=\"Inner\")\n",
    "_ = plt.hist(all_non_rel_sim_vec_1d, bins=100, color='green', alpha=0.5, label=\"Outer\")\n",
    "plt.legend()\n",
    "plt.title(\"doc2vec histograms with **NO** averaging performed\")"
   ]
  },
  {
   "cell_type": "code",
   "execution_count": null,
   "metadata": {
    "collapsed": true
   },
   "outputs": [],
   "source": []
  }
 ],
 "metadata": {
  "kernelspec": {
   "display_name": "Python 3",
   "language": "python",
   "name": "python3"
  },
  "language_info": {
   "codemirror_mode": {
    "name": "ipython",
    "version": 3
   },
   "file_extension": ".py",
   "mimetype": "text/x-python",
   "name": "python",
   "nbconvert_exporter": "python",
   "pygments_lexer": "ipython3",
   "version": "3.5.2"
  }
 },
 "nbformat": 4,
 "nbformat_minor": 0
}
